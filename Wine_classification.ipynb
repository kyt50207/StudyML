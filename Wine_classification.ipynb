{
  "nbformat": 4,
  "nbformat_minor": 0,
  "metadata": {
    "colab": {
      "name": " Wine classification",
      "private_outputs": true,
      "provenance": [],
      "collapsed_sections": [],
      "authorship_tag": "ABX9TyMFYOVxcV1dDFafpNZC+ZqD",
      "include_colab_link": true
    },
    "kernelspec": {
      "name": "python3",
      "display_name": "Python 3"
    }
  },
  "cells": [
    {
      "cell_type": "markdown",
      "metadata": {
        "id": "view-in-github",
        "colab_type": "text"
      },
      "source": [
        "<a href=\"https://colab.research.google.com/github/kyt50207/StudyML/blob/main/Wine_classification.ipynb\" target=\"_parent\"><img src=\"https://colab.research.google.com/assets/colab-badge.svg\" alt=\"Open In Colab\"/></a>"
      ]
    },
    {
      "cell_type": "code",
      "metadata": {
        "id": "2ntGEba3ddxw"
      },
      "source": [
        "import numpy as np\r\n",
        "import pandas as pd\r\n",
        "import matplotlib.pyplot as plt"
      ],
      "execution_count": null,
      "outputs": []
    },
    {
      "cell_type": "markdown",
      "metadata": {
        "id": "BJhizyVJd21G"
      },
      "source": [
        ""
      ]
    },
    {
      "cell_type": "code",
      "metadata": {
        "id": "SNHbMIiFdpjH"
      },
      "source": [
        "url = \"https://archive.ics.uci.edu/ml/machine-learning-databases/wine-quality/winequality-red.csv\"\r\n",
        "redwine = pd.read_csv(url, sep=\";\" , header=0)\r\n",
        "redwine['type'] = \"red\"\r\n",
        "redwine.head(3)\r\n",
        "\r\n",
        "url_2 = \"https://archive.ics.uci.edu/ml/machine-learning-databases/wine-quality/winequality-white.csv\"\r\n",
        "whitewine = pd.read_csv(url_2 , sep=\";\", header=0)\r\n",
        "whitewine['type'] = \"white\"\r\n",
        "whitewine.head(3)\r\n",
        "\r\n",
        "wine = redwine.append(whitewine)\r\n",
        "wine.shape"
      ],
      "execution_count": null,
      "outputs": []
    },
    {
      "cell_type": "code",
      "metadata": {
        "id": "kI4w-3S5gl-f"
      },
      "source": [
        "wine.columns"
      ],
      "execution_count": null,
      "outputs": []
    },
    {
      "cell_type": "code",
      "metadata": {
        "id": "rhUzzCcFgojj"
      },
      "source": [
        ""
      ],
      "execution_count": null,
      "outputs": []
    },
    {
      "cell_type": "markdown",
      "metadata": {
        "id": "qH7UGNECmQDs"
      },
      "source": [
        "와인 분류"
      ]
    },
    {
      "cell_type": "code",
      "metadata": {
        "id": "G9E6NYBs7ULX"
      },
      "source": [
        ""
      ],
      "execution_count": null,
      "outputs": []
    },
    {
      "cell_type": "code",
      "metadata": {
        "id": "U3grLinNmSvj"
      },
      "source": [
        "import numpy as np\r\n",
        "import pandas as pd\r\n",
        "import matplotlib.pyplot as plt\r\n",
        "\r\n",
        "#데이터 준비\r\n",
        "url = \"https://archive.ics.uci.edu/ml/machine-learning-databases/wine-quality/winequality-red.csv\"\r\n",
        "redwine = pd.read_csv(url, sep=\";\" , header=0)\r\n",
        "redwine['type'] = \"red\"\r\n",
        "redwine.head(3)\r\n",
        "\r\n",
        "url_2 = \"https://archive.ics.uci.edu/ml/machine-learning-databases/wine-quality/winequality-white.csv\"\r\n",
        "whitewine = pd.read_csv(url_2 , sep=\";\", header=0)\r\n",
        "whitewine['type'] = \"white\"\r\n",
        "whitewine.head(3)\r\n",
        "\r\n",
        "wine = redwine.append(whitewine) #wine 데이터프레임 합치기\r\n",
        "wine.shape\r\n",
        "# wine.columns = wine.columns.str.replace(\"\",\"_\") #컬럼명에 들어있는 공백을 언더바로 바꾸기\r\n",
        "\r\n",
        "wine.head()\r\n"
      ],
      "execution_count": null,
      "outputs": []
    },
    {
      "cell_type": "code",
      "metadata": {
        "id": "ooAzogAgm5DJ"
      },
      "source": [
        "wine.describe() #요약통계량\r\n",
        "\r\n",
        "wine.quality.describe() #Series 객체의 describe 함수를 이용한 수치형 변수의 요약통계 출력\r\n",
        "\r\n",
        "sorted(wine.quality.unique())  #quality 변수의 유일값을 오름차순으로 확인 및 빈도수 계산\r\n",
        "wine.quality.value_counts()\r\n",
        "\r\n",
        "wine.groupby(\"type\")[\"quality\"].describe()  #wine 종류별 품질의 기술통계량\r\n",
        "wine.groupby(\"type\")[\"quality\"].quantile([0, 0.25, 0.5, 0.75,1]).unstack(\"type\") #와인 종류별 품질의 사분위수\r\n",
        "                                                                #=데이터프레임으로 변환\r\n",
        "wine[wine[\"type\"]==\"red\"][\"quality\"]\r\n",
        "red_q = wine.loc[wine[\"type\"]==\"red\",\"quality\"]      #와인 종류별 품질의 분포\r\n",
        "white_q = wine.loc[wine[\"type\"]==\"white\",\"quality\"]\r\n",
        "\r\n",
        "import statsmodels.api as sm\r\n",
        "\r\n",
        "t_stat,p_value , df = sm.stats.ttest_ind(red_q, white_q)\r\n",
        "\"t-stat: {:.3f}, p-value: {:.4f}\".format(t_stat,p_value)\r\n",
        "\r\n",
        "# wine.columns = wine.columns.str.replace(\" \",\"_\")\r\n",
        "# wine.head()\r\n",
        "\r\n",
        "import seaborn as sns\r\n",
        "sns.set_style(\"darkgrid\")\r\n",
        "sns.displot(red_q, norm_hist= True , kde=False , color=\"red\" , label=\"Red Wine\")\r\n",
        "sns.displot(white_q, norm_hist= True , kde=False , color=\"blue\" , label=\"White Wine\")\r\n",
        "plt.title(\"Distribution of Quality of Wine Type\")\r\n",
        "plt.xlabel(\"Quality Score\")\r\n",
        "plt.ylabel(\"Density\")\r\n",
        "plt.legend();\r\n",
        "\r\n",
        "\r\n",
        " \r\n",
        "\r\n",
        "\r\n",
        "\r\n",
        "\r\n",
        "\r\n",
        "# 산점도 행렬\r\n",
        "\r\n",
        "# red_sample = wine.loc[wine[\"type\"] == \"red\", :]\r\n",
        "# white_sample = wine.loc[wine[\"type\"] == \"white\", :]\r\n",
        "# red_idx = np.random.choice(red_sample.index, replace= True, size = 200)\r\n",
        "# white_idx = np.random.choice(white_sample.index, replace= True, size = 200)\r\n",
        "# wine_sample = red_sample.loc[red_idx,].append(white_sample.loc[white_idx, ])\r\n",
        "# wine_sample.head()\r\n",
        "\r\n",
        "# import seaborn as sns\r\n",
        "\r\n",
        "# sns.set_style(\"dark\")\r\n",
        "# sns.pairplot(wine_sample ,\r\n",
        "#              vars=[\"quality\", \"alcohol\",\"residual_sugar\"],\r\n",
        "#              kind=\"reg\",plot_kws={\"ci\":False,\"x_jitter\":0.25,\"y_jitter\":0.25},\r\n",
        "#              diag_kind=\"hist\", diag_kws={\"bins\":10,\"alpha\":1},\r\n",
        "#              hue=\"type\", palette= dict(red=\"red\", white=\"blue\", markers=[\"o\",\"s\"]));\r\n",
        "# wine"
      ],
      "execution_count": null,
      "outputs": []
    }
  ]
}