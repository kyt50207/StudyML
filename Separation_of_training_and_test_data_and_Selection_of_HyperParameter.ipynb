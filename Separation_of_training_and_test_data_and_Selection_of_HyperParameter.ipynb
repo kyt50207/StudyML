{
  "nbformat": 4,
  "nbformat_minor": 0,
  "metadata": {
    "colab": {
      "name": " Separation of training and test data and Selection of HyperParameter",
      "private_outputs": true,
      "provenance": [],
      "authorship_tag": "ABX9TyNAo3yjM4NEBuHSxD14+W1s",
      "include_colab_link": true
    },
    "kernelspec": {
      "name": "python3",
      "display_name": "Python 3"
    }
  },
  "cells": [
    {
      "cell_type": "markdown",
      "metadata": {
        "id": "view-in-github",
        "colab_type": "text"
      },
      "source": [
        "<a href=\"https://colab.research.google.com/github/kyt50207/StudyML/blob/main/Separation_of_training_and_test_data_and_Selection_of_HyperParameter.ipynb\" target=\"_parent\"><img src=\"https://colab.research.google.com/assets/colab-badge.svg\" alt=\"Open In Colab\"/></a>"
      ]
    },
    {
      "cell_type": "markdown",
      "metadata": {
        "id": "TOtx-sGeS2j8"
      },
      "source": [
        "# **(훈련 데이터와 테스트 데이터 분리)**"
      ]
    },
    {
      "cell_type": "markdown",
      "metadata": {
        "id": "ZEkVxppXTbQt"
      },
      "source": [
        "-머신 러닝 모델을 만들 때 사용한 데이터는 모델의 성능측정용으로 사용하지 않음\r\n",
        "\r\n",
        "-훈련 데이터 : 머신러닝모델을 만들 목적으로 사용\r\n",
        "\r\n",
        "-테스트 데이터 : 머신러닝모델이 잘 작동하는지를 측정할 목적으로 사용\r\n",
        "\r\n",
        "-scikit-learn의 train_test_split 함수를 주로 사용\r\n",
        "(훈련용 3 : 테스트용 1 구성)"
      ]
    },
    {
      "cell_type": "code",
      "metadata": {
        "id": "zEQjZTjOUMZ5"
      },
      "source": [
        "import numpy as np\r\n",
        "\r\n",
        "import pandas as pd\r\n",
        "import seaborn as sns\r\n",
        "\r\n",
        "from sklearn.datasets import load_iris\r\n",
        "iris = load_iris()\r\n",
        "\r\n",
        "X= iris.data\r\n",
        "y= iris.target"
      ],
      "execution_count": null,
      "outputs": []
    },
    {
      "cell_type": "code",
      "metadata": {
        "id": "SIs-8p3fS1Nn"
      },
      "source": [
        "from sklearn.model_selection import train_test_split\r\n",
        "\r\n",
        "X_train , X_test , y_train , y_test = train_test_split(\r\n",
        "    X , y ,test_size =0.2 , random_state=25\r\n",
        ")                           #데이터 재현을 위한 seed 값\r\n",
        "\r\n",
        "X_train.shape , X_test.shape , y_train.shape , y_test.shape\r\n",
        "\r\n",
        "\r\n",
        "from sklearn.neighbors import KNeighborsClassifier\r\n",
        "knn= KNeighborsClassifier(n_neighbors=1)\r\n",
        "\r\n",
        "\r\n",
        "knn.fit(X_train,y_train)   #훈련데이터로 fit\r\n",
        "\r\n",
        "\r\n",
        "y_pred = knn.predict(X_test)    #이제 테스트 데이터로 예측\r\n",
        "y_pred\r\n",
        "np.mean(y_test == y_pred)\r\n",
        "knn.score(X_test, y_test)     #모델 정확도 계산\r\n",
        "from sklearn.metrics import accuracy_score\r\n",
        "\r\n",
        "accuracy_score(y_test,y_pred)  #모델 정확도 계산"
      ],
      "execution_count": null,
      "outputs": []
    },
    {
      "cell_type": "markdown",
      "metadata": {
        "id": "JKiNtvMAYcIu"
      },
      "source": [
        "# **하이퍼 파리미터의 선택**"
      ]
    },
    {
      "cell_type": "code",
      "metadata": {
        "id": "0ardSe_-UCQ8"
      },
      "source": [
        ""
      ],
      "execution_count": null,
      "outputs": []
    },
    {
      "cell_type": "code",
      "metadata": {
        "id": "IVkLgrB5sqsQ"
      },
      "source": [
        "train_accuracy = []\r\n",
        "test_accuracy =[]\r\n",
        "neighbors = range(1,11) #range를 다양하게 변화를 줄수 있다\r\n",
        "for n in neighbors:\r\n",
        "  knn = KNeighborsClassifier(n_neighbors=n)\r\n",
        "  knn.fit(X_train,y_train)\r\n",
        "\r\n",
        "  print(\"n = \",n,\" train = \", knn.score(X_train,y_train), \"test = \",knn.score(X_test,  y_test))\r\n",
        "  train_accuracy.append(knn.score(X_train, y_train))\r\n",
        "  test_accuracy.append(knn.score(X_test, y_test))"
      ],
      "execution_count": null,
      "outputs": []
    },
    {
      "cell_type": "code",
      "metadata": {
        "id": "074VpOoQYvBk"
      },
      "source": [
        "import matplotlib.pyplot as plt\r\n",
        "%matplotlib inline\r\n",
        "\r\n",
        "plt.plot(neighbors, train_accuracy, label=\"train accuracy\")\r\n",
        "plt.plot(neighbors, test_accuracy, label= \"test accuracy\")\r\n",
        "plt.xlabel(\"n_neibors\")\r\n",
        "plt.ylabel(\"accuracy\")\r\n",
        "plt.legend();  #파라미터를 변경해가면서 가장 높은 정확도를 보이는 모델 생성을 위한 하이퍼파리미터 선택가능"
      ],
      "execution_count": null,
      "outputs": []
    },
    {
      "cell_type": "code",
      "metadata": {
        "id": "qFqjpMgSY8yw"
      },
      "source": [
        ""
      ],
      "execution_count": null,
      "outputs": []
    }
  ]
}