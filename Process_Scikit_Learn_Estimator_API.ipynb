{
  "nbformat": 4,
  "nbformat_minor": 0,
  "metadata": {
    "colab": {
      "name": "Process_Scikit_Learn_Estimator_API",
      "private_outputs": true,
      "provenance": [],
      "authorship_tag": "ABX9TyOx7QcGu2Wl2p2VV5AKBYDU",
      "include_colab_link": true
    },
    "kernelspec": {
      "name": "python3",
      "display_name": "Python 3"
    }
  },
  "cells": [
    {
      "cell_type": "markdown",
      "metadata": {
        "id": "view-in-github",
        "colab_type": "text"
      },
      "source": [
        "<a href=\"https://colab.research.google.com/github/kyt50207/StudyML/blob/main/Process_Scikit_Learn_Estimator_API.ipynb\" target=\"_parent\"><img src=\"https://colab.research.google.com/assets/colab-badge.svg\" alt=\"Open In Colab\"/></a>"
      ]
    },
    {
      "cell_type": "markdown",
      "metadata": {
        "id": "wDXnJTnuJ9hg"
      },
      "source": [
        "# (Scikit-Learn Estimator API 기본 활용 절차)"
      ]
    },
    {
      "cell_type": "markdown",
      "metadata": {
        "id": "XWxKN2liKFgJ"
      },
      "source": [
        "\r\n",
        "\r\n",
        "1.   데이터 준비\r\n",
        "2.   모델 클래스 선택\r\n",
        "3.   모델 인스턴스 생성과 하이퍼파라미터 선택(디폴트값)\r\n",
        "4.   특징 행렬과 대상 벡터 준비 (지도학습)\r\n",
        "5.   모델을 데이터에 적합  (fitting)\r\n",
        "6.   새로운 데이터를 이용해 예측\r\n",
        "7.   모델 평가  (평가 지표)\r\n",
        "\r\n"
      ]
    },
    {
      "cell_type": "markdown",
      "metadata": {
        "id": "wMKRiQUUK22o"
      },
      "source": [
        "1.데이터 준비"
      ]
    },
    {
      "cell_type": "code",
      "metadata": {
        "id": "bzhDbXBsKBoc"
      },
      "source": [
        "import numpy as np\r\n",
        "import matplotlib.pyplot as plt\r\n",
        "\r\n",
        "rs = np.random.RandomState(10)\r\n",
        "x = 10 * rs.rand(100)\r\n",
        "y = 3 * x + 2 * rs.rand(100)\r\n",
        "x.shape"
      ],
      "execution_count": null,
      "outputs": []
    },
    {
      "cell_type": "code",
      "metadata": {
        "id": "islIwE5qLNid"
      },
      "source": [
        "x[:5] #5개만 뽑기\r\n",
        "x.reshape(-1,2,5)[:5] #x를 n*2*5 형태로 reshape 해서 5개뽑아보기"
      ],
      "execution_count": null,
      "outputs": []
    },
    {
      "cell_type": "code",
      "metadata": {
        "id": "mJLPpuUyL1kN"
      },
      "source": [
        "plt.scatter(x, y, s=30)"
      ],
      "execution_count": null,
      "outputs": []
    },
    {
      "cell_type": "markdown",
      "metadata": {
        "id": "RreFDW0yMQfQ"
      },
      "source": [
        "2.모델 클래스 선택"
      ]
    },
    {
      "cell_type": "markdown",
      "metadata": {
        "id": "LZzctqhKMU4i"
      },
      "source": [
        "3.모델 인스턴스 생성과 하이퍼마라미터 선택"
      ]
    },
    {
      "cell_type": "code",
      "metadata": {
        "id": "_z62j5CfMUNF"
      },
      "source": [
        "from sklearn.linear_model import LinearRegression     #입력데이터 x, 출력데이터 y 모두 연속형수치데이터므로  그에 맞는 분석 모델을 선택\r\n",
        "regr = LinearRegression()                             # 선형회귀 객체(인스턴스) 생성 -디폴트\r\n",
        "                \r\n",
        "from sklearn.linear_model import LinearRegression     #선형회귀 객체(인스턴스) 생성 - \r\n",
        "regr = LinearRegression(fit_intercept=True)           #(fit_intercept=True 라는 하이퍼파라미터를 제공)"
      ],
      "execution_count": null,
      "outputs": []
    },
    {
      "cell_type": "markdown",
      "metadata": {
        "id": "MUnMccibPEeF"
      },
      "source": [
        "4.특정행렬과 대상벡터준비"
      ]
    },
    {
      "cell_type": "code",
      "metadata": {
        "id": "50pEb6WxPF70"
      },
      "source": [
        "X = x.reshape(-1,1)\r\n",
        "X.shape , y.shape"
      ],
      "execution_count": null,
      "outputs": []
    },
    {
      "cell_type": "markdown",
      "metadata": {
        "id": "IissZU9YPMU_"
      },
      "source": [
        "5.모델을 데이터에 적합"
      ]
    },
    {
      "cell_type": "code",
      "metadata": {
        "id": "02DtkAJjPNam"
      },
      "source": [
        "regr.fit(X,y)  #X,y에 맞는 선형 회귀 모델을 적합 (모델 생성)"
      ],
      "execution_count": null,
      "outputs": []
    },
    {
      "cell_type": "code",
      "metadata": {
        "id": "DAHxTFUFPVEx"
      },
      "source": [
        "regr.coef_ #모델의 기울기"
      ],
      "execution_count": null,
      "outputs": []
    },
    {
      "cell_type": "code",
      "metadata": {
        "id": "ZWnobAcEPgHz"
      },
      "source": [
        "regr.intercept_ #모델의 y절편"
      ],
      "execution_count": null,
      "outputs": []
    },
    {
      "cell_type": "markdown",
      "metadata": {
        "id": "FI6cOuSzPnA4"
      },
      "source": [
        "6.새로운 데이터를 이용해 예측"
      ]
    },
    {
      "cell_type": "code",
      "metadata": {
        "id": "p_vDO3BQPjTW"
      },
      "source": [
        "x_new = np.linspace(-1,11, num=100)\r\n",
        "X_new=x_new.reshape(-1,1)\r\n",
        "X_new.shape"
      ],
      "execution_count": null,
      "outputs": []
    },
    {
      "cell_type": "code",
      "metadata": {
        "id": "ZExoda50PzQI"
      },
      "source": [
        "y_pred = regr.predict(X_new)  #새로 입력된 X_new에 대한 모델 예측값 생성"
      ],
      "execution_count": null,
      "outputs": []
    },
    {
      "cell_type": "code",
      "metadata": {
        "id": "IWncMV-cQIkT"
      },
      "source": [
        "plt.plot(x_new,y_pred,c=\"red\")\r\n",
        "plt.scatter(x,y,s=10)"
      ],
      "execution_count": null,
      "outputs": []
    },
    {
      "cell_type": "markdown",
      "metadata": {
        "id": "ub86o5u_QTWA"
      },
      "source": [
        "7.모델평가"
      ]
    },
    {
      "cell_type": "code",
      "metadata": {
        "id": "dCGuaOmlQUvW"
      },
      "source": [
        "from sklearn.metrics import mean_squared_error\r\n",
        "\r\n",
        "rmse = np.sqrt(mean_squared_error(y,y_pred)) #Root Mean Square Error : 관측값들간의 상호간 편차\r\n",
        "rmse                                         #실제값과 추정값과의 차이가 얼마인가를 알려주는데 많이 사용되는 척도"
      ],
      "execution_count": null,
      "outputs": []
    }
  ]
}