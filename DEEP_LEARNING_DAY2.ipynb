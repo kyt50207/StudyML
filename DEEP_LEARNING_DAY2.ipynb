{
  "nbformat": 4,
  "nbformat_minor": 0,
  "metadata": {
    "colab": {
      "name": "DEEP LEARNING DAY2",
      "provenance": [],
      "collapsed_sections": [],
      "authorship_tag": "ABX9TyPzoeqYu/o5Cu95Ni2Xrtoe",
      "include_colab_link": true
    },
    "kernelspec": {
      "name": "python3",
      "display_name": "Python 3"
    }
  },
  "cells": [
    {
      "cell_type": "markdown",
      "metadata": {
        "id": "view-in-github",
        "colab_type": "text"
      },
      "source": [
        "<a href=\"https://colab.research.google.com/github/kyt50207/StudyML/blob/main/DEEP_LEARNING_DAY2.ipynb\" target=\"_parent\"><img src=\"https://colab.research.google.com/assets/colab-badge.svg\" alt=\"Open In Colab\"/></a>"
      ]
    },
    {
      "cell_type": "code",
      "metadata": {
        "id": "1DEXxhPSDXmu"
      },
      "source": [
        "from sklearn.ensemble import RandomForestClassifier"
      ],
      "execution_count": 1,
      "outputs": []
    },
    {
      "cell_type": "code",
      "metadata": {
        "id": "Ir69X4eFDijM"
      },
      "source": [
        "clf = RandomForestClassifier(random_state=123)\r\n",
        "X = [[ 80,  95,  80],  \r\n",
        "     [67, 88, 75],\r\n",
        "     [75,64,55],\r\n",
        "     [100,46,65]]\r\n",
        "y = [1,1,0,0]"
      ],
      "execution_count": 2,
      "outputs": []
    },
    {
      "cell_type": "code",
      "metadata": {
        "colab": {
          "base_uri": "https://localhost:8080/"
        },
        "id": "sArseNkREInZ",
        "outputId": "a36c2a1c-ad33-4e86-94b8-9e5d417aac63"
      },
      "source": [
        "clf.fit(X, y)"
      ],
      "execution_count": 3,
      "outputs": [
        {
          "output_type": "execute_result",
          "data": {
            "text/plain": [
              "RandomForestClassifier(bootstrap=True, ccp_alpha=0.0, class_weight=None,\n",
              "                       criterion='gini', max_depth=None, max_features='auto',\n",
              "                       max_leaf_nodes=None, max_samples=None,\n",
              "                       min_impurity_decrease=0.0, min_impurity_split=None,\n",
              "                       min_samples_leaf=1, min_samples_split=2,\n",
              "                       min_weight_fraction_leaf=0.0, n_estimators=100,\n",
              "                       n_jobs=None, oob_score=False, random_state=123,\n",
              "                       verbose=0, warm_start=False)"
            ]
          },
          "metadata": {
            "tags": []
          },
          "execution_count": 3
        }
      ]
    },
    {
      "cell_type": "code",
      "metadata": {
        "colab": {
          "base_uri": "https://localhost:8080/"
        },
        "id": "zDn-jOiXELYS",
        "outputId": "68cd5d02-07b4-4b0e-aa2b-7da5504dc3bf"
      },
      "source": [
        "clf.predict(X)"
      ],
      "execution_count": 4,
      "outputs": [
        {
          "output_type": "execute_result",
          "data": {
            "text/plain": [
              "array([1, 1, 0, 0])"
            ]
          },
          "metadata": {
            "tags": []
          },
          "execution_count": 4
        }
      ]
    },
    {
      "cell_type": "code",
      "metadata": {
        "colab": {
          "base_uri": "https://localhost:8080/"
        },
        "id": "7os_g7wLEOJ3",
        "outputId": "6331a790-e787-41dc-939e-6a11e6fde3d9"
      },
      "source": [
        "clf.predict([[76,75,68]]) "
      ],
      "execution_count": 5,
      "outputs": [
        {
          "output_type": "execute_result",
          "data": {
            "text/plain": [
              "array([0])"
            ]
          },
          "metadata": {
            "tags": []
          },
          "execution_count": 5
        }
      ]
    },
    {
      "cell_type": "code",
      "metadata": {
        "id": "LciljcmtEVmp"
      },
      "source": [
        "#@title iris데이터셋\n"
      ],
      "execution_count": 7,
      "outputs": []
    },
    {
      "cell_type": "code",
      "metadata": {
        "colab": {
          "base_uri": "https://localhost:8080/"
        },
        "id": "L1gjx8qMHGmB",
        "outputId": "dea4e138-43ca-4a09-bd01-1a30f38be3b9"
      },
      "source": [
        "import seaborn as sns\r\n",
        "iris = sns.load_dataset(\"iris\")\r\n",
        "iris.info()"
      ],
      "execution_count": 8,
      "outputs": [
        {
          "output_type": "stream",
          "text": [
            "<class 'pandas.core.frame.DataFrame'>\n",
            "RangeIndex: 150 entries, 0 to 149\n",
            "Data columns (total 5 columns):\n",
            " #   Column        Non-Null Count  Dtype  \n",
            "---  ------        --------------  -----  \n",
            " 0   sepal_length  150 non-null    float64\n",
            " 1   sepal_width   150 non-null    float64\n",
            " 2   petal_length  150 non-null    float64\n",
            " 3   petal_width   150 non-null    float64\n",
            " 4   species       150 non-null    object \n",
            "dtypes: float64(4), object(1)\n",
            "memory usage: 6.0+ KB\n"
          ],
          "name": "stdout"
        }
      ]
    },
    {
      "cell_type": "code",
      "metadata": {
        "colab": {
          "base_uri": "https://localhost:8080/"
        },
        "id": "2LwtmAeCHfeN",
        "outputId": "39bad795-f298-4c64-d9ec-dca6ecfc73e7"
      },
      "source": [
        "iris.info()  #info로 데이터 구조 파악하기"
      ],
      "execution_count": 9,
      "outputs": [
        {
          "output_type": "stream",
          "text": [
            "<class 'pandas.core.frame.DataFrame'>\n",
            "RangeIndex: 150 entries, 0 to 149\n",
            "Data columns (total 5 columns):\n",
            " #   Column        Non-Null Count  Dtype  \n",
            "---  ------        --------------  -----  \n",
            " 0   sepal_length  150 non-null    float64\n",
            " 1   sepal_width   150 non-null    float64\n",
            " 2   petal_length  150 non-null    float64\n",
            " 3   petal_width   150 non-null    float64\n",
            " 4   species       150 non-null    object \n",
            "dtypes: float64(4), object(1)\n",
            "memory usage: 6.0+ KB\n"
          ],
          "name": "stdout"
        }
      ]
    },
    {
      "cell_type": "code",
      "metadata": {
        "colab": {
          "base_uri": "https://localhost:8080/",
          "height": 204
        },
        "id": "v4W-a9JmHyFl",
        "outputId": "40e79e89-cf5d-4594-91bf-e2ab2fcdda06"
      },
      "source": [
        "iris.head()"
      ],
      "execution_count": 10,
      "outputs": [
        {
          "output_type": "execute_result",
          "data": {
            "text/html": [
              "<div>\n",
              "<style scoped>\n",
              "    .dataframe tbody tr th:only-of-type {\n",
              "        vertical-align: middle;\n",
              "    }\n",
              "\n",
              "    .dataframe tbody tr th {\n",
              "        vertical-align: top;\n",
              "    }\n",
              "\n",
              "    .dataframe thead th {\n",
              "        text-align: right;\n",
              "    }\n",
              "</style>\n",
              "<table border=\"1\" class=\"dataframe\">\n",
              "  <thead>\n",
              "    <tr style=\"text-align: right;\">\n",
              "      <th></th>\n",
              "      <th>sepal_length</th>\n",
              "      <th>sepal_width</th>\n",
              "      <th>petal_length</th>\n",
              "      <th>petal_width</th>\n",
              "      <th>species</th>\n",
              "    </tr>\n",
              "  </thead>\n",
              "  <tbody>\n",
              "    <tr>\n",
              "      <th>0</th>\n",
              "      <td>5.1</td>\n",
              "      <td>3.5</td>\n",
              "      <td>1.4</td>\n",
              "      <td>0.2</td>\n",
              "      <td>setosa</td>\n",
              "    </tr>\n",
              "    <tr>\n",
              "      <th>1</th>\n",
              "      <td>4.9</td>\n",
              "      <td>3.0</td>\n",
              "      <td>1.4</td>\n",
              "      <td>0.2</td>\n",
              "      <td>setosa</td>\n",
              "    </tr>\n",
              "    <tr>\n",
              "      <th>2</th>\n",
              "      <td>4.7</td>\n",
              "      <td>3.2</td>\n",
              "      <td>1.3</td>\n",
              "      <td>0.2</td>\n",
              "      <td>setosa</td>\n",
              "    </tr>\n",
              "    <tr>\n",
              "      <th>3</th>\n",
              "      <td>4.6</td>\n",
              "      <td>3.1</td>\n",
              "      <td>1.5</td>\n",
              "      <td>0.2</td>\n",
              "      <td>setosa</td>\n",
              "    </tr>\n",
              "    <tr>\n",
              "      <th>4</th>\n",
              "      <td>5.0</td>\n",
              "      <td>3.6</td>\n",
              "      <td>1.4</td>\n",
              "      <td>0.2</td>\n",
              "      <td>setosa</td>\n",
              "    </tr>\n",
              "  </tbody>\n",
              "</table>\n",
              "</div>"
            ],
            "text/plain": [
              "   sepal_length  sepal_width  petal_length  petal_width species\n",
              "0           5.1          3.5           1.4          0.2  setosa\n",
              "1           4.9          3.0           1.4          0.2  setosa\n",
              "2           4.7          3.2           1.3          0.2  setosa\n",
              "3           4.6          3.1           1.5          0.2  setosa\n",
              "4           5.0          3.6           1.4          0.2  setosa"
            ]
          },
          "metadata": {
            "tags": []
          },
          "execution_count": 10
        }
      ]
    },
    {
      "cell_type": "code",
      "metadata": {
        "colab": {
          "base_uri": "https://localhost:8080/"
        },
        "id": "bQ6PDnngH6_S",
        "outputId": "4d2f4996-1e22-48cb-e270-34e55c5a4619"
      },
      "source": [
        "X= iris.drop(\"species\",axis=1)  #species 열이 삭제된 X데이터프레임\r\n",
        "X.shape                         #drop은 기본적으로 axis =0을 기본값으로 가지기때문에 axis= 1추가            "
      ],
      "execution_count": 11,
      "outputs": [
        {
          "output_type": "execute_result",
          "data": {
            "text/plain": [
              "(150, 4)"
            ]
          },
          "metadata": {
            "tags": []
          },
          "execution_count": 11
        }
      ]
    },
    {
      "cell_type": "code",
      "metadata": {
        "colab": {
          "base_uri": "https://localhost:8080/",
          "height": 419
        },
        "id": "VHAxccWkJWRS",
        "outputId": "809b8a36-263c-441b-a8d3-7c3ed42f696e"
      },
      "source": [
        "X"
      ],
      "execution_count": 12,
      "outputs": [
        {
          "output_type": "execute_result",
          "data": {
            "text/html": [
              "<div>\n",
              "<style scoped>\n",
              "    .dataframe tbody tr th:only-of-type {\n",
              "        vertical-align: middle;\n",
              "    }\n",
              "\n",
              "    .dataframe tbody tr th {\n",
              "        vertical-align: top;\n",
              "    }\n",
              "\n",
              "    .dataframe thead th {\n",
              "        text-align: right;\n",
              "    }\n",
              "</style>\n",
              "<table border=\"1\" class=\"dataframe\">\n",
              "  <thead>\n",
              "    <tr style=\"text-align: right;\">\n",
              "      <th></th>\n",
              "      <th>sepal_length</th>\n",
              "      <th>sepal_width</th>\n",
              "      <th>petal_length</th>\n",
              "      <th>petal_width</th>\n",
              "    </tr>\n",
              "  </thead>\n",
              "  <tbody>\n",
              "    <tr>\n",
              "      <th>0</th>\n",
              "      <td>5.1</td>\n",
              "      <td>3.5</td>\n",
              "      <td>1.4</td>\n",
              "      <td>0.2</td>\n",
              "    </tr>\n",
              "    <tr>\n",
              "      <th>1</th>\n",
              "      <td>4.9</td>\n",
              "      <td>3.0</td>\n",
              "      <td>1.4</td>\n",
              "      <td>0.2</td>\n",
              "    </tr>\n",
              "    <tr>\n",
              "      <th>2</th>\n",
              "      <td>4.7</td>\n",
              "      <td>3.2</td>\n",
              "      <td>1.3</td>\n",
              "      <td>0.2</td>\n",
              "    </tr>\n",
              "    <tr>\n",
              "      <th>3</th>\n",
              "      <td>4.6</td>\n",
              "      <td>3.1</td>\n",
              "      <td>1.5</td>\n",
              "      <td>0.2</td>\n",
              "    </tr>\n",
              "    <tr>\n",
              "      <th>4</th>\n",
              "      <td>5.0</td>\n",
              "      <td>3.6</td>\n",
              "      <td>1.4</td>\n",
              "      <td>0.2</td>\n",
              "    </tr>\n",
              "    <tr>\n",
              "      <th>...</th>\n",
              "      <td>...</td>\n",
              "      <td>...</td>\n",
              "      <td>...</td>\n",
              "      <td>...</td>\n",
              "    </tr>\n",
              "    <tr>\n",
              "      <th>145</th>\n",
              "      <td>6.7</td>\n",
              "      <td>3.0</td>\n",
              "      <td>5.2</td>\n",
              "      <td>2.3</td>\n",
              "    </tr>\n",
              "    <tr>\n",
              "      <th>146</th>\n",
              "      <td>6.3</td>\n",
              "      <td>2.5</td>\n",
              "      <td>5.0</td>\n",
              "      <td>1.9</td>\n",
              "    </tr>\n",
              "    <tr>\n",
              "      <th>147</th>\n",
              "      <td>6.5</td>\n",
              "      <td>3.0</td>\n",
              "      <td>5.2</td>\n",
              "      <td>2.0</td>\n",
              "    </tr>\n",
              "    <tr>\n",
              "      <th>148</th>\n",
              "      <td>6.2</td>\n",
              "      <td>3.4</td>\n",
              "      <td>5.4</td>\n",
              "      <td>2.3</td>\n",
              "    </tr>\n",
              "    <tr>\n",
              "      <th>149</th>\n",
              "      <td>5.9</td>\n",
              "      <td>3.0</td>\n",
              "      <td>5.1</td>\n",
              "      <td>1.8</td>\n",
              "    </tr>\n",
              "  </tbody>\n",
              "</table>\n",
              "<p>150 rows × 4 columns</p>\n",
              "</div>"
            ],
            "text/plain": [
              "     sepal_length  sepal_width  petal_length  petal_width\n",
              "0             5.1          3.5           1.4          0.2\n",
              "1             4.9          3.0           1.4          0.2\n",
              "2             4.7          3.2           1.3          0.2\n",
              "3             4.6          3.1           1.5          0.2\n",
              "4             5.0          3.6           1.4          0.2\n",
              "..            ...          ...           ...          ...\n",
              "145           6.7          3.0           5.2          2.3\n",
              "146           6.3          2.5           5.0          1.9\n",
              "147           6.5          3.0           5.2          2.0\n",
              "148           6.2          3.4           5.4          2.3\n",
              "149           5.9          3.0           5.1          1.8\n",
              "\n",
              "[150 rows x 4 columns]"
            ]
          },
          "metadata": {
            "tags": []
          },
          "execution_count": 12
        }
      ]
    },
    {
      "cell_type": "code",
      "metadata": {
        "colab": {
          "base_uri": "https://localhost:8080/"
        },
        "id": "05xkmJoQJX6d",
        "outputId": "0dac8a0d-52d3-48fb-99ff-40d95b1e0131"
      },
      "source": [
        "X1 = iris[\"sepal_length\"] ;X1"
      ],
      "execution_count": 14,
      "outputs": [
        {
          "output_type": "execute_result",
          "data": {
            "text/plain": [
              "0      5.1\n",
              "1      4.9\n",
              "2      4.7\n",
              "3      4.6\n",
              "4      5.0\n",
              "      ... \n",
              "145    6.7\n",
              "146    6.3\n",
              "147    6.5\n",
              "148    6.2\n",
              "149    5.9\n",
              "Name: sepal_length, Length: 150, dtype: float64"
            ]
          },
          "metadata": {
            "tags": []
          },
          "execution_count": 14
        }
      ]
    },
    {
      "cell_type": "code",
      "metadata": {
        "colab": {
          "base_uri": "https://localhost:8080/"
        },
        "id": "s6vTROCvKBw-",
        "outputId": "eee3b590-d714-48c4-e02c-5c7c0693f42a"
      },
      "source": [
        "y = iris[\"species\"] ; y.shape ; y"
      ],
      "execution_count": 16,
      "outputs": [
        {
          "output_type": "execute_result",
          "data": {
            "text/plain": [
              "0         setosa\n",
              "1         setosa\n",
              "2         setosa\n",
              "3         setosa\n",
              "4         setosa\n",
              "         ...    \n",
              "145    virginica\n",
              "146    virginica\n",
              "147    virginica\n",
              "148    virginica\n",
              "149    virginica\n",
              "Name: species, Length: 150, dtype: object"
            ]
          },
          "metadata": {
            "tags": []
          },
          "execution_count": 16
        }
      ]
    },
    {
      "cell_type": "code",
      "metadata": {
        "colab": {
          "base_uri": "https://localhost:8080/"
        },
        "id": "BQejMioeLOaF",
        "outputId": "a718f2a1-f67a-47a5-bb11-55f4b08d090f"
      },
      "source": [
        "iris[\"species\"].unique()\r\n",
        "#iris.species"
      ],
      "execution_count": 18,
      "outputs": [
        {
          "output_type": "execute_result",
          "data": {
            "text/plain": [
              "array(['setosa', 'versicolor', 'virginica'], dtype=object)"
            ]
          },
          "metadata": {
            "tags": []
          },
          "execution_count": 18
        }
      ]
    },
    {
      "cell_type": "code",
      "metadata": {
        "colab": {
          "base_uri": "https://localhost:8080/",
          "height": 142
        },
        "id": "n5r1Z33MPBKF",
        "outputId": "a61380db-7015-40bb-b4cf-ee9c4ad5b90c"
      },
      "source": [
        "iris.iloc[:,0:4].head(3)"
      ],
      "execution_count": 20,
      "outputs": [
        {
          "output_type": "execute_result",
          "data": {
            "text/html": [
              "<div>\n",
              "<style scoped>\n",
              "    .dataframe tbody tr th:only-of-type {\n",
              "        vertical-align: middle;\n",
              "    }\n",
              "\n",
              "    .dataframe tbody tr th {\n",
              "        vertical-align: top;\n",
              "    }\n",
              "\n",
              "    .dataframe thead th {\n",
              "        text-align: right;\n",
              "    }\n",
              "</style>\n",
              "<table border=\"1\" class=\"dataframe\">\n",
              "  <thead>\n",
              "    <tr style=\"text-align: right;\">\n",
              "      <th></th>\n",
              "      <th>sepal_length</th>\n",
              "      <th>sepal_width</th>\n",
              "      <th>petal_length</th>\n",
              "      <th>petal_width</th>\n",
              "    </tr>\n",
              "  </thead>\n",
              "  <tbody>\n",
              "    <tr>\n",
              "      <th>0</th>\n",
              "      <td>5.1</td>\n",
              "      <td>3.5</td>\n",
              "      <td>1.4</td>\n",
              "      <td>0.2</td>\n",
              "    </tr>\n",
              "    <tr>\n",
              "      <th>1</th>\n",
              "      <td>4.9</td>\n",
              "      <td>3.0</td>\n",
              "      <td>1.4</td>\n",
              "      <td>0.2</td>\n",
              "    </tr>\n",
              "    <tr>\n",
              "      <th>2</th>\n",
              "      <td>4.7</td>\n",
              "      <td>3.2</td>\n",
              "      <td>1.3</td>\n",
              "      <td>0.2</td>\n",
              "    </tr>\n",
              "  </tbody>\n",
              "</table>\n",
              "</div>"
            ],
            "text/plain": [
              "   sepal_length  sepal_width  petal_length  petal_width\n",
              "0           5.1          3.5           1.4          0.2\n",
              "1           4.9          3.0           1.4          0.2\n",
              "2           4.7          3.2           1.3          0.2"
            ]
          },
          "metadata": {
            "tags": []
          },
          "execution_count": 20
        }
      ]
    },
    {
      "cell_type": "code",
      "metadata": {
        "colab": {
          "base_uri": "https://localhost:8080/"
        },
        "id": "_pvG3FAXPeJT",
        "outputId": "c9003e42-7fa5-4841-9a44-36d4fc461c20"
      },
      "source": [
        "#결측치 확인\r\n",
        "iris.isnull().sum()"
      ],
      "execution_count": 21,
      "outputs": [
        {
          "output_type": "execute_result",
          "data": {
            "text/plain": [
              "sepal_length    0\n",
              "sepal_width     0\n",
              "petal_length    0\n",
              "petal_width     0\n",
              "species         0\n",
              "dtype: int64"
            ]
          },
          "metadata": {
            "tags": []
          },
          "execution_count": 21
        }
      ]
    },
    {
      "cell_type": "code",
      "metadata": {
        "colab": {
          "base_uri": "https://localhost:8080/"
        },
        "id": "O-6SwDDXQPln",
        "outputId": "45551d1e-c96b-476b-db3a-452100defb8f"
      },
      "source": [
        "from sklearn.datasets import load_iris\r\n",
        "iris = load_iris()\r\n",
        "type(iris)"
      ],
      "execution_count": 22,
      "outputs": [
        {
          "output_type": "execute_result",
          "data": {
            "text/plain": [
              "sklearn.utils.Bunch"
            ]
          },
          "metadata": {
            "tags": []
          },
          "execution_count": 22
        }
      ]
    },
    {
      "cell_type": "code",
      "metadata": {
        "colab": {
          "base_uri": "https://localhost:8080/"
        },
        "id": "ysQhTXq4Qugk",
        "outputId": "4eda3a66-8b3b-484f-8d7d-beab9c700b71"
      },
      "source": [
        "iris.keys()"
      ],
      "execution_count": 24,
      "outputs": [
        {
          "output_type": "execute_result",
          "data": {
            "text/plain": [
              "dict_keys(['data', 'target', 'target_names', 'DESCR', 'feature_names', 'filename'])"
            ]
          },
          "metadata": {
            "tags": []
          },
          "execution_count": 24
        }
      ]
    },
    {
      "cell_type": "code",
      "metadata": {
        "colab": {
          "base_uri": "https://localhost:8080/"
        },
        "id": "8flT95S8Qwy4",
        "outputId": "7e69c319-79a8-4e7e-b7f1-fead743f28af"
      },
      "source": [
        "iris.feature_names"
      ],
      "execution_count": 26,
      "outputs": [
        {
          "output_type": "execute_result",
          "data": {
            "text/plain": [
              "['sepal length (cm)',\n",
              " 'sepal width (cm)',\n",
              " 'petal length (cm)',\n",
              " 'petal width (cm)']"
            ]
          },
          "metadata": {
            "tags": []
          },
          "execution_count": 26
        }
      ]
    },
    {
      "cell_type": "code",
      "metadata": {
        "colab": {
          "base_uri": "https://localhost:8080/"
        },
        "id": "-dGveL9GQ1zJ",
        "outputId": "c6845492-9b75-4f5b-f427-0e0ceb72884f"
      },
      "source": [
        "iris.data[:5]"
      ],
      "execution_count": 27,
      "outputs": [
        {
          "output_type": "execute_result",
          "data": {
            "text/plain": [
              "array([[5.1, 3.5, 1.4, 0.2],\n",
              "       [4.9, 3. , 1.4, 0.2],\n",
              "       [4.7, 3.2, 1.3, 0.2],\n",
              "       [4.6, 3.1, 1.5, 0.2],\n",
              "       [5. , 3.6, 1.4, 0.2]])"
            ]
          },
          "metadata": {
            "tags": []
          },
          "execution_count": 27
        }
      ]
    },
    {
      "cell_type": "code",
      "metadata": {
        "colab": {
          "base_uri": "https://localhost:8080/"
        },
        "id": "EbywLY2lRvsm",
        "outputId": "2935ef1f-43b6-4c94-db97-a4bca0defb18"
      },
      "source": [
        "type(iris.data)"
      ],
      "execution_count": 28,
      "outputs": [
        {
          "output_type": "execute_result",
          "data": {
            "text/plain": [
              "numpy.ndarray"
            ]
          },
          "metadata": {
            "tags": []
          },
          "execution_count": 28
        }
      ]
    },
    {
      "cell_type": "code",
      "metadata": {
        "colab": {
          "base_uri": "https://localhost:8080/"
        },
        "id": "-Pym635zR0xC",
        "outputId": "7a92290f-42f2-4ce8-950a-9d404facc480"
      },
      "source": [
        "iris.data.shape"
      ],
      "execution_count": 29,
      "outputs": [
        {
          "output_type": "execute_result",
          "data": {
            "text/plain": [
              "(150, 4)"
            ]
          },
          "metadata": {
            "tags": []
          },
          "execution_count": 29
        }
      ]
    },
    {
      "cell_type": "code",
      "metadata": {
        "colab": {
          "base_uri": "https://localhost:8080/"
        },
        "id": "0_g4QvlWR5XQ",
        "outputId": "be4cf6c2-9e54-4f0c-f4e3-3cc66793f28d"
      },
      "source": [
        "iris.target #iris 안에 딕셔너리에 키값 을 받아온거"
      ],
      "execution_count": 30,
      "outputs": [
        {
          "output_type": "execute_result",
          "data": {
            "text/plain": [
              "array([0, 0, 0, 0, 0, 0, 0, 0, 0, 0, 0, 0, 0, 0, 0, 0, 0, 0, 0, 0, 0, 0,\n",
              "       0, 0, 0, 0, 0, 0, 0, 0, 0, 0, 0, 0, 0, 0, 0, 0, 0, 0, 0, 0, 0, 0,\n",
              "       0, 0, 0, 0, 0, 0, 1, 1, 1, 1, 1, 1, 1, 1, 1, 1, 1, 1, 1, 1, 1, 1,\n",
              "       1, 1, 1, 1, 1, 1, 1, 1, 1, 1, 1, 1, 1, 1, 1, 1, 1, 1, 1, 1, 1, 1,\n",
              "       1, 1, 1, 1, 1, 1, 1, 1, 1, 1, 1, 1, 2, 2, 2, 2, 2, 2, 2, 2, 2, 2,\n",
              "       2, 2, 2, 2, 2, 2, 2, 2, 2, 2, 2, 2, 2, 2, 2, 2, 2, 2, 2, 2, 2, 2,\n",
              "       2, 2, 2, 2, 2, 2, 2, 2, 2, 2, 2, 2, 2, 2, 2, 2, 2, 2])"
            ]
          },
          "metadata": {
            "tags": []
          },
          "execution_count": 30
        }
      ]
    },
    {
      "cell_type": "code",
      "metadata": {
        "colab": {
          "base_uri": "https://localhost:8080/"
        },
        "id": "uZtoWIGkR7ZB",
        "outputId": "bcc98a94-ec90-4ce2-d62f-4c0f1c4e6e88"
      },
      "source": [
        "X.shape"
      ],
      "execution_count": 31,
      "outputs": [
        {
          "output_type": "execute_result",
          "data": {
            "text/plain": [
              "(150, 4)"
            ]
          },
          "metadata": {
            "tags": []
          },
          "execution_count": 31
        }
      ]
    },
    {
      "cell_type": "code",
      "metadata": {
        "colab": {
          "base_uri": "https://localhost:8080/"
        },
        "id": "JcCe2DvkSpvU",
        "outputId": "75bfe181-24b1-4539-e9c4-38cf84246b9d"
      },
      "source": [
        "type(y)"
      ],
      "execution_count": 32,
      "outputs": [
        {
          "output_type": "execute_result",
          "data": {
            "text/plain": [
              "pandas.core.series.Series"
            ]
          },
          "metadata": {
            "tags": []
          },
          "execution_count": 32
        }
      ]
    },
    {
      "cell_type": "code",
      "metadata": {
        "colab": {
          "base_uri": "https://localhost:8080/"
        },
        "id": "9wefqw-PSr80",
        "outputId": "f6a81bc1-8369-4331-dad9-7375f567d729"
      },
      "source": [
        "y.shape"
      ],
      "execution_count": 33,
      "outputs": [
        {
          "output_type": "execute_result",
          "data": {
            "text/plain": [
              "(150,)"
            ]
          },
          "metadata": {
            "tags": []
          },
          "execution_count": 33
        }
      ]
    },
    {
      "cell_type": "code",
      "metadata": {
        "id": "p40Dvfv2Syjf"
      },
      "source": [
        "#@title API 기본활용절차\n"
      ],
      "execution_count": 34,
      "outputs": []
    },
    {
      "cell_type": "code",
      "metadata": {
        "id": "4lxWGmUOTuKa"
      },
      "source": [
        "#1데이터준비\r\n",
        "import numpy as np\r\n",
        "import matplotlib.pyplot as plt"
      ],
      "execution_count": 37,
      "outputs": []
    },
    {
      "cell_type": "code",
      "metadata": {
        "id": "Qn2porlaT3fx"
      },
      "source": [
        "rs = np.random.RandomState(10)\r\n",
        "x= 10*rs.rand(100)\r\n",
        "y=3*x+2*rs.rand(100)\r\n"
      ],
      "execution_count": 38,
      "outputs": []
    },
    {
      "cell_type": "code",
      "metadata": {
        "colab": {
          "base_uri": "https://localhost:8080/",
          "height": 265
        },
        "id": "c1eWfryGUDl1",
        "outputId": "0b622674-e3be-4bb5-a062-502115297da1"
      },
      "source": [
        "plt.scatter(x,y,s=10);"
      ],
      "execution_count": 39,
      "outputs": [
        {
          "output_type": "display_data",
          "data": {
            "image/png": "[encoded data removed]",
            "text/plain": [
              "<Figure size 432x288 with 1 Axes>"
            ]
          },
          "metadata": {
            "tags": [],
            "needs_background": "light"
          }
        }
      ]
    },
    {
      "cell_type": "code",
      "metadata": {
        "id": "4kERwyIvUU0a"
      },
      "source": [
        "#2모델클래스선택\r\n",
        "#3모델 인스턴스 생성과 하이퍼파라미터 선택"
      ],
      "execution_count": 40,
      "outputs": []
    },
    {
      "cell_type": "code",
      "metadata": {
        "id": "vSwa1MwDUlLB"
      },
      "source": [
        "from sklearn.linear_model import LinearRegression\r\n",
        "regr = LinearRegression()"
      ],
      "execution_count": 41,
      "outputs": []
    },
    {
      "cell_type": "code",
      "metadata": {
        "id": "XkkJmI-HUvHm"
      },
      "source": [
        "from sklearn.linear_model import LinearRegression\r\n",
        "regr = LinearRegression(fit_intercept=True)"
      ],
      "execution_count": 42,
      "outputs": []
    },
    {
      "cell_type": "code",
      "metadata": {
        "colab": {
          "base_uri": "https://localhost:8080/"
        },
        "id": "2UpgoCY7U4Jc",
        "outputId": "7e8f49bc-8e89-4f1b-840b-f58ee9dc859d"
      },
      "source": [
        "#특정행렬과 대상벡터준비\r\n",
        "X = x.reshape(-1,1)\r\n",
        "X.shape , y.shape"
      ],
      "execution_count": 43,
      "outputs": [
        {
          "output_type": "execute_result",
          "data": {
            "text/plain": [
              "((100, 1), (100,))"
            ]
          },
          "metadata": {
            "tags": []
          },
          "execution_count": 43
        }
      ]
    },
    {
      "cell_type": "code",
      "metadata": {
        "colab": {
          "base_uri": "https://localhost:8080/"
        },
        "id": "rrRz82dbVuT-",
        "outputId": "6362cbaf-88d4-43a6-a490-d388c917a772"
      },
      "source": [
        "#5모델을 데이터에 적합\r\n",
        "regr.fit(X,y)"
      ],
      "execution_count": 44,
      "outputs": [
        {
          "output_type": "execute_result",
          "data": {
            "text/plain": [
              "LinearRegression(copy_X=True, fit_intercept=True, n_jobs=None, normalize=False)"
            ]
          },
          "metadata": {
            "tags": []
          },
          "execution_count": 44
        }
      ]
    },
    {
      "cell_type": "code",
      "metadata": {
        "colab": {
          "base_uri": "https://localhost:8080/"
        },
        "id": "tUp9xuixV2Bk",
        "outputId": "5d741900-24d2-4fc2-e04b-79fdf2973dde"
      },
      "source": [
        "regr.coef_"
      ],
      "execution_count": 45,
      "outputs": [
        {
          "output_type": "execute_result",
          "data": {
            "text/plain": [
              "array([2.9855087])"
            ]
          },
          "metadata": {
            "tags": []
          },
          "execution_count": 45
        }
      ]
    },
    {
      "cell_type": "code",
      "metadata": {
        "colab": {
          "base_uri": "https://localhost:8080/"
        },
        "id": "Uif_poY1V4S0",
        "outputId": "ea97e617-d959-49e9-f589-9c677c024271"
      },
      "source": [
        "regr.intercept_"
      ],
      "execution_count": 46,
      "outputs": [
        {
          "output_type": "execute_result",
          "data": {
            "text/plain": [
              "0.9878534341975644"
            ]
          },
          "metadata": {
            "tags": []
          },
          "execution_count": 46
        }
      ]
    },
    {
      "cell_type": "code",
      "metadata": {
        "id": "HWFb-l68V62l"
      },
      "source": [
        "#6새로운 데이터를 이용해 예측\r\n",
        "x_new = np.linspace(-1,11, num=100)"
      ],
      "execution_count": 47,
      "outputs": []
    },
    {
      "cell_type": "code",
      "metadata": {
        "colab": {
          "base_uri": "https://localhost:8080/"
        },
        "id": "2y9lzcSpYV3p",
        "outputId": "3889722f-dddf-4311-dc09-5e6c8e39c5fc"
      },
      "source": [
        "x_new[:5]"
      ],
      "execution_count": 48,
      "outputs": [
        {
          "output_type": "execute_result",
          "data": {
            "text/plain": [
              "array([-1.        , -0.87878788, -0.75757576, -0.63636364, -0.51515152])"
            ]
          },
          "metadata": {
            "tags": []
          },
          "execution_count": 48
        }
      ]
    },
    {
      "cell_type": "code",
      "metadata": {
        "colab": {
          "base_uri": "https://localhost:8080/"
        },
        "id": "znSWmY_cYYYN",
        "outputId": "5825e0be-f1f7-4f34-ce43-d53e3918f3a8"
      },
      "source": [
        "x_new.shape"
      ],
      "execution_count": 49,
      "outputs": [
        {
          "output_type": "execute_result",
          "data": {
            "text/plain": [
              "(100,)"
            ]
          },
          "metadata": {
            "tags": []
          },
          "execution_count": 49
        }
      ]
    },
    {
      "cell_type": "code",
      "metadata": {
        "colab": {
          "base_uri": "https://localhost:8080/"
        },
        "id": "CqffWO_AYbZP",
        "outputId": "635c941a-f19c-453b-eb44-12a45e4f9c4b"
      },
      "source": [
        "X_new=x_new.reshape(-1,1)\r\n",
        "X_new.shape"
      ],
      "execution_count": 50,
      "outputs": [
        {
          "output_type": "execute_result",
          "data": {
            "text/plain": [
              "(100, 1)"
            ]
          },
          "metadata": {
            "tags": []
          },
          "execution_count": 50
        }
      ]
    },
    {
      "cell_type": "code",
      "metadata": {
        "id": "k4TKJqOdYinh"
      },
      "source": [
        "y_pred = regr.predict(X_new)"
      ],
      "execution_count": 51,
      "outputs": []
    },
    {
      "cell_type": "code",
      "metadata": {
        "colab": {
          "base_uri": "https://localhost:8080/",
          "height": 284
        },
        "id": "MZ24oGKyYqJu",
        "outputId": "940f57a7-01a2-4602-9d66-e91b38549065"
      },
      "source": [
        "plt.plot(x_new,y_pred,c=\"red\")\r\n",
        "plt.scatter(x,y,s=10)"
      ],
      "execution_count": 52,
      "outputs": [
        {
          "output_type": "execute_result",
          "data": {
            "text/plain": [
              "<matplotlib.collections.PathCollection at 0x7f629bb005f8>"
            ]
          },
          "metadata": {
            "tags": []
          },
          "execution_count": 52
        },
        {
          "output_type": "display_data",
          "data": {
            "image/png": "[encoded data removed]",
            "text/plain": [
              "<Figure size 432x288 with 1 Axes>"
            ]
          },
          "metadata": {
            "tags": [],
            "needs_background": "light"
          }
        }
      ]
    },
    {
      "cell_type": "code",
      "metadata": {
        "id": "7HhoPzxVY0_n"
      },
      "source": [
        "#7모델평가\r\n",
        "from sklearn.metrics import mean_squared_error"
      ],
      "execution_count": 53,
      "outputs": []
    },
    {
      "cell_type": "code",
      "metadata": {
        "colab": {
          "base_uri": "https://localhost:8080/"
        },
        "id": "PJ7Fb8jSdckH",
        "outputId": "bdfbe872-659f-467d-a4a4-b9362c562d7b"
      },
      "source": [
        "rmse = np.sqrt(mean_squared_error(y,y_pred)) ;rmse"
      ],
      "execution_count": 54,
      "outputs": [
        {
          "output_type": "execute_result",
          "data": {
            "text/plain": [
              "13.708237122486333"
            ]
          },
          "metadata": {
            "tags": []
          },
          "execution_count": 54
        }
      ]
    },
    {
      "cell_type": "code",
      "metadata": {
        "id": "TxFatwSNdk9e"
      },
      "source": [
        "#정확도가 정말 1.0인가\r\n",
        "X= iris.data\r\n",
        "y= iris.target"
      ],
      "execution_count": 55,
      "outputs": []
    },
    {
      "cell_type": "code",
      "metadata": {
        "id": "hfOK327rfTHy"
      },
      "source": [
        "#KNN 모델선택\r\n",
        "from sklearn.neighbors import  KNeighborsClassifier\r\n",
        "knn = KNeighborsClassifier(n_neighbors=1)"
      ],
      "execution_count": 56,
      "outputs": []
    },
    {
      "cell_type": "code",
      "metadata": {
        "colab": {
          "base_uri": "https://localhost:8080/"
        },
        "id": "lPz-3r3wfguN",
        "outputId": "37bc6e4e-589c-4433-87b5-298937538abc"
      },
      "source": [
        "knn.fit(X,y) #모델 훈련 (학습)"
      ],
      "execution_count": 57,
      "outputs": [
        {
          "output_type": "execute_result",
          "data": {
            "text/plain": [
              "KNeighborsClassifier(algorithm='auto', leaf_size=30, metric='minkowski',\n",
              "                     metric_params=None, n_jobs=None, n_neighbors=1, p=2,\n",
              "                     weights='uniform')"
            ]
          },
          "metadata": {
            "tags": []
          },
          "execution_count": 57
        }
      ]
    },
    {
      "cell_type": "code",
      "metadata": {
        "id": "Hfj61EBffi1l"
      },
      "source": [
        "y_pred = knn.predict(X)"
      ],
      "execution_count": 58,
      "outputs": []
    },
    {
      "cell_type": "code",
      "metadata": {
        "colab": {
          "base_uri": "https://localhost:8080/"
        },
        "id": "AtQ2pTTxfmFm",
        "outputId": "5cbe7604-e307-47e1-b35a-5b810961a27b"
      },
      "source": [
        "np.mean(y==y_pred)"
      ],
      "execution_count": 59,
      "outputs": [
        {
          "output_type": "execute_result",
          "data": {
            "text/plain": [
              "1.0"
            ]
          },
          "metadata": {
            "tags": []
          },
          "execution_count": 59
        }
      ]
    },
    {
      "cell_type": "code",
      "metadata": {
        "id": "YYXWbgiYfoey"
      },
      "source": [
        "#@title 훈련데이터와 테스트데이터 분리\n"
      ],
      "execution_count": 60,
      "outputs": []
    },
    {
      "cell_type": "code",
      "metadata": {
        "id": "PsKubJdthNNq"
      },
      "source": [
        "from sklearn.model_selection import train_test_split\r\n",
        "\r\n",
        "X_train , X_test , y_train , y_test = train_test_split(\r\n",
        "    X , y ,test_size =0.2 , random_state=25\r\n",
        ")"
      ],
      "execution_count": 61,
      "outputs": []
    },
    {
      "cell_type": "code",
      "metadata": {
        "colab": {
          "base_uri": "https://localhost:8080/"
        },
        "id": "Xzfw31qeh2oI",
        "outputId": "8dd7a74e-a0e9-4392-c100-0cbe1f48fabf"
      },
      "source": [
        "X_train.shape , X_test.shape , y_train.shape , y_test.shape"
      ],
      "execution_count": 63,
      "outputs": [
        {
          "output_type": "execute_result",
          "data": {
            "text/plain": [
              "((120, 4), (30, 4), (120,), (30,))"
            ]
          },
          "metadata": {
            "tags": []
          },
          "execution_count": 63
        }
      ]
    },
    {
      "cell_type": "code",
      "metadata": {
        "id": "VVdqQWY3h6Ph"
      },
      "source": [
        "from sklearn.neighbors import KNeighborsClassifier\r\n",
        "knn= KNeighborsClassifier(n_neighbors=1)"
      ],
      "execution_count": 64,
      "outputs": []
    },
    {
      "cell_type": "code",
      "metadata": {
        "colab": {
          "base_uri": "https://localhost:8080/"
        },
        "id": "drs5kiJQigGc",
        "outputId": "5430d2f2-21ab-44ee-a1a1-3d710665e200"
      },
      "source": [
        "knn.fit(X_train,y_train)"
      ],
      "execution_count": 65,
      "outputs": [
        {
          "output_type": "execute_result",
          "data": {
            "text/plain": [
              "KNeighborsClassifier(algorithm='auto', leaf_size=30, metric='minkowski',\n",
              "                     metric_params=None, n_jobs=None, n_neighbors=1, p=2,\n",
              "                     weights='uniform')"
            ]
          },
          "metadata": {
            "tags": []
          },
          "execution_count": 65
        }
      ]
    },
    {
      "cell_type": "code",
      "metadata": {
        "colab": {
          "base_uri": "https://localhost:8080/"
        },
        "id": "lmAW3STNijjF",
        "outputId": "8a268adb-ca64-4f09-d967-7e414618c663"
      },
      "source": [
        "y_pred = knn.predict(X_test)\r\n",
        "y_pred"
      ],
      "execution_count": 66,
      "outputs": [
        {
          "output_type": "execute_result",
          "data": {
            "text/plain": [
              "array([0, 2, 2, 1, 2, 1, 2, 0, 1, 1, 0, 0, 0, 1, 0, 1, 2, 2, 1, 1, 1, 1,\n",
              "       1, 0, 0, 2, 1, 2, 2, 0])"
            ]
          },
          "metadata": {
            "tags": []
          },
          "execution_count": 66
        }
      ]
    },
    {
      "cell_type": "code",
      "metadata": {
        "colab": {
          "base_uri": "https://localhost:8080/"
        },
        "id": "L65y8hm5rZuX",
        "outputId": "d5d55888-7f68-474d-d00a-f580f4eb1342"
      },
      "source": [
        "np.mean(y_test == y_pred)"
      ],
      "execution_count": 67,
      "outputs": [
        {
          "output_type": "execute_result",
          "data": {
            "text/plain": [
              "0.9"
            ]
          },
          "metadata": {
            "tags": []
          },
          "execution_count": 67
        }
      ]
    },
    {
      "cell_type": "code",
      "metadata": {
        "colab": {
          "base_uri": "https://localhost:8080/"
        },
        "id": "gQcT0rKBrfPb",
        "outputId": "a31a04d9-b7c0-43f2-f23e-fd8efca18a86"
      },
      "source": [
        "knn.score(X_test, y_test)"
      ],
      "execution_count": 68,
      "outputs": [
        {
          "output_type": "execute_result",
          "data": {
            "text/plain": [
              "0.9"
            ]
          },
          "metadata": {
            "tags": []
          },
          "execution_count": 68
        }
      ]
    },
    {
      "cell_type": "code",
      "metadata": {
        "colab": {
          "base_uri": "https://localhost:8080/"
        },
        "id": "1VRQAUxFsBiG",
        "outputId": "f670c6bf-e369-4fe9-9d2d-b16c741b3a4f"
      },
      "source": [
        "from sklearn.metrics import accuracy_score\r\n",
        "\r\n",
        "accuracy_score(y_test,y_pred)"
      ],
      "execution_count": 69,
      "outputs": [
        {
          "output_type": "execute_result",
          "data": {
            "text/plain": [
              "0.9"
            ]
          },
          "metadata": {
            "tags": []
          },
          "execution_count": 69
        }
      ]
    },
    {
      "cell_type": "code",
      "metadata": {
        "id": "-Mf2_Xt0sNXH"
      },
      "source": [
        "#@title 하이퍼 파라미터의 선택"
      ],
      "execution_count": 70,
      "outputs": []
    },
    {
      "cell_type": "code",
      "metadata": {
        "colab": {
          "base_uri": "https://localhost:8080/"
        },
        "id": "IVkLgrB5sqsQ",
        "outputId": "6f10fac6-e3a4-4d32-d2a6-bf0c1bcc9823"
      },
      "source": [
        "train_accuracy = []\r\n",
        "test_accuracy =[]\r\n",
        "neighbors = range(1,120) #range를 다양하게 변화를 줄수 있다\r\n",
        "for n in neighbors:\r\n",
        "  knn = KNeighborsClassifier(n_neighbors=n)\r\n",
        "  knn.fit(X_train,y_train)\r\n",
        "\r\n",
        "  print(\"n = \",n,\" train = \", knn.score(X_train,y_train), \"test = \",knn.score(X_test,  y_test))\r\n",
        "  train_accuracy.append(knn.score(X_train, y_train))\r\n",
        "  test_accuracy.append(knn.score(X_test, y_test))"
      ],
      "execution_count": 86,
      "outputs": [
        {
          "output_type": "stream",
          "text": [
            "n =  1  train =  1.0 test =  0.9\n",
            "n =  2  train =  0.9833333333333333 test =  0.9\n",
            "n =  3  train =  0.975 test =  0.9333333333333333\n",
            "n =  4  train =  0.975 test =  0.9\n",
            "n =  5  train =  0.9833333333333333 test =  0.9333333333333333\n",
            "n =  6  train =  0.9833333333333333 test =  0.9333333333333333\n",
            "n =  7  train =  0.9833333333333333 test =  0.9666666666666667\n",
            "n =  8  train =  0.975 test =  0.9666666666666667\n",
            "n =  9  train =  0.975 test =  0.9666666666666667\n",
            "n =  10  train =  0.9666666666666667 test =  0.9333333333333333\n",
            "n =  11  train =  0.9833333333333333 test =  0.9666666666666667\n",
            "n =  12  train =  0.9833333333333333 test =  0.9666666666666667\n",
            "n =  13  train =  0.9833333333333333 test =  0.9666666666666667\n",
            "n =  14  train =  0.9833333333333333 test =  1.0\n",
            "n =  15  train =  0.975 test =  0.9666666666666667\n",
            "n =  16  train =  0.975 test =  1.0\n",
            "n =  17  train =  0.975 test =  1.0\n",
            "n =  18  train =  0.975 test =  1.0\n",
            "n =  19  train =  0.975 test =  1.0\n",
            "n =  20  train =  0.975 test =  1.0\n",
            "n =  21  train =  0.975 test =  0.9666666666666667\n",
            "n =  22  train =  0.975 test =  1.0\n",
            "n =  23  train =  0.975 test =  1.0\n",
            "n =  24  train =  0.9666666666666667 test =  1.0\n",
            "n =  25  train =  0.9666666666666667 test =  1.0\n",
            "n =  26  train =  0.95 test =  1.0\n",
            "n =  27  train =  0.9583333333333334 test =  1.0\n",
            "n =  28  train =  0.95 test =  1.0\n",
            "n =  29  train =  0.9583333333333334 test =  1.0\n",
            "n =  30  train =  0.9583333333333334 test =  0.9666666666666667\n",
            "n =  31  train =  0.9583333333333334 test =  0.9666666666666667\n",
            "n =  32  train =  0.95 test =  0.9666666666666667\n",
            "n =  33  train =  0.9416666666666667 test =  1.0\n",
            "n =  34  train =  0.95 test =  0.9666666666666667\n",
            "n =  35  train =  0.95 test =  0.9666666666666667\n",
            "n =  36  train =  0.9416666666666667 test =  0.9666666666666667\n",
            "n =  37  train =  0.95 test =  1.0\n",
            "n =  38  train =  0.95 test =  0.9666666666666667\n",
            "n =  39  train =  0.95 test =  1.0\n",
            "n =  40  train =  0.9583333333333334 test =  1.0\n",
            "n =  41  train =  0.9583333333333334 test =  1.0\n",
            "n =  42  train =  0.95 test =  1.0\n",
            "n =  43  train =  0.9333333333333333 test =  1.0\n",
            "n =  44  train =  0.9333333333333333 test =  1.0\n",
            "n =  45  train =  0.925 test =  1.0\n",
            "n =  46  train =  0.9416666666666667 test =  1.0\n",
            "n =  47  train =  0.9416666666666667 test =  1.0\n",
            "n =  48  train =  0.925 test =  1.0\n",
            "n =  49  train =  0.9166666666666666 test =  1.0\n",
            "n =  50  train =  0.9333333333333333 test =  1.0\n",
            "n =  51  train =  0.925 test =  1.0\n",
            "n =  52  train =  0.9333333333333333 test =  0.9666666666666667\n",
            "n =  53  train =  0.9166666666666666 test =  1.0\n",
            "n =  54  train =  0.9166666666666666 test =  1.0\n",
            "n =  55  train =  0.9083333333333333 test =  1.0\n",
            "n =  56  train =  0.9083333333333333 test =  1.0\n",
            "n =  57  train =  0.8916666666666667 test =  1.0\n",
            "n =  58  train =  0.9 test =  0.9666666666666667\n",
            "n =  59  train =  0.8916666666666667 test =  1.0\n",
            "n =  60  train =  0.9 test =  0.9666666666666667\n",
            "n =  61  train =  0.8916666666666667 test =  1.0\n",
            "n =  62  train =  0.9 test =  1.0\n",
            "n =  63  train =  0.8916666666666667 test =  1.0\n",
            "n =  64  train =  0.9 test =  1.0\n",
            "n =  65  train =  0.8916666666666667 test =  0.9666666666666667\n",
            "n =  66  train =  0.875 test =  1.0\n",
            "n =  67  train =  0.8833333333333333 test =  1.0\n",
            "n =  68  train =  0.875 test =  1.0\n",
            "n =  69  train =  0.8833333333333333 test =  0.8333333333333334\n",
            "n =  70  train =  0.875 test =  0.8666666666666667\n",
            "n =  71  train =  0.8916666666666667 test =  0.8666666666666667\n",
            "n =  72  train =  0.8916666666666667 test =  0.8666666666666667\n",
            "n =  73  train =  0.8916666666666667 test =  0.8666666666666667\n",
            "n =  74  train =  0.8916666666666667 test =  0.8666666666666667\n",
            "n =  75  train =  0.8083333333333333 test =  0.8\n",
            "n =  76  train =  0.8083333333333333 test =  0.8\n",
            "n =  77  train =  0.8 test =  0.8\n",
            "n =  78  train =  0.7916666666666666 test =  0.8\n",
            "n =  79  train =  0.7916666666666666 test =  0.7666666666666667\n",
            "n =  80  train =  0.7833333333333333 test =  0.7333333333333333\n",
            "n =  81  train =  0.775 test =  0.7333333333333333\n",
            "n =  82  train =  0.775 test =  0.7\n",
            "n =  83  train =  0.775 test =  0.7\n",
            "n =  84  train =  0.775 test =  0.7\n",
            "n =  85  train =  0.775 test =  0.7333333333333333\n",
            "n =  86  train =  0.7666666666666667 test =  0.7333333333333333\n",
            "n =  87  train =  0.7666666666666667 test =  0.7333333333333333\n",
            "n =  88  train =  0.7666666666666667 test =  0.7333333333333333\n",
            "n =  89  train =  0.7666666666666667 test =  0.7\n",
            "n =  90  train =  0.7666666666666667 test =  0.7\n",
            "n =  91  train =  0.7666666666666667 test =  0.7\n",
            "n =  92  train =  0.7666666666666667 test =  0.7\n",
            "n =  93  train =  0.7583333333333333 test =  0.7\n",
            "n =  94  train =  0.7583333333333333 test =  0.7\n",
            "n =  95  train =  0.7583333333333333 test =  0.7\n",
            "n =  96  train =  0.7583333333333333 test =  0.7\n",
            "n =  97  train =  0.7583333333333333 test =  0.7\n",
            "n =  98  train =  0.75 test =  0.7\n",
            "n =  99  train =  0.7333333333333333 test =  0.7\n",
            "n =  100  train =  0.7333333333333333 test =  0.7\n",
            "n =  101  train =  0.7333333333333333 test =  0.7\n",
            "n =  102  train =  0.7333333333333333 test =  0.7\n",
            "n =  103  train =  0.7333333333333333 test =  0.6666666666666666\n",
            "n =  104  train =  0.7333333333333333 test =  0.6666666666666666\n",
            "n =  105  train =  0.7333333333333333 test =  0.6666666666666666\n",
            "n =  106  train =  0.7333333333333333 test =  0.6333333333333333\n",
            "n =  107  train =  0.7333333333333333 test =  0.6333333333333333\n",
            "n =  108  train =  0.725 test =  0.6333333333333333\n",
            "n =  109  train =  0.7083333333333334 test =  0.6\n",
            "n =  110  train =  0.6916666666666667 test =  0.6\n",
            "n =  111  train =  0.6916666666666667 test =  0.5666666666666667\n",
            "n =  112  train =  0.6916666666666667 test =  0.5666666666666667\n",
            "n =  113  train =  0.6916666666666667 test =  0.5666666666666667\n",
            "n =  114  train =  0.6916666666666667 test =  0.5666666666666667\n",
            "n =  115  train =  0.6916666666666667 test =  0.5666666666666667\n",
            "n =  116  train =  0.6916666666666667 test =  0.5666666666666667\n",
            "n =  117  train =  0.6916666666666667 test =  0.5666666666666667\n",
            "n =  118  train =  0.6916666666666667 test =  0.5666666666666667\n",
            "n =  119  train =  0.6916666666666667 test =  0.5666666666666667\n"
          ],
          "name": "stdout"
        }
      ]
    },
    {
      "cell_type": "code",
      "metadata": {
        "colab": {
          "base_uri": "https://localhost:8080/",
          "height": 280
        },
        "id": "uqzV3Y8At1ec",
        "outputId": "0ea4a4a1-4155-4e6e-9c96-18320608375f"
      },
      "source": [
        "import matplotlib.pyplot as plt\r\n",
        "%matplotlib inline\r\n",
        "\r\n",
        "plt.plot(neighbors, train_accuracy, label=\"train accuracy\")\r\n",
        "plt.plot(neighbors, test_accuracy, label= \"test accuracy\")\r\n",
        "plt.xlabel(\"n_neibors\")\r\n",
        "plt.ylabel(\"accuracy\")\r\n",
        "plt.legend();"
      ],
      "execution_count": 87,
      "outputs": [
        {
          "output_type": "display_data",
          "data": {
            "image/png": "[encoded data removed]",
            "text/plain": [
              "<Figure size 432x288 with 1 Axes>"
            ]
          },
          "metadata": {
            "tags": [],
            "needs_background": "light"
          }
        }
      ]
    },
    {
      "cell_type": "code",
      "metadata": {
        "id": "oiDrgC_GvfRh"
      },
      "source": [
        "#@title 교차검증 (Cross Validation)\n"
      ],
      "execution_count": 88,
      "outputs": []
    },
    {
      "cell_type": "code",
      "metadata": {
        "id": "q5UF6KdLH7XQ"
      },
      "source": [
        "#k 폴드 교차검증 :훈련을 시켜보는데 매번 데이터를 바꿔가면서 훈련 시킴"
      ],
      "execution_count": 91,
      "outputs": []
    },
    {
      "cell_type": "code",
      "metadata": {
        "colab": {
          "base_uri": "https://localhost:8080/"
        },
        "id": "FpNpn-KDIXOR",
        "outputId": "00523829-2276-4d12-9ab8-b4bae6d7cbbb"
      },
      "source": [
        "from sklearn.datasets import load_iris\r\n",
        "iris = load_iris()\r\n",
        "X= iris.data\r\n",
        "y= iris.target\r\n",
        "\r\n",
        "\r\n",
        "from sklearn.neighbors import KNeighborsClassifier\r\n",
        "model = KNeighborsClassifier(n_neighbors=1) #이거랑\r\n",
        "from sklearn.model_selection import cross_val_score\r\n",
        "cross_val_score(model, X ,y , cv=5)  #이거 바뀌어서 데이터가 달라짐"
      ],
      "execution_count": 122,
      "outputs": [
        {
          "output_type": "execute_result",
          "data": {
            "text/plain": [
              "array([0.96666667, 0.96666667, 0.93333333, 0.93333333, 1.        ])"
            ]
          },
          "metadata": {
            "tags": []
          },
          "execution_count": 122
        }
      ]
    },
    {
      "cell_type": "code",
      "metadata": {
        "colab": {
          "base_uri": "https://localhost:8080/"
        },
        "id": "QpBdvZIdKjNt",
        "outputId": "30b7a540-d81f-4189-9f54-8d335ceadfdd"
      },
      "source": [
        "#단일 관측치 제거방식 : 테스트 샘플을 고정하느 방식\r\n",
        "from sklearn.model_selection import LeaveOneOut\r\n",
        "scores = cross_val_score(model, X , y , cv=LeaveOneOut())\r\n",
        "scores"
      ],
      "execution_count": 123,
      "outputs": [
        {
          "output_type": "execute_result",
          "data": {
            "text/plain": [
              "array([1., 1., 1., 1., 1., 1., 1., 1., 1., 1., 1., 1., 1., 1., 1., 1., 1.,\n",
              "       1., 1., 1., 1., 1., 1., 1., 1., 1., 1., 1., 1., 1., 1., 1., 1., 1.,\n",
              "       1., 1., 1., 1., 1., 1., 1., 1., 1., 1., 1., 1., 1., 1., 1., 1., 1.,\n",
              "       1., 1., 1., 1., 1., 1., 1., 1., 1., 1., 1., 1., 1., 1., 1., 1., 1.,\n",
              "       1., 1., 0., 1., 0., 1., 1., 1., 1., 1., 1., 1., 1., 1., 1., 0., 1.,\n",
              "       1., 1., 1., 1., 1., 1., 1., 1., 1., 1., 1., 1., 1., 1., 1., 1., 1.,\n",
              "       1., 1., 1., 1., 0., 1., 1., 1., 1., 1., 1., 1., 1., 1., 1., 1., 1.,\n",
              "       0., 1., 1., 1., 1., 1., 1., 1., 1., 1., 1., 1., 1., 1., 0., 1., 1.,\n",
              "       1., 1., 1., 1., 1., 1., 1., 1., 1., 1., 1., 1., 1., 1.])"
            ]
          },
          "metadata": {
            "tags": []
          },
          "execution_count": 123
        }
      ]
    },
    {
      "cell_type": "code",
      "metadata": {
        "colab": {
          "base_uri": "https://localhost:8080/"
        },
        "id": "RaavQ9oRMjeY",
        "outputId": "307408ae-5786-472a-dabe-573e93368bf1"
      },
      "source": [
        "scores.mean()"
      ],
      "execution_count": 124,
      "outputs": [
        {
          "output_type": "execute_result",
          "data": {
            "text/plain": [
              "0.96"
            ]
          },
          "metadata": {
            "tags": []
          },
          "execution_count": 124
        }
      ]
    },
    {
      "cell_type": "code",
      "metadata": {
        "id": "RwGOXQouMoYF"
      },
      "source": [
        "#편향 -분산 트레이드 오프\r\n",
        "\r\n",
        "from sklearn.preprocessing import PolynomialFeatures\r\n",
        "from sklearn.linear_model import LinearRegression\r\n",
        "from sklearn.pipeline import make_pipeline\r\n",
        "\r\n",
        "def PolynomialRegression(degree=2, **kwargs):\r\n",
        "  return make_pipeline(PolynomialFeatures(degree),\r\n",
        "                       LinearRegression(**kwargs))"
      ],
      "execution_count": 126,
      "outputs": []
    },
    {
      "cell_type": "code",
      "metadata": {
        "id": "JouHeRBGPjHM"
      },
      "source": [
        "import numpy as np\r\n",
        "\r\n",
        "def make_data(N, err=1.0 , seed=1):\r\n",
        "  np.random.seed(seed)\r\n",
        "  X= np.random.rand(N,1) ** 2\r\n",
        "  y= 10 -1. / (X.ravel()+0.1)\r\n",
        "  if err >0:\r\n",
        "    y += err* np.random.randn(N)\r\n",
        "    return X,y\r\n",
        "\r\n",
        "X,y = make_data(40)"
      ],
      "execution_count": 129,
      "outputs": []
    },
    {
      "cell_type": "code",
      "metadata": {
        "colab": {
          "base_uri": "https://localhost:8080/",
          "height": 592
        },
        "id": "2KIvlN0_QH4Z",
        "outputId": "03235be1-2126-4b91-d791-28d88320265e"
      },
      "source": [
        "%matplotlib inline\r\n",
        "import matplotlib.pyplot as plt\r\n",
        "\r\n",
        "plt.style.use(\"seaborn-whitegrid\")\r\n",
        "X_test = np.linspace(-0.1 , 1.1 , 500).reshape(-1,1)\r\n",
        "\r\n",
        "fig= plt.figure(figsize=(12,10))\r\n",
        "for i, degree in enumerate([1,3,5,10], start=1):\r\n",
        "  ax= fig.add_subplot(2,2,i)\r\n",
        "  ax.scatter(X.ravel(), y, s=15)\r\n",
        "  y_test = make_pipeline(PolynomialFeatures(degree), LinearRegression()).fit(X,y).predict(X_test)\r\n",
        "  ax.plot(X_test.ravel(),y_test,label='degree={0}'.format(degree))\r\n",
        "  ax.set_xlim(-0.1,1.0)\r\n",
        "  ax.set_ylim(-2,12)\r\n",
        "  ax.legend(loc='best');"
      ],
      "execution_count": 131,
      "outputs": [
        {
          "output_type": "display_data",
          "data": {
            "image/png": "[encoded data removed]",
            "text/plain": [
              "<Figure size 864x720 with 4 Axes>"
            ]
          },
          "metadata": {
            "tags": []
          }
        }
      ]
    },
    {
      "cell_type": "code",
      "metadata": {
        "id": "eyCyeNmBTkcJ"
      },
      "source": [
        "#그리드서치\r\n",
        "\r\n",
        "from sklearn.model_selection import GridSearchCV\r\n",
        "\r\n",
        "param_grid = { 'polynomialfeatures__degree':np.arange(21),\r\n",
        "              'linearregression__fit_intercept': [True,False],\r\n",
        "              'linearregression__normalize': [True,False]}\r\n",
        "grid = GridSearchCV(PolynomialRegression(),param_grid,cv=7)"
      ],
      "execution_count": 132,
      "outputs": []
    },
    {
      "cell_type": "code",
      "metadata": {
        "colab": {
          "base_uri": "https://localhost:8080/"
        },
        "id": "IzxSFRlSdnyy",
        "outputId": "e55a85fc-f748-4f0c-ac85-451de6f4c26f"
      },
      "source": [
        "grid.fit(X,y)"
      ],
      "execution_count": 133,
      "outputs": [
        {
          "output_type": "execute_result",
          "data": {
            "text/plain": [
              "GridSearchCV(cv=7, error_score=nan,\n",
              "             estimator=Pipeline(memory=None,\n",
              "                                steps=[('polynomialfeatures',\n",
              "                                        PolynomialFeatures(degree=2,\n",
              "                                                           include_bias=True,\n",
              "                                                           interaction_only=False,\n",
              "                                                           order='C')),\n",
              "                                       ('linearregression',\n",
              "                                        LinearRegression(copy_X=True,\n",
              "                                                         fit_intercept=True,\n",
              "                                                         n_jobs=None,\n",
              "                                                         normalize=False))],\n",
              "                                verbose=False),\n",
              "             iid='deprecated', n_jobs=None,\n",
              "             param_grid={'linearregression__fit_intercept': [True, False],\n",
              "                         'linearregression__normalize': [True, False],\n",
              "                         'polynomialfeatures__degree': array([ 0,  1,  2,  3,  4,  5,  6,  7,  8,  9, 10, 11, 12, 13, 14, 15, 16,\n",
              "       17, 18, 19, 20])},\n",
              "             pre_dispatch='2*n_jobs', refit=True, return_train_score=False,\n",
              "             scoring=None, verbose=0)"
            ]
          },
          "metadata": {
            "tags": []
          },
          "execution_count": 133
        }
      ]
    },
    {
      "cell_type": "code",
      "metadata": {
        "colab": {
          "base_uri": "https://localhost:8080/"
        },
        "id": "DGCG_2WAdu5r",
        "outputId": "1e9153d4-aa17-47a3-b377-ccafc0ae3086"
      },
      "source": [
        "grid.best_params_"
      ],
      "execution_count": 134,
      "outputs": [
        {
          "output_type": "execute_result",
          "data": {
            "text/plain": [
              "{'linearregression__fit_intercept': False,\n",
              " 'linearregression__normalize': True,\n",
              " 'polynomialfeatures__degree': 4}"
            ]
          },
          "metadata": {
            "tags": []
          },
          "execution_count": 134
        }
      ]
    },
    {
      "cell_type": "code",
      "metadata": {
        "colab": {
          "base_uri": "https://localhost:8080/",
          "height": 425
        },
        "id": "Qm8OEW44eBk9",
        "outputId": "7e6249ad-8ca0-46c4-b6d9-4b172ef651a3"
      },
      "source": [
        "model = grid.best_estimator_\r\n",
        "\r\n",
        "plt.figure(figsize=(8,7))\r\n",
        "plt.scatter(X.ravel(),y)\r\n",
        "lim = plt.axis()\r\n",
        "y_test = model.fit(X,y).predict(X_test)\r\n",
        "plt.plot(X_test.ravel(), y_test);\r\n",
        "plt.axis(lim);"
      ],
      "execution_count": 136,
      "outputs": [
        {
          "output_type": "display_data",
          "data": {
            "image/png": "[encoded data removed]",
            "text/plain": [
              "<Figure size 576x504 with 1 Axes>"
            ]
          },
          "metadata": {
            "tags": []
          }
        }
      ]
    },
    {
      "cell_type": "code",
      "metadata": {
        "id": "MOqzilBlhrHD"
      },
      "source": [
        ""
      ],
      "execution_count": null,
      "outputs": []
    }
  ]
}