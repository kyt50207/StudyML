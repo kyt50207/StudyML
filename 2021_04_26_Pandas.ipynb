{
  "nbformat": 4,
  "nbformat_minor": 0,
  "metadata": {
    "anaconda-cloud": {},
    "kernelspec": {
      "display_name": "Python 3",
      "language": "python",
      "name": "python3"
    },
    "language_info": {
      "codemirror_mode": {
        "name": "ipython",
        "version": 3
      },
      "file_extension": ".py",
      "mimetype": "text/x-python",
      "name": "python",
      "nbconvert_exporter": "python",
      "pygments_lexer": "ipython3",
      "version": "3.8.5"
    },
    "colab": {
      "name": "5. 데이터분석을 해보자! Pandas.ipynb",
      "provenance": [],
      "collapsed_sections": [],
      "include_colab_link": true
    }
  },
  "cells": [
    {
      "cell_type": "markdown",
      "metadata": {
        "id": "view-in-github",
        "colab_type": "text"
      },
      "source": [
        "<a href=\"https://colab.research.google.com/github/kyt50207/StudyML/blob/main/2021_04_26_Pandas.ipynb\" target=\"_parent\"><img src=\"https://colab.research.google.com/assets/colab-badge.svg\" alt=\"Open In Colab\"/></a>"
      ]
    },
    {
      "cell_type": "markdown",
      "metadata": {
        "id": "IHachx-YQ7CM"
      },
      "source": [
        "## 5.1 Pandas란?"
      ]
    },
    {
      "cell_type": "markdown",
      "metadata": {
        "id": "CaqGQGuaQ7CO"
      },
      "source": [
        "- pandas는 <b>\"python data analysis\"</b>의 약자입니다.\n",
        "> pandas는 정형 데이터 처리에 특화되어 있다.\n",
        "\n",
        "- pandas 역시 다양한 머신러닝 라이브러리들에 의존성을 가지고 있습니다.\n",
        "> scikit-learn, scipy, statsmodel, tensorflow, pytorch, ...\n",
        "\n",
        "\n",
        "- 간단하게 생각하면, **python에서 excel의 기능을 사용**할 수 있게 됩니다.\n",
        "> pandas = python + excel // pandas & excel // pandas VS MS Excel\n",
        "\n",
        "- 하지만, pandas는 numpy array를 베이스로 지원하며 파이썬과 함께 강력한 시너지를 내기 때문에, 엑셀 그 이상의 퍼포먼스를 냅니다.\n",
        "> pandas가 Excel에 비해 고성능 데이터처리에 적합하다."
      ]
    },
    {
      "cell_type": "markdown",
      "metadata": {
        "id": "jyhMQWrNQ7CQ"
      },
      "source": [
        "![numpy_data_type](../images/pandas/dataframe.png)"
      ]
    },
    {
      "cell_type": "markdown",
      "metadata": {
        "id": "wlzTLMN8Q7CQ"
      },
      "source": [
        "- Pandas 라이브러리에서 기본적으로 데이터를 다루는 단위는 DataFrame입니다. 흔히 알고있는 spreadsheet와 같은 개념입니다.\n",
        "\n",
        "\n",
        "- 이러한 형태의 데이터는 Structured Data 또는 Panel Data 또는 Tabular Data라고 부릅니다.\n",
        "\n",
        "\n",
        "- pandas를 공부한다는 것은 결국 dataframe의 사용법을 익히고 활용하는 방법을 배운다는 것과 같습니다.\n",
        "\n",
        "\n",
        "- pandas를 잘 활용하면 대부분의 structured data를 자유자재로 다룰 수 있게 됩니다."
      ]
    },
    {
      "cell_type": "markdown",
      "metadata": {
        "id": "ofzuJ1WnQ7CR"
      },
      "source": [
        "![pandas_files](../images/pandas/pandas_files.png)"
      ]
    },
    {
      "cell_type": "markdown",
      "metadata": {
        "id": "BnUwz699Q7CR"
      },
      "source": [
        "## 5.2. Pandas의 기본 자료구조(Series, DataFrame)"
      ]
    },
    {
      "cell_type": "code",
      "metadata": {
        "colab": {
          "base_uri": "https://localhost:8080/"
        },
        "id": "8QQ7G23AQ7CS",
        "outputId": "a0e75b76-3dbf-4500-e717-746e579202c3"
      },
      "source": [
        "# pandas 라이브러리를 불러옵니다. pd를 약칭으로 사용합니다.\n",
        "import pandas as pd\n",
        "import numpy as np\n",
        "print(pd.__version__) # pandas version 확인"
      ],
      "execution_count": 1,
      "outputs": [
        {
          "output_type": "stream",
          "text": [
            "1.1.5\n"
          ],
          "name": "stdout"
        }
      ]
    },
    {
      "cell_type": "markdown",
      "metadata": {
        "id": "n7jyGBDcQ7CS"
      },
      "source": [
        "- DataFrame은 2차원 테이블이고, 테이블의 한 줄(행/열)을 Series라고 합니다.\n",
        "\n",
        "\n",
        "- Series의 모임이 곧, DataFrame이 됩니다."
      ]
    },
    {
      "cell_type": "code",
      "metadata": {
        "colab": {
          "base_uri": "https://localhost:8080/"
        },
        "id": "OxIQpmNSQ7CT",
        "outputId": "19cb089e-e7e6-4291-ff2f-f273984ed09e"
      },
      "source": [
        "# s는 1, 3, 5, np.nan, 6, 8을 원소로 가지는 pandas.Series\n",
        "s= pd.Series([1,3,5,np.nan,6,8])\n",
        "s"
      ],
      "execution_count": 5,
      "outputs": [
        {
          "output_type": "execute_result",
          "data": {
            "text/plain": [
              "0    1.0\n",
              "1    3.0\n",
              "2    5.0\n",
              "3    NaN\n",
              "4    6.0\n",
              "5    8.0\n",
              "dtype: float64"
            ]
          },
          "metadata": {
            "tags": []
          },
          "execution_count": 5
        }
      ]
    },
    {
      "cell_type": "markdown",
      "metadata": {
        "id": "S_v-VtOfQ7CT"
      },
      "source": [
        "- pandas는 date_range라는 함수를 통해, 날짜정보를 쉽게 생성해주는 객체도 제공합니다."
      ]
    },
    {
      "cell_type": "code",
      "metadata": {
        "colab": {
          "base_uri": "https://localhost:8080/"
        },
        "id": "L-tPdKDrQ7CT",
        "outputId": "cf5626e1-f3ce-4c09-f900-248871c3711c"
      },
      "source": [
        "# 20210101부터 6일간의 날짜 범위를 생성하는 pandas.date_range\n",
        "dates = pd.date_range('20210101',periods=6)\n",
        "dates"
      ],
      "execution_count": 6,
      "outputs": [
        {
          "output_type": "execute_result",
          "data": {
            "text/plain": [
              "DatetimeIndex(['2021-01-01', '2021-01-02', '2021-01-03', '2021-01-04',\n",
              "               '2021-01-05', '2021-01-06'],\n",
              "              dtype='datetime64[ns]', freq='D')"
            ]
          },
          "metadata": {
            "tags": []
          },
          "execution_count": 6
        }
      ]
    },
    {
      "cell_type": "code",
      "metadata": {
        "colab": {
          "base_uri": "https://localhost:8080/",
          "height": 235
        },
        "id": "4RnCbisxQ7CT",
        "outputId": "d1933408-be3e-49a1-a6e6-073e7668e639"
      },
      "source": [
        "# 6x4 행렬에 -1에서 1 사이의 랜덤한 숫자를 가지는 원소를 가지고, index열은 dates, 나머지 coulmns은 순서대로 A, B, C, D로 하는 DataFrame 생성\n",
        "df = pd.DataFrame(np.random.randn(6,4),index=dates,columns=['A','B','C','D'])\n",
        "df"
      ],
      "execution_count": 7,
      "outputs": [
        {
          "output_type": "execute_result",
          "data": {
            "text/html": [
              "<div>\n",
              "<style scoped>\n",
              "    .dataframe tbody tr th:only-of-type {\n",
              "        vertical-align: middle;\n",
              "    }\n",
              "\n",
              "    .dataframe tbody tr th {\n",
              "        vertical-align: top;\n",
              "    }\n",
              "\n",
              "    .dataframe thead th {\n",
              "        text-align: right;\n",
              "    }\n",
              "</style>\n",
              "<table border=\"1\" class=\"dataframe\">\n",
              "  <thead>\n",
              "    <tr style=\"text-align: right;\">\n",
              "      <th></th>\n",
              "      <th>A</th>\n",
              "      <th>B</th>\n",
              "      <th>C</th>\n",
              "      <th>D</th>\n",
              "    </tr>\n",
              "  </thead>\n",
              "  <tbody>\n",
              "    <tr>\n",
              "      <th>2021-01-01</th>\n",
              "      <td>-0.559762</td>\n",
              "      <td>-0.586253</td>\n",
              "      <td>0.215565</td>\n",
              "      <td>0.971196</td>\n",
              "    </tr>\n",
              "    <tr>\n",
              "      <th>2021-01-02</th>\n",
              "      <td>0.687576</td>\n",
              "      <td>1.218470</td>\n",
              "      <td>-1.373275</td>\n",
              "      <td>-0.891995</td>\n",
              "    </tr>\n",
              "    <tr>\n",
              "      <th>2021-01-03</th>\n",
              "      <td>-1.360237</td>\n",
              "      <td>-2.106209</td>\n",
              "      <td>-0.593947</td>\n",
              "      <td>0.560732</td>\n",
              "    </tr>\n",
              "    <tr>\n",
              "      <th>2021-01-04</th>\n",
              "      <td>1.337817</td>\n",
              "      <td>-0.607375</td>\n",
              "      <td>-0.120128</td>\n",
              "      <td>-0.602777</td>\n",
              "    </tr>\n",
              "    <tr>\n",
              "      <th>2021-01-05</th>\n",
              "      <td>-0.597587</td>\n",
              "      <td>-0.617681</td>\n",
              "      <td>1.170960</td>\n",
              "      <td>-0.044620</td>\n",
              "    </tr>\n",
              "    <tr>\n",
              "      <th>2021-01-06</th>\n",
              "      <td>1.981247</td>\n",
              "      <td>0.860015</td>\n",
              "      <td>-0.399118</td>\n",
              "      <td>0.194694</td>\n",
              "    </tr>\n",
              "  </tbody>\n",
              "</table>\n",
              "</div>"
            ],
            "text/plain": [
              "                   A         B         C         D\n",
              "2021-01-01 -0.559762 -0.586253  0.215565  0.971196\n",
              "2021-01-02  0.687576  1.218470 -1.373275 -0.891995\n",
              "2021-01-03 -1.360237 -2.106209 -0.593947  0.560732\n",
              "2021-01-04  1.337817 -0.607375 -0.120128 -0.602777\n",
              "2021-01-05 -0.597587 -0.617681  1.170960 -0.044620\n",
              "2021-01-06  1.981247  0.860015 -0.399118  0.194694"
            ]
          },
          "metadata": {
            "tags": []
          },
          "execution_count": 7
        }
      ]
    },
    {
      "cell_type": "markdown",
      "metadata": {
        "id": "E_46SwhLQ7CU"
      },
      "source": [
        "## 5.3. Dataframe 기초 method"
      ]
    },
    {
      "cell_type": "code",
      "metadata": {
        "colab": {
          "base_uri": "https://localhost:8080/",
          "height": 204
        },
        "id": "dr7EHlSTQ7CU",
        "outputId": "06db49ce-c76c-42db-b498-e8a91aaa7317"
      },
      "source": [
        "# dataframe의 맨 위 다섯줄을 보여주는 head()\n",
        "df.head()"
      ],
      "execution_count": 8,
      "outputs": [
        {
          "output_type": "execute_result",
          "data": {
            "text/html": [
              "<div>\n",
              "<style scoped>\n",
              "    .dataframe tbody tr th:only-of-type {\n",
              "        vertical-align: middle;\n",
              "    }\n",
              "\n",
              "    .dataframe tbody tr th {\n",
              "        vertical-align: top;\n",
              "    }\n",
              "\n",
              "    .dataframe thead th {\n",
              "        text-align: right;\n",
              "    }\n",
              "</style>\n",
              "<table border=\"1\" class=\"dataframe\">\n",
              "  <thead>\n",
              "    <tr style=\"text-align: right;\">\n",
              "      <th></th>\n",
              "      <th>A</th>\n",
              "      <th>B</th>\n",
              "      <th>C</th>\n",
              "      <th>D</th>\n",
              "    </tr>\n",
              "  </thead>\n",
              "  <tbody>\n",
              "    <tr>\n",
              "      <th>2021-01-01</th>\n",
              "      <td>-0.559762</td>\n",
              "      <td>-0.586253</td>\n",
              "      <td>0.215565</td>\n",
              "      <td>0.971196</td>\n",
              "    </tr>\n",
              "    <tr>\n",
              "      <th>2021-01-02</th>\n",
              "      <td>0.687576</td>\n",
              "      <td>1.218470</td>\n",
              "      <td>-1.373275</td>\n",
              "      <td>-0.891995</td>\n",
              "    </tr>\n",
              "    <tr>\n",
              "      <th>2021-01-03</th>\n",
              "      <td>-1.360237</td>\n",
              "      <td>-2.106209</td>\n",
              "      <td>-0.593947</td>\n",
              "      <td>0.560732</td>\n",
              "    </tr>\n",
              "    <tr>\n",
              "      <th>2021-01-04</th>\n",
              "      <td>1.337817</td>\n",
              "      <td>-0.607375</td>\n",
              "      <td>-0.120128</td>\n",
              "      <td>-0.602777</td>\n",
              "    </tr>\n",
              "    <tr>\n",
              "      <th>2021-01-05</th>\n",
              "      <td>-0.597587</td>\n",
              "      <td>-0.617681</td>\n",
              "      <td>1.170960</td>\n",
              "      <td>-0.044620</td>\n",
              "    </tr>\n",
              "  </tbody>\n",
              "</table>\n",
              "</div>"
            ],
            "text/plain": [
              "                   A         B         C         D\n",
              "2021-01-01 -0.559762 -0.586253  0.215565  0.971196\n",
              "2021-01-02  0.687576  1.218470 -1.373275 -0.891995\n",
              "2021-01-03 -1.360237 -2.106209 -0.593947  0.560732\n",
              "2021-01-04  1.337817 -0.607375 -0.120128 -0.602777\n",
              "2021-01-05 -0.597587 -0.617681  1.170960 -0.044620"
            ]
          },
          "metadata": {
            "tags": []
          },
          "execution_count": 8
        }
      ]
    },
    {
      "cell_type": "code",
      "metadata": {
        "colab": {
          "base_uri": "https://localhost:8080/",
          "height": 142
        },
        "id": "25VjjMtDQ7CU",
        "outputId": "ba892d5b-1a18-430b-d4ac-7db039370756"
      },
      "source": [
        "# 3줄\n",
        "# df.head(3)\n",
        "df.tail(3)"
      ],
      "execution_count": 10,
      "outputs": [
        {
          "output_type": "execute_result",
          "data": {
            "text/html": [
              "<div>\n",
              "<style scoped>\n",
              "    .dataframe tbody tr th:only-of-type {\n",
              "        vertical-align: middle;\n",
              "    }\n",
              "\n",
              "    .dataframe tbody tr th {\n",
              "        vertical-align: top;\n",
              "    }\n",
              "\n",
              "    .dataframe thead th {\n",
              "        text-align: right;\n",
              "    }\n",
              "</style>\n",
              "<table border=\"1\" class=\"dataframe\">\n",
              "  <thead>\n",
              "    <tr style=\"text-align: right;\">\n",
              "      <th></th>\n",
              "      <th>A</th>\n",
              "      <th>B</th>\n",
              "      <th>C</th>\n",
              "      <th>D</th>\n",
              "    </tr>\n",
              "  </thead>\n",
              "  <tbody>\n",
              "    <tr>\n",
              "      <th>2021-01-04</th>\n",
              "      <td>1.337817</td>\n",
              "      <td>-0.607375</td>\n",
              "      <td>-0.120128</td>\n",
              "      <td>-0.602777</td>\n",
              "    </tr>\n",
              "    <tr>\n",
              "      <th>2021-01-05</th>\n",
              "      <td>-0.597587</td>\n",
              "      <td>-0.617681</td>\n",
              "      <td>1.170960</td>\n",
              "      <td>-0.044620</td>\n",
              "    </tr>\n",
              "    <tr>\n",
              "      <th>2021-01-06</th>\n",
              "      <td>1.981247</td>\n",
              "      <td>0.860015</td>\n",
              "      <td>-0.399118</td>\n",
              "      <td>0.194694</td>\n",
              "    </tr>\n",
              "  </tbody>\n",
              "</table>\n",
              "</div>"
            ],
            "text/plain": [
              "                   A         B         C         D\n",
              "2021-01-04  1.337817 -0.607375 -0.120128 -0.602777\n",
              "2021-01-05 -0.597587 -0.617681  1.170960 -0.044620\n",
              "2021-01-06  1.981247  0.860015 -0.399118  0.194694"
            ]
          },
          "metadata": {
            "tags": []
          },
          "execution_count": 10
        }
      ]
    },
    {
      "cell_type": "code",
      "metadata": {
        "colab": {
          "base_uri": "https://localhost:8080/"
        },
        "id": "pwjpV8m3Q7CU",
        "outputId": "8badb805-427c-4bfc-e27c-83558cc9c69a"
      },
      "source": [
        "# dataframe index\n",
        "df.index"
      ],
      "execution_count": 11,
      "outputs": [
        {
          "output_type": "execute_result",
          "data": {
            "text/plain": [
              "DatetimeIndex(['2021-01-01', '2021-01-02', '2021-01-03', '2021-01-04',\n",
              "               '2021-01-05', '2021-01-06'],\n",
              "              dtype='datetime64[ns]', freq='D')"
            ]
          },
          "metadata": {
            "tags": []
          },
          "execution_count": 11
        }
      ]
    },
    {
      "cell_type": "code",
      "metadata": {
        "colab": {
          "base_uri": "https://localhost:8080/"
        },
        "id": "hsqMMav8Q7CV",
        "outputId": "544360fa-4e1a-449b-8a05-3881193f380f"
      },
      "source": [
        "# dataframe columns\n",
        "df.columns"
      ],
      "execution_count": 12,
      "outputs": [
        {
          "output_type": "execute_result",
          "data": {
            "text/plain": [
              "Index(['A', 'B', 'C', 'D'], dtype='object')"
            ]
          },
          "metadata": {
            "tags": []
          },
          "execution_count": 12
        }
      ]
    },
    {
      "cell_type": "code",
      "metadata": {
        "colab": {
          "base_uri": "https://localhost:8080/"
        },
        "id": "EKg11WsqQ7CV",
        "outputId": "5273b7bd-ae55-47fd-eddd-26a26e3490f6"
      },
      "source": [
        "# dataframe values\n",
        "df.values"
      ],
      "execution_count": 13,
      "outputs": [
        {
          "output_type": "execute_result",
          "data": {
            "text/plain": [
              "array([[-0.55976209, -0.58625289,  0.21556451,  0.97119572],\n",
              "       [ 0.68757623,  1.21847008, -1.37327455, -0.89199509],\n",
              "       [-1.36023706, -2.10620897, -0.59394687,  0.56073158],\n",
              "       [ 1.33781703, -0.60737536, -0.12012782, -0.60277655],\n",
              "       [-0.59758745, -0.61768124,  1.17095993, -0.04462018],\n",
              "       [ 1.98124669,  0.86001464, -0.39911782,  0.19469364]])"
            ]
          },
          "metadata": {
            "tags": []
          },
          "execution_count": 13
        }
      ]
    },
    {
      "cell_type": "code",
      "metadata": {
        "colab": {
          "base_uri": "https://localhost:8080/"
        },
        "id": "XMUg6pfWQ7CV",
        "outputId": "1e58a88b-5cb1-41c2-d339-15a23551a32d"
      },
      "source": [
        "# dataframe에 대한 전체적인 요약정보를 보여줍니다. index, columns, null/not-null/dtype/memory usage가 표시됩니다.\n",
        "df.info()"
      ],
      "execution_count": 14,
      "outputs": [
        {
          "output_type": "stream",
          "text": [
            "<class 'pandas.core.frame.DataFrame'>\n",
            "DatetimeIndex: 6 entries, 2021-01-01 to 2021-01-06\n",
            "Freq: D\n",
            "Data columns (total 4 columns):\n",
            " #   Column  Non-Null Count  Dtype  \n",
            "---  ------  --------------  -----  \n",
            " 0   A       6 non-null      float64\n",
            " 1   B       6 non-null      float64\n",
            " 2   C       6 non-null      float64\n",
            " 3   D       6 non-null      float64\n",
            "dtypes: float64(4)\n",
            "memory usage: 240.0 bytes\n"
          ],
          "name": "stdout"
        }
      ]
    },
    {
      "cell_type": "code",
      "metadata": {
        "colab": {
          "base_uri": "https://localhost:8080/",
          "height": 297
        },
        "id": "mPMSwpyqQ7CV",
        "outputId": "058976d3-951e-40c1-a34e-388649406036"
      },
      "source": [
        "# dataframe에 대한 전체적인 통계정보를 보여줍니다.\n",
        "df.describe()"
      ],
      "execution_count": 16,
      "outputs": [
        {
          "output_type": "execute_result",
          "data": {
            "text/html": [
              "<div>\n",
              "<style scoped>\n",
              "    .dataframe tbody tr th:only-of-type {\n",
              "        vertical-align: middle;\n",
              "    }\n",
              "\n",
              "    .dataframe tbody tr th {\n",
              "        vertical-align: top;\n",
              "    }\n",
              "\n",
              "    .dataframe thead th {\n",
              "        text-align: right;\n",
              "    }\n",
              "</style>\n",
              "<table border=\"1\" class=\"dataframe\">\n",
              "  <thead>\n",
              "    <tr style=\"text-align: right;\">\n",
              "      <th></th>\n",
              "      <th>A</th>\n",
              "      <th>B</th>\n",
              "      <th>C</th>\n",
              "      <th>D</th>\n",
              "    </tr>\n",
              "  </thead>\n",
              "  <tbody>\n",
              "    <tr>\n",
              "      <th>count</th>\n",
              "      <td>6.000000</td>\n",
              "      <td>6.000000</td>\n",
              "      <td>6.000000</td>\n",
              "      <td>6.000000</td>\n",
              "    </tr>\n",
              "    <tr>\n",
              "      <th>mean</th>\n",
              "      <td>0.248176</td>\n",
              "      <td>-0.306506</td>\n",
              "      <td>-0.183324</td>\n",
              "      <td>0.031205</td>\n",
              "    </tr>\n",
              "    <tr>\n",
              "      <th>std</th>\n",
              "      <td>1.291433</td>\n",
              "      <td>1.199238</td>\n",
              "      <td>0.851863</td>\n",
              "      <td>0.700099</td>\n",
              "    </tr>\n",
              "    <tr>\n",
              "      <th>min</th>\n",
              "      <td>-1.360237</td>\n",
              "      <td>-2.106209</td>\n",
              "      <td>-1.373275</td>\n",
              "      <td>-0.891995</td>\n",
              "    </tr>\n",
              "    <tr>\n",
              "      <th>25%</th>\n",
              "      <td>-0.588131</td>\n",
              "      <td>-0.615105</td>\n",
              "      <td>-0.545240</td>\n",
              "      <td>-0.463237</td>\n",
              "    </tr>\n",
              "    <tr>\n",
              "      <th>50%</th>\n",
              "      <td>0.063907</td>\n",
              "      <td>-0.596814</td>\n",
              "      <td>-0.259623</td>\n",
              "      <td>0.075037</td>\n",
              "    </tr>\n",
              "    <tr>\n",
              "      <th>75%</th>\n",
              "      <td>1.175257</td>\n",
              "      <td>0.498448</td>\n",
              "      <td>0.131641</td>\n",
              "      <td>0.469222</td>\n",
              "    </tr>\n",
              "    <tr>\n",
              "      <th>max</th>\n",
              "      <td>1.981247</td>\n",
              "      <td>1.218470</td>\n",
              "      <td>1.170960</td>\n",
              "      <td>0.971196</td>\n",
              "    </tr>\n",
              "  </tbody>\n",
              "</table>\n",
              "</div>"
            ],
            "text/plain": [
              "              A         B         C         D\n",
              "count  6.000000  6.000000  6.000000  6.000000\n",
              "mean   0.248176 -0.306506 -0.183324  0.031205\n",
              "std    1.291433  1.199238  0.851863  0.700099\n",
              "min   -1.360237 -2.106209 -1.373275 -0.891995\n",
              "25%   -0.588131 -0.615105 -0.545240 -0.463237\n",
              "50%    0.063907 -0.596814 -0.259623  0.075037\n",
              "75%    1.175257  0.498448  0.131641  0.469222\n",
              "max    1.981247  1.218470  1.170960  0.971196"
            ]
          },
          "metadata": {
            "tags": []
          },
          "execution_count": 16
        }
      ]
    },
    {
      "cell_type": "code",
      "metadata": {
        "colab": {
          "base_uri": "https://localhost:8080/",
          "height": 142
        },
        "id": "LPJSiQ16Q7CV",
        "outputId": "b733ca7e-16d1-468f-8a14-a85a1257b9a0"
      },
      "source": [
        "# column B를 기준으로 내림차순 정렬\n",
        "df.sort_values(by='B',ascending=False).head(3)"
      ],
      "execution_count": 19,
      "outputs": [
        {
          "output_type": "execute_result",
          "data": {
            "text/html": [
              "<div>\n",
              "<style scoped>\n",
              "    .dataframe tbody tr th:only-of-type {\n",
              "        vertical-align: middle;\n",
              "    }\n",
              "\n",
              "    .dataframe tbody tr th {\n",
              "        vertical-align: top;\n",
              "    }\n",
              "\n",
              "    .dataframe thead th {\n",
              "        text-align: right;\n",
              "    }\n",
              "</style>\n",
              "<table border=\"1\" class=\"dataframe\">\n",
              "  <thead>\n",
              "    <tr style=\"text-align: right;\">\n",
              "      <th></th>\n",
              "      <th>A</th>\n",
              "      <th>B</th>\n",
              "      <th>C</th>\n",
              "      <th>D</th>\n",
              "    </tr>\n",
              "  </thead>\n",
              "  <tbody>\n",
              "    <tr>\n",
              "      <th>2021-01-02</th>\n",
              "      <td>0.687576</td>\n",
              "      <td>1.218470</td>\n",
              "      <td>-1.373275</td>\n",
              "      <td>-0.891995</td>\n",
              "    </tr>\n",
              "    <tr>\n",
              "      <th>2021-01-06</th>\n",
              "      <td>1.981247</td>\n",
              "      <td>0.860015</td>\n",
              "      <td>-0.399118</td>\n",
              "      <td>0.194694</td>\n",
              "    </tr>\n",
              "    <tr>\n",
              "      <th>2021-01-01</th>\n",
              "      <td>-0.559762</td>\n",
              "      <td>-0.586253</td>\n",
              "      <td>0.215565</td>\n",
              "      <td>0.971196</td>\n",
              "    </tr>\n",
              "  </tbody>\n",
              "</table>\n",
              "</div>"
            ],
            "text/plain": [
              "                   A         B         C         D\n",
              "2021-01-02  0.687576  1.218470 -1.373275 -0.891995\n",
              "2021-01-06  1.981247  0.860015 -0.399118  0.194694\n",
              "2021-01-01 -0.559762 -0.586253  0.215565  0.971196"
            ]
          },
          "metadata": {
            "tags": []
          },
          "execution_count": 19
        }
      ]
    },
    {
      "cell_type": "markdown",
      "metadata": {
        "id": "Glcex8RGQ7CW"
      },
      "source": [
        "## 5.4. DataFrame Indexing\n",
        "\n",
        "> Indexing : 데이터에서 어떤 특정 조건을 만족하는 원소를 찾는 방법.\n",
        "\n",
        "> 전체 DataFrame에서 조건에 만족하는 데이터를 쉽게 찾아서 조작할 때 유용하게 사용할 수 있습니다."
      ]
    },
    {
      "cell_type": "code",
      "metadata": {
        "colab": {
          "base_uri": "https://localhost:8080/"
        },
        "id": "jL0ucmi5Q7CW",
        "outputId": "62e3d69f-8ba0-4172-beea-855b9cd3dace"
      },
      "source": [
        "# pandas dataframe은 column 이름을 이용하여 기본적인 Indexing이 가능합니다.\n",
        "# column A를 indexing\n",
        "df[\"A\"] # dataframe에 바로 indexing을 사용하면, column을 찾습니다. == dictionary의 indexing과 같다.\n",
        "# == \"key\"를 indexing == \"key\" == \"column\""
      ],
      "execution_count": 20,
      "outputs": [
        {
          "output_type": "execute_result",
          "data": {
            "text/plain": [
              "2021-01-01   -0.559762\n",
              "2021-01-02    0.687576\n",
              "2021-01-03   -1.360237\n",
              "2021-01-04    1.337817\n",
              "2021-01-05   -0.597587\n",
              "2021-01-06    1.981247\n",
              "Freq: D, Name: A, dtype: float64"
            ]
          },
          "metadata": {
            "tags": []
          },
          "execution_count": 20
        }
      ]
    },
    {
      "cell_type": "code",
      "metadata": {
        "colab": {
          "base_uri": "https://localhost:8080/"
        },
        "id": "TgfcLYDkQ7CW",
        "outputId": "9a4a5ed5-9c44-46a3-f243-d80ddf06d4af"
      },
      "source": [
        "# 특정날짜를 통한 Indexing\n",
        "df.loc['2021-01-03'] #pd.Series"
      ],
      "execution_count": 23,
      "outputs": [
        {
          "output_type": "execute_result",
          "data": {
            "text/plain": [
              "A   -1.360237\n",
              "B   -2.106209\n",
              "C   -0.593947\n",
              "D    0.560732\n",
              "Name: 2021-01-03 00:00:00, dtype: float64"
            ]
          },
          "metadata": {
            "tags": []
          },
          "execution_count": 23
        }
      ]
    },
    {
      "cell_type": "code",
      "metadata": {
        "colab": {
          "base_uri": "https://localhost:8080/"
        },
        "id": "qQ2YrrnBQ7CW",
        "outputId": "16198897-01bd-41ac-cd2f-ce76318486f3"
      },
      "source": [
        "# 특정 위치를 통한 indexing\n",
        "df.iloc[2]"
      ],
      "execution_count": 24,
      "outputs": [
        {
          "output_type": "execute_result",
          "data": {
            "text/plain": [
              "A   -1.360237\n",
              "B   -2.106209\n",
              "C   -0.593947\n",
              "D    0.560732\n",
              "Name: 2021-01-03 00:00:00, dtype: float64"
            ]
          },
          "metadata": {
            "tags": []
          },
          "execution_count": 24
        }
      ]
    },
    {
      "cell_type": "code",
      "metadata": {
        "colab": {
          "base_uri": "https://localhost:8080/",
          "height": 142
        },
        "id": "IRkPdB1zQ7CW",
        "outputId": "d6b59969-4564-4b72-ce21-ca543a57c2f2"
      },
      "source": [
        "# dataframe에서 slicing을 이용하면 row 단위로 잘려나옵니다.\n",
        "# 앞에서 3줄을 slicing 합니다.\n",
        "df[:3]"
      ],
      "execution_count": 25,
      "outputs": [
        {
          "output_type": "execute_result",
          "data": {
            "text/html": [
              "<div>\n",
              "<style scoped>\n",
              "    .dataframe tbody tr th:only-of-type {\n",
              "        vertical-align: middle;\n",
              "    }\n",
              "\n",
              "    .dataframe tbody tr th {\n",
              "        vertical-align: top;\n",
              "    }\n",
              "\n",
              "    .dataframe thead th {\n",
              "        text-align: right;\n",
              "    }\n",
              "</style>\n",
              "<table border=\"1\" class=\"dataframe\">\n",
              "  <thead>\n",
              "    <tr style=\"text-align: right;\">\n",
              "      <th></th>\n",
              "      <th>A</th>\n",
              "      <th>B</th>\n",
              "      <th>C</th>\n",
              "      <th>D</th>\n",
              "    </tr>\n",
              "  </thead>\n",
              "  <tbody>\n",
              "    <tr>\n",
              "      <th>2021-01-01</th>\n",
              "      <td>-0.559762</td>\n",
              "      <td>-0.586253</td>\n",
              "      <td>0.215565</td>\n",
              "      <td>0.971196</td>\n",
              "    </tr>\n",
              "    <tr>\n",
              "      <th>2021-01-02</th>\n",
              "      <td>0.687576</td>\n",
              "      <td>1.218470</td>\n",
              "      <td>-1.373275</td>\n",
              "      <td>-0.891995</td>\n",
              "    </tr>\n",
              "    <tr>\n",
              "      <th>2021-01-03</th>\n",
              "      <td>-1.360237</td>\n",
              "      <td>-2.106209</td>\n",
              "      <td>-0.593947</td>\n",
              "      <td>0.560732</td>\n",
              "    </tr>\n",
              "  </tbody>\n",
              "</table>\n",
              "</div>"
            ],
            "text/plain": [
              "                   A         B         C         D\n",
              "2021-01-01 -0.559762 -0.586253  0.215565  0.971196\n",
              "2021-01-02  0.687576  1.218470 -1.373275 -0.891995\n",
              "2021-01-03 -1.360237 -2.106209 -0.593947  0.560732"
            ]
          },
          "metadata": {
            "tags": []
          },
          "execution_count": 25
        }
      ]
    },
    {
      "cell_type": "code",
      "metadata": {
        "colab": {
          "base_uri": "https://localhost:8080/",
          "height": 142
        },
        "id": "1Q-Tys07Q7CX",
        "outputId": "1bfeab8f-27a5-4a05-e9df-0f3be562ee8c"
      },
      "source": [
        "# df에서 index value를 기준으로 indexing도 가능합니다. (여전히 row 단위)\n",
        "# 20210102부터 20210104까지 잘라봅니다. # index의 값을 사용하게되면 Index를 이용한 slicing\n",
        "df['20210102':'20210104']"
      ],
      "execution_count": 26,
      "outputs": [
        {
          "output_type": "execute_result",
          "data": {
            "text/html": [
              "<div>\n",
              "<style scoped>\n",
              "    .dataframe tbody tr th:only-of-type {\n",
              "        vertical-align: middle;\n",
              "    }\n",
              "\n",
              "    .dataframe tbody tr th {\n",
              "        vertical-align: top;\n",
              "    }\n",
              "\n",
              "    .dataframe thead th {\n",
              "        text-align: right;\n",
              "    }\n",
              "</style>\n",
              "<table border=\"1\" class=\"dataframe\">\n",
              "  <thead>\n",
              "    <tr style=\"text-align: right;\">\n",
              "      <th></th>\n",
              "      <th>A</th>\n",
              "      <th>B</th>\n",
              "      <th>C</th>\n",
              "      <th>D</th>\n",
              "    </tr>\n",
              "  </thead>\n",
              "  <tbody>\n",
              "    <tr>\n",
              "      <th>2021-01-02</th>\n",
              "      <td>0.687576</td>\n",
              "      <td>1.218470</td>\n",
              "      <td>-1.373275</td>\n",
              "      <td>-0.891995</td>\n",
              "    </tr>\n",
              "    <tr>\n",
              "      <th>2021-01-03</th>\n",
              "      <td>-1.360237</td>\n",
              "      <td>-2.106209</td>\n",
              "      <td>-0.593947</td>\n",
              "      <td>0.560732</td>\n",
              "    </tr>\n",
              "    <tr>\n",
              "      <th>2021-01-04</th>\n",
              "      <td>1.337817</td>\n",
              "      <td>-0.607375</td>\n",
              "      <td>-0.120128</td>\n",
              "      <td>-0.602777</td>\n",
              "    </tr>\n",
              "  </tbody>\n",
              "</table>\n",
              "</div>"
            ],
            "text/plain": [
              "                   A         B         C         D\n",
              "2021-01-02  0.687576  1.218470 -1.373275 -0.891995\n",
              "2021-01-03 -1.360237 -2.106209 -0.593947  0.560732\n",
              "2021-01-04  1.337817 -0.607375 -0.120128 -0.602777"
            ]
          },
          "metadata": {
            "tags": []
          },
          "execution_count": 26
        }
      ]
    },
    {
      "cell_type": "code",
      "metadata": {
        "colab": {
          "base_uri": "https://localhost:8080/"
        },
        "id": "NPrByiv3Q7CX",
        "outputId": "12eb602c-e6d0-4e3b-9db7-2b357bfaa355"
      },
      "source": [
        "df.loc['2021-01-02']"
      ],
      "execution_count": 27,
      "outputs": [
        {
          "output_type": "execute_result",
          "data": {
            "text/plain": [
              "A    0.687576\n",
              "B    1.218470\n",
              "C   -1.373275\n",
              "D   -0.891995\n",
              "Name: 2021-01-02 00:00:00, dtype: float64"
            ]
          },
          "metadata": {
            "tags": []
          },
          "execution_count": 27
        }
      ]
    },
    {
      "cell_type": "code",
      "metadata": {
        "colab": {
          "base_uri": "https://localhost:8080/"
        },
        "id": "Mdo_nBtkQ7CX",
        "outputId": "38d97cc4-e041-4897-c3e2-b613161ff16c"
      },
      "source": [
        "\n",
        "# df.loc는 특정값을 기준으로 indexing합니다. (key - value)\n",
        "# 2021-01-01값을 가지는 row를 가져옵니다.\n",
        "df.loc[dates[0]] #df.loc[]"
      ],
      "execution_count": 28,
      "outputs": [
        {
          "output_type": "execute_result",
          "data": {
            "text/plain": [
              "A   -0.559762\n",
              "B   -0.586253\n",
              "C    0.215565\n",
              "D    0.971196\n",
              "Name: 2021-01-01 00:00:00, dtype: float64"
            ]
          },
          "metadata": {
            "tags": []
          },
          "execution_count": 28
        }
      ]
    },
    {
      "cell_type": "code",
      "metadata": {
        "colab": {
          "base_uri": "https://localhost:8080/",
          "height": 235
        },
        "id": "Wy41VaCuQ7CX",
        "outputId": "8f7b3cd6-77d0-4426-8e40-b233df583cdb"
      },
      "source": [
        "# df.loc에 2차원 indexing도 가능합니다. [:, [\"A\", \"B\"]]의 의미는 모든 row에 대해서 columns는 A, B만 가져오라는 의미입니다.\n",
        "df.loc[:,[\"A\",\"B\"]] #dataframe에서 2차원 인덱싱할때 컬럼들은 리스트로 넘겨 줄 수 있다"
      ],
      "execution_count": 29,
      "outputs": [
        {
          "output_type": "execute_result",
          "data": {
            "text/html": [
              "<div>\n",
              "<style scoped>\n",
              "    .dataframe tbody tr th:only-of-type {\n",
              "        vertical-align: middle;\n",
              "    }\n",
              "\n",
              "    .dataframe tbody tr th {\n",
              "        vertical-align: top;\n",
              "    }\n",
              "\n",
              "    .dataframe thead th {\n",
              "        text-align: right;\n",
              "    }\n",
              "</style>\n",
              "<table border=\"1\" class=\"dataframe\">\n",
              "  <thead>\n",
              "    <tr style=\"text-align: right;\">\n",
              "      <th></th>\n",
              "      <th>A</th>\n",
              "      <th>B</th>\n",
              "    </tr>\n",
              "  </thead>\n",
              "  <tbody>\n",
              "    <tr>\n",
              "      <th>2021-01-01</th>\n",
              "      <td>-0.559762</td>\n",
              "      <td>-0.586253</td>\n",
              "    </tr>\n",
              "    <tr>\n",
              "      <th>2021-01-02</th>\n",
              "      <td>0.687576</td>\n",
              "      <td>1.218470</td>\n",
              "    </tr>\n",
              "    <tr>\n",
              "      <th>2021-01-03</th>\n",
              "      <td>-1.360237</td>\n",
              "      <td>-2.106209</td>\n",
              "    </tr>\n",
              "    <tr>\n",
              "      <th>2021-01-04</th>\n",
              "      <td>1.337817</td>\n",
              "      <td>-0.607375</td>\n",
              "    </tr>\n",
              "    <tr>\n",
              "      <th>2021-01-05</th>\n",
              "      <td>-0.597587</td>\n",
              "      <td>-0.617681</td>\n",
              "    </tr>\n",
              "    <tr>\n",
              "      <th>2021-01-06</th>\n",
              "      <td>1.981247</td>\n",
              "      <td>0.860015</td>\n",
              "    </tr>\n",
              "  </tbody>\n",
              "</table>\n",
              "</div>"
            ],
            "text/plain": [
              "                   A         B\n",
              "2021-01-01 -0.559762 -0.586253\n",
              "2021-01-02  0.687576  1.218470\n",
              "2021-01-03 -1.360237 -2.106209\n",
              "2021-01-04  1.337817 -0.607375\n",
              "2021-01-05 -0.597587 -0.617681\n",
              "2021-01-06  1.981247  0.860015"
            ]
          },
          "metadata": {
            "tags": []
          },
          "execution_count": 29
        }
      ]
    },
    {
      "cell_type": "code",
      "metadata": {
        "colab": {
          "base_uri": "https://localhost:8080/",
          "height": 142
        },
        "id": "IuHpCtctQ7CX",
        "outputId": "2b03314b-7070-45d4-886c-8088de09e178"
      },
      "source": [
        "# 이번엔 slicing을 통해 특정 row중에서 columns는 A, B\n",
        "df.loc['2021-01-03':'2021-01-05',['A','C']]"
      ],
      "execution_count": 30,
      "outputs": [
        {
          "output_type": "execute_result",
          "data": {
            "text/html": [
              "<div>\n",
              "<style scoped>\n",
              "    .dataframe tbody tr th:only-of-type {\n",
              "        vertical-align: middle;\n",
              "    }\n",
              "\n",
              "    .dataframe tbody tr th {\n",
              "        vertical-align: top;\n",
              "    }\n",
              "\n",
              "    .dataframe thead th {\n",
              "        text-align: right;\n",
              "    }\n",
              "</style>\n",
              "<table border=\"1\" class=\"dataframe\">\n",
              "  <thead>\n",
              "    <tr style=\"text-align: right;\">\n",
              "      <th></th>\n",
              "      <th>A</th>\n",
              "      <th>C</th>\n",
              "    </tr>\n",
              "  </thead>\n",
              "  <tbody>\n",
              "    <tr>\n",
              "      <th>2021-01-03</th>\n",
              "      <td>-1.360237</td>\n",
              "      <td>-0.593947</td>\n",
              "    </tr>\n",
              "    <tr>\n",
              "      <th>2021-01-04</th>\n",
              "      <td>1.337817</td>\n",
              "      <td>-0.120128</td>\n",
              "    </tr>\n",
              "    <tr>\n",
              "      <th>2021-01-05</th>\n",
              "      <td>-0.597587</td>\n",
              "      <td>1.170960</td>\n",
              "    </tr>\n",
              "  </tbody>\n",
              "</table>\n",
              "</div>"
            ],
            "text/plain": [
              "                   A         C\n",
              "2021-01-03 -1.360237 -0.593947\n",
              "2021-01-04  1.337817 -0.120128\n",
              "2021-01-05 -0.597587  1.170960"
            ]
          },
          "metadata": {
            "tags": []
          },
          "execution_count": 30
        }
      ]
    },
    {
      "cell_type": "code",
      "metadata": {
        "colab": {
          "base_uri": "https://localhost:8080/",
          "height": 142
        },
        "id": "BOpL2P1RQ7CY",
        "outputId": "7c0e857b-16bf-4aec-f458-d2c1e0527944"
      },
      "source": [
        "# 특정 row를 index값을 통한 indexing\n",
        "df.loc['2021-01-02':'2021-01-04',['A','B']]"
      ],
      "execution_count": 31,
      "outputs": [
        {
          "output_type": "execute_result",
          "data": {
            "text/html": [
              "<div>\n",
              "<style scoped>\n",
              "    .dataframe tbody tr th:only-of-type {\n",
              "        vertical-align: middle;\n",
              "    }\n",
              "\n",
              "    .dataframe tbody tr th {\n",
              "        vertical-align: top;\n",
              "    }\n",
              "\n",
              "    .dataframe thead th {\n",
              "        text-align: right;\n",
              "    }\n",
              "</style>\n",
              "<table border=\"1\" class=\"dataframe\">\n",
              "  <thead>\n",
              "    <tr style=\"text-align: right;\">\n",
              "      <th></th>\n",
              "      <th>A</th>\n",
              "      <th>B</th>\n",
              "    </tr>\n",
              "  </thead>\n",
              "  <tbody>\n",
              "    <tr>\n",
              "      <th>2021-01-02</th>\n",
              "      <td>0.687576</td>\n",
              "      <td>1.218470</td>\n",
              "    </tr>\n",
              "    <tr>\n",
              "      <th>2021-01-03</th>\n",
              "      <td>-1.360237</td>\n",
              "      <td>-2.106209</td>\n",
              "    </tr>\n",
              "    <tr>\n",
              "      <th>2021-01-04</th>\n",
              "      <td>1.337817</td>\n",
              "      <td>-0.607375</td>\n",
              "    </tr>\n",
              "  </tbody>\n",
              "</table>\n",
              "</div>"
            ],
            "text/plain": [
              "                   A         B\n",
              "2021-01-02  0.687576  1.218470\n",
              "2021-01-03 -1.360237 -2.106209\n",
              "2021-01-04  1.337817 -0.607375"
            ]
          },
          "metadata": {
            "tags": []
          },
          "execution_count": 31
        }
      ]
    },
    {
      "cell_type": "code",
      "metadata": {
        "colab": {
          "base_uri": "https://localhost:8080/"
        },
        "id": "5sTf2LsiQ7CY",
        "outputId": "919bb2bf-a3d5-4de0-b873-3fc7929af6a1"
      },
      "source": [
        "# 2차원 리스트 indexing과 같은 원리가 되었습니다.\n",
        "df.loc['2021-01-05','C']"
      ],
      "execution_count": 32,
      "outputs": [
        {
          "output_type": "execute_result",
          "data": {
            "text/plain": [
              "1.1709599288684085"
            ]
          },
          "metadata": {
            "tags": []
          },
          "execution_count": 32
        }
      ]
    },
    {
      "cell_type": "code",
      "metadata": {
        "colab": {
          "base_uri": "https://localhost:8080/",
          "height": 111
        },
        "id": "qf125p8rQ7CY",
        "outputId": "0cdfb6ec-d618-4057-f7fd-6aa56106312a"
      },
      "source": [
        "# df.iloc는 정수를 이용한 indexing과 같습니다.(row 기준) 3은 4번째를 의미합니다.\n",
        "df.iloc[3:5,0:2] #df.iloc의 인덱싱은 넘파이 어레이의 2차원 인덱스와 동일해진다."
      ],
      "execution_count": 34,
      "outputs": [
        {
          "output_type": "execute_result",
          "data": {
            "text/html": [
              "<div>\n",
              "<style scoped>\n",
              "    .dataframe tbody tr th:only-of-type {\n",
              "        vertical-align: middle;\n",
              "    }\n",
              "\n",
              "    .dataframe tbody tr th {\n",
              "        vertical-align: top;\n",
              "    }\n",
              "\n",
              "    .dataframe thead th {\n",
              "        text-align: right;\n",
              "    }\n",
              "</style>\n",
              "<table border=\"1\" class=\"dataframe\">\n",
              "  <thead>\n",
              "    <tr style=\"text-align: right;\">\n",
              "      <th></th>\n",
              "      <th>A</th>\n",
              "      <th>B</th>\n",
              "    </tr>\n",
              "  </thead>\n",
              "  <tbody>\n",
              "    <tr>\n",
              "      <th>2021-01-04</th>\n",
              "      <td>1.337817</td>\n",
              "      <td>-0.607375</td>\n",
              "    </tr>\n",
              "    <tr>\n",
              "      <th>2021-01-05</th>\n",
              "      <td>-0.597587</td>\n",
              "      <td>-0.617681</td>\n",
              "    </tr>\n",
              "  </tbody>\n",
              "</table>\n",
              "</div>"
            ],
            "text/plain": [
              "                   A         B\n",
              "2021-01-04  1.337817 -0.607375\n",
              "2021-01-05 -0.597587 -0.617681"
            ]
          },
          "metadata": {
            "tags": []
          },
          "execution_count": 34
        }
      ]
    },
    {
      "cell_type": "code",
      "metadata": {
        "colab": {
          "base_uri": "https://localhost:8080/",
          "height": 111
        },
        "id": "ikPPsttFQ7CY",
        "outputId": "11966bc0-e0f4-4cf1-d5cb-8aef6bd3da66"
      },
      "source": [
        "# iloc로 2차원 indexing을 하게되면, row 기준으로 index 3,4를 가져오고 column 기준으로 0, 1을 가져옵니다.\n",
        "df.iloc[3:5,0:2] #df.iloc의 인덱싱은 넘파이 어레이의 2차원 인덱스와 동일해진다."
      ],
      "execution_count": 35,
      "outputs": [
        {
          "output_type": "execute_result",
          "data": {
            "text/html": [
              "<div>\n",
              "<style scoped>\n",
              "    .dataframe tbody tr th:only-of-type {\n",
              "        vertical-align: middle;\n",
              "    }\n",
              "\n",
              "    .dataframe tbody tr th {\n",
              "        vertical-align: top;\n",
              "    }\n",
              "\n",
              "    .dataframe thead th {\n",
              "        text-align: right;\n",
              "    }\n",
              "</style>\n",
              "<table border=\"1\" class=\"dataframe\">\n",
              "  <thead>\n",
              "    <tr style=\"text-align: right;\">\n",
              "      <th></th>\n",
              "      <th>A</th>\n",
              "      <th>B</th>\n",
              "    </tr>\n",
              "  </thead>\n",
              "  <tbody>\n",
              "    <tr>\n",
              "      <th>2021-01-04</th>\n",
              "      <td>1.337817</td>\n",
              "      <td>-0.607375</td>\n",
              "    </tr>\n",
              "    <tr>\n",
              "      <th>2021-01-05</th>\n",
              "      <td>-0.597587</td>\n",
              "      <td>-0.617681</td>\n",
              "    </tr>\n",
              "  </tbody>\n",
              "</table>\n",
              "</div>"
            ],
            "text/plain": [
              "                   A         B\n",
              "2021-01-04  1.337817 -0.607375\n",
              "2021-01-05 -0.597587 -0.617681"
            ]
          },
          "metadata": {
            "tags": []
          },
          "execution_count": 35
        }
      ]
    },
    {
      "cell_type": "code",
      "metadata": {
        "colab": {
          "base_uri": "https://localhost:8080/",
          "height": 142
        },
        "id": "azawJpPFQ7CY",
        "outputId": "b5588df6-1cca-48e3-e655-d0eac26d16bd"
      },
      "source": [
        "# slicing이 아닌 직접 리스트 형태로 기재하는 indexing\n",
        "df.iloc[[1,2,4],[0,3]]"
      ],
      "execution_count": 36,
      "outputs": [
        {
          "output_type": "execute_result",
          "data": {
            "text/html": [
              "<div>\n",
              "<style scoped>\n",
              "    .dataframe tbody tr th:only-of-type {\n",
              "        vertical-align: middle;\n",
              "    }\n",
              "\n",
              "    .dataframe tbody tr th {\n",
              "        vertical-align: top;\n",
              "    }\n",
              "\n",
              "    .dataframe thead th {\n",
              "        text-align: right;\n",
              "    }\n",
              "</style>\n",
              "<table border=\"1\" class=\"dataframe\">\n",
              "  <thead>\n",
              "    <tr style=\"text-align: right;\">\n",
              "      <th></th>\n",
              "      <th>A</th>\n",
              "      <th>D</th>\n",
              "    </tr>\n",
              "  </thead>\n",
              "  <tbody>\n",
              "    <tr>\n",
              "      <th>2021-01-02</th>\n",
              "      <td>0.687576</td>\n",
              "      <td>-0.891995</td>\n",
              "    </tr>\n",
              "    <tr>\n",
              "      <th>2021-01-03</th>\n",
              "      <td>-1.360237</td>\n",
              "      <td>0.560732</td>\n",
              "    </tr>\n",
              "    <tr>\n",
              "      <th>2021-01-05</th>\n",
              "      <td>-0.597587</td>\n",
              "      <td>-0.044620</td>\n",
              "    </tr>\n",
              "  </tbody>\n",
              "</table>\n",
              "</div>"
            ],
            "text/plain": [
              "                   A         D\n",
              "2021-01-02  0.687576 -0.891995\n",
              "2021-01-03 -1.360237  0.560732\n",
              "2021-01-05 -0.597587 -0.044620"
            ]
          },
          "metadata": {
            "tags": []
          },
          "execution_count": 36
        }
      ]
    },
    {
      "cell_type": "code",
      "metadata": {
        "colab": {
          "base_uri": "https://localhost:8080/",
          "height": 111
        },
        "id": "4pwsNaFKQ7CZ",
        "outputId": "ca077a5a-9793-49a9-a6e9-35843e3d3c96"
      },
      "source": [
        "# Q. 2차원 indexing에 뒤에가 : 면 어떤 의미일까요?\n",
        "df.iloc[1:3,:]"
      ],
      "execution_count": 37,
      "outputs": [
        {
          "output_type": "execute_result",
          "data": {
            "text/html": [
              "<div>\n",
              "<style scoped>\n",
              "    .dataframe tbody tr th:only-of-type {\n",
              "        vertical-align: middle;\n",
              "    }\n",
              "\n",
              "    .dataframe tbody tr th {\n",
              "        vertical-align: top;\n",
              "    }\n",
              "\n",
              "    .dataframe thead th {\n",
              "        text-align: right;\n",
              "    }\n",
              "</style>\n",
              "<table border=\"1\" class=\"dataframe\">\n",
              "  <thead>\n",
              "    <tr style=\"text-align: right;\">\n",
              "      <th></th>\n",
              "      <th>A</th>\n",
              "      <th>B</th>\n",
              "      <th>C</th>\n",
              "      <th>D</th>\n",
              "    </tr>\n",
              "  </thead>\n",
              "  <tbody>\n",
              "    <tr>\n",
              "      <th>2021-01-02</th>\n",
              "      <td>0.687576</td>\n",
              "      <td>1.218470</td>\n",
              "      <td>-1.373275</td>\n",
              "      <td>-0.891995</td>\n",
              "    </tr>\n",
              "    <tr>\n",
              "      <th>2021-01-03</th>\n",
              "      <td>-1.360237</td>\n",
              "      <td>-2.106209</td>\n",
              "      <td>-0.593947</td>\n",
              "      <td>0.560732</td>\n",
              "    </tr>\n",
              "  </tbody>\n",
              "</table>\n",
              "</div>"
            ],
            "text/plain": [
              "                   A         B         C         D\n",
              "2021-01-02  0.687576  1.218470 -1.373275 -0.891995\n",
              "2021-01-03 -1.360237 -2.106209 -0.593947  0.560732"
            ]
          },
          "metadata": {
            "tags": []
          },
          "execution_count": 37
        }
      ]
    },
    {
      "cell_type": "code",
      "metadata": {
        "colab": {
          "base_uri": "https://localhost:8080/",
          "height": 235
        },
        "id": "4TmURd8zQ7CZ",
        "outputId": "d5a42e51-40e8-4db6-812a-393b147dfe82"
      },
      "source": [
        "# numpy array의 2차원 indexing과 같다.\n",
        "df.iloc[:,1:3]"
      ],
      "execution_count": 38,
      "outputs": [
        {
          "output_type": "execute_result",
          "data": {
            "text/html": [
              "<div>\n",
              "<style scoped>\n",
              "    .dataframe tbody tr th:only-of-type {\n",
              "        vertical-align: middle;\n",
              "    }\n",
              "\n",
              "    .dataframe tbody tr th {\n",
              "        vertical-align: top;\n",
              "    }\n",
              "\n",
              "    .dataframe thead th {\n",
              "        text-align: right;\n",
              "    }\n",
              "</style>\n",
              "<table border=\"1\" class=\"dataframe\">\n",
              "  <thead>\n",
              "    <tr style=\"text-align: right;\">\n",
              "      <th></th>\n",
              "      <th>B</th>\n",
              "      <th>C</th>\n",
              "    </tr>\n",
              "  </thead>\n",
              "  <tbody>\n",
              "    <tr>\n",
              "      <th>2021-01-01</th>\n",
              "      <td>-0.586253</td>\n",
              "      <td>0.215565</td>\n",
              "    </tr>\n",
              "    <tr>\n",
              "      <th>2021-01-02</th>\n",
              "      <td>1.218470</td>\n",
              "      <td>-1.373275</td>\n",
              "    </tr>\n",
              "    <tr>\n",
              "      <th>2021-01-03</th>\n",
              "      <td>-2.106209</td>\n",
              "      <td>-0.593947</td>\n",
              "    </tr>\n",
              "    <tr>\n",
              "      <th>2021-01-04</th>\n",
              "      <td>-0.607375</td>\n",
              "      <td>-0.120128</td>\n",
              "    </tr>\n",
              "    <tr>\n",
              "      <th>2021-01-05</th>\n",
              "      <td>-0.617681</td>\n",
              "      <td>1.170960</td>\n",
              "    </tr>\n",
              "    <tr>\n",
              "      <th>2021-01-06</th>\n",
              "      <td>0.860015</td>\n",
              "      <td>-0.399118</td>\n",
              "    </tr>\n",
              "  </tbody>\n",
              "</table>\n",
              "</div>"
            ],
            "text/plain": [
              "                   B         C\n",
              "2021-01-01 -0.586253  0.215565\n",
              "2021-01-02  1.218470 -1.373275\n",
              "2021-01-03 -2.106209 -0.593947\n",
              "2021-01-04 -0.607375 -0.120128\n",
              "2021-01-05 -0.617681  1.170960\n",
              "2021-01-06  0.860015 -0.399118"
            ]
          },
          "metadata": {
            "tags": []
          },
          "execution_count": 38
        }
      ]
    },
    {
      "cell_type": "code",
      "metadata": {
        "colab": {
          "base_uri": "https://localhost:8080/",
          "height": 235
        },
        "id": "qAkSMQQGQ7CZ",
        "outputId": "f77fd546-f900-4de8-86e5-ddf589511b81"
      },
      "source": [
        "df"
      ],
      "execution_count": 39,
      "outputs": [
        {
          "output_type": "execute_result",
          "data": {
            "text/html": [
              "<div>\n",
              "<style scoped>\n",
              "    .dataframe tbody tr th:only-of-type {\n",
              "        vertical-align: middle;\n",
              "    }\n",
              "\n",
              "    .dataframe tbody tr th {\n",
              "        vertical-align: top;\n",
              "    }\n",
              "\n",
              "    .dataframe thead th {\n",
              "        text-align: right;\n",
              "    }\n",
              "</style>\n",
              "<table border=\"1\" class=\"dataframe\">\n",
              "  <thead>\n",
              "    <tr style=\"text-align: right;\">\n",
              "      <th></th>\n",
              "      <th>A</th>\n",
              "      <th>B</th>\n",
              "      <th>C</th>\n",
              "      <th>D</th>\n",
              "    </tr>\n",
              "  </thead>\n",
              "  <tbody>\n",
              "    <tr>\n",
              "      <th>2021-01-01</th>\n",
              "      <td>-0.559762</td>\n",
              "      <td>-0.586253</td>\n",
              "      <td>0.215565</td>\n",
              "      <td>0.971196</td>\n",
              "    </tr>\n",
              "    <tr>\n",
              "      <th>2021-01-02</th>\n",
              "      <td>0.687576</td>\n",
              "      <td>1.218470</td>\n",
              "      <td>-1.373275</td>\n",
              "      <td>-0.891995</td>\n",
              "    </tr>\n",
              "    <tr>\n",
              "      <th>2021-01-03</th>\n",
              "      <td>-1.360237</td>\n",
              "      <td>-2.106209</td>\n",
              "      <td>-0.593947</td>\n",
              "      <td>0.560732</td>\n",
              "    </tr>\n",
              "    <tr>\n",
              "      <th>2021-01-04</th>\n",
              "      <td>1.337817</td>\n",
              "      <td>-0.607375</td>\n",
              "      <td>-0.120128</td>\n",
              "      <td>-0.602777</td>\n",
              "    </tr>\n",
              "    <tr>\n",
              "      <th>2021-01-05</th>\n",
              "      <td>-0.597587</td>\n",
              "      <td>-0.617681</td>\n",
              "      <td>1.170960</td>\n",
              "      <td>-0.044620</td>\n",
              "    </tr>\n",
              "    <tr>\n",
              "      <th>2021-01-06</th>\n",
              "      <td>1.981247</td>\n",
              "      <td>0.860015</td>\n",
              "      <td>-0.399118</td>\n",
              "      <td>0.194694</td>\n",
              "    </tr>\n",
              "  </tbody>\n",
              "</table>\n",
              "</div>"
            ],
            "text/plain": [
              "                   A         B         C         D\n",
              "2021-01-01 -0.559762 -0.586253  0.215565  0.971196\n",
              "2021-01-02  0.687576  1.218470 -1.373275 -0.891995\n",
              "2021-01-03 -1.360237 -2.106209 -0.593947  0.560732\n",
              "2021-01-04  1.337817 -0.607375 -0.120128 -0.602777\n",
              "2021-01-05 -0.597587 -0.617681  1.170960 -0.044620\n",
              "2021-01-06  1.981247  0.860015 -0.399118  0.194694"
            ]
          },
          "metadata": {
            "tags": []
          },
          "execution_count": 39
        }
      ]
    },
    {
      "cell_type": "code",
      "metadata": {
        "colab": {
          "base_uri": "https://localhost:8080/"
        },
        "id": "RcfH4OldQ7CZ",
        "outputId": "3dcdf3c2-7d75-4392-bb76-a770e50cdf14"
      },
      "source": [
        "# pandas는 fancy indexing을 지원합니다. (사실 numpy에서 지원하기 때문에 pandas도 지원합니다.)\n",
        "# fancy indexing이란 조건문을 통해 indexing을 할 수 있는 방법으로 True와 False를 원소로 하는 리스트를 통해 masking하는 원리로 동작합니다.\n",
        "# column A에 있는 원소들중에 0보다 큰 데이터를 가져옵니다.\n",
        "df['A'] >0"
      ],
      "execution_count": 40,
      "outputs": [
        {
          "output_type": "execute_result",
          "data": {
            "text/plain": [
              "2021-01-01    False\n",
              "2021-01-02     True\n",
              "2021-01-03    False\n",
              "2021-01-04     True\n",
              "2021-01-05    False\n",
              "2021-01-06     True\n",
              "Freq: D, Name: A, dtype: bool"
            ]
          },
          "metadata": {
            "tags": []
          },
          "execution_count": 40
        }
      ]
    },
    {
      "cell_type": "code",
      "metadata": {
        "colab": {
          "base_uri": "https://localhost:8080/",
          "height": 142
        },
        "id": "i36DnJXHQ7CZ",
        "outputId": "c16f5952-4ae7-4d6e-c437-93620effb9b0"
      },
      "source": [
        "# fancy indexing\n",
        "df[df['A'] >0]"
      ],
      "execution_count": 41,
      "outputs": [
        {
          "output_type": "execute_result",
          "data": {
            "text/html": [
              "<div>\n",
              "<style scoped>\n",
              "    .dataframe tbody tr th:only-of-type {\n",
              "        vertical-align: middle;\n",
              "    }\n",
              "\n",
              "    .dataframe tbody tr th {\n",
              "        vertical-align: top;\n",
              "    }\n",
              "\n",
              "    .dataframe thead th {\n",
              "        text-align: right;\n",
              "    }\n",
              "</style>\n",
              "<table border=\"1\" class=\"dataframe\">\n",
              "  <thead>\n",
              "    <tr style=\"text-align: right;\">\n",
              "      <th></th>\n",
              "      <th>A</th>\n",
              "      <th>B</th>\n",
              "      <th>C</th>\n",
              "      <th>D</th>\n",
              "    </tr>\n",
              "  </thead>\n",
              "  <tbody>\n",
              "    <tr>\n",
              "      <th>2021-01-02</th>\n",
              "      <td>0.687576</td>\n",
              "      <td>1.218470</td>\n",
              "      <td>-1.373275</td>\n",
              "      <td>-0.891995</td>\n",
              "    </tr>\n",
              "    <tr>\n",
              "      <th>2021-01-04</th>\n",
              "      <td>1.337817</td>\n",
              "      <td>-0.607375</td>\n",
              "      <td>-0.120128</td>\n",
              "      <td>-0.602777</td>\n",
              "    </tr>\n",
              "    <tr>\n",
              "      <th>2021-01-06</th>\n",
              "      <td>1.981247</td>\n",
              "      <td>0.860015</td>\n",
              "      <td>-0.399118</td>\n",
              "      <td>0.194694</td>\n",
              "    </tr>\n",
              "  </tbody>\n",
              "</table>\n",
              "</div>"
            ],
            "text/plain": [
              "                   A         B         C         D\n",
              "2021-01-02  0.687576  1.218470 -1.373275 -0.891995\n",
              "2021-01-04  1.337817 -0.607375 -0.120128 -0.602777\n",
              "2021-01-06  1.981247  0.860015 -0.399118  0.194694"
            ]
          },
          "metadata": {
            "tags": []
          },
          "execution_count": 41
        }
      ]
    },
    {
      "cell_type": "code",
      "metadata": {
        "colab": {
          "base_uri": "https://localhost:8080/",
          "height": 235
        },
        "id": "AlpVyvMWQ7CZ",
        "outputId": "c48720eb-1f7b-46bb-c9b9-50796d42d00d"
      },
      "source": [
        "df[df < 0] = 0\n",
        "df"
      ],
      "execution_count": 43,
      "outputs": [
        {
          "output_type": "execute_result",
          "data": {
            "text/html": [
              "<div>\n",
              "<style scoped>\n",
              "    .dataframe tbody tr th:only-of-type {\n",
              "        vertical-align: middle;\n",
              "    }\n",
              "\n",
              "    .dataframe tbody tr th {\n",
              "        vertical-align: top;\n",
              "    }\n",
              "\n",
              "    .dataframe thead th {\n",
              "        text-align: right;\n",
              "    }\n",
              "</style>\n",
              "<table border=\"1\" class=\"dataframe\">\n",
              "  <thead>\n",
              "    <tr style=\"text-align: right;\">\n",
              "      <th></th>\n",
              "      <th>A</th>\n",
              "      <th>B</th>\n",
              "      <th>C</th>\n",
              "      <th>D</th>\n",
              "    </tr>\n",
              "  </thead>\n",
              "  <tbody>\n",
              "    <tr>\n",
              "      <th>2021-01-01</th>\n",
              "      <td>0.000000</td>\n",
              "      <td>0.000000</td>\n",
              "      <td>0.215565</td>\n",
              "      <td>0.971196</td>\n",
              "    </tr>\n",
              "    <tr>\n",
              "      <th>2021-01-02</th>\n",
              "      <td>0.687576</td>\n",
              "      <td>1.218470</td>\n",
              "      <td>0.000000</td>\n",
              "      <td>0.000000</td>\n",
              "    </tr>\n",
              "    <tr>\n",
              "      <th>2021-01-03</th>\n",
              "      <td>0.000000</td>\n",
              "      <td>0.000000</td>\n",
              "      <td>0.000000</td>\n",
              "      <td>0.560732</td>\n",
              "    </tr>\n",
              "    <tr>\n",
              "      <th>2021-01-04</th>\n",
              "      <td>1.337817</td>\n",
              "      <td>0.000000</td>\n",
              "      <td>0.000000</td>\n",
              "      <td>0.000000</td>\n",
              "    </tr>\n",
              "    <tr>\n",
              "      <th>2021-01-05</th>\n",
              "      <td>0.000000</td>\n",
              "      <td>0.000000</td>\n",
              "      <td>1.170960</td>\n",
              "      <td>0.000000</td>\n",
              "    </tr>\n",
              "    <tr>\n",
              "      <th>2021-01-06</th>\n",
              "      <td>1.981247</td>\n",
              "      <td>0.860015</td>\n",
              "      <td>0.000000</td>\n",
              "      <td>0.194694</td>\n",
              "    </tr>\n",
              "  </tbody>\n",
              "</table>\n",
              "</div>"
            ],
            "text/plain": [
              "                   A         B         C         D\n",
              "2021-01-01  0.000000  0.000000  0.215565  0.971196\n",
              "2021-01-02  0.687576  1.218470  0.000000  0.000000\n",
              "2021-01-03  0.000000  0.000000  0.000000  0.560732\n",
              "2021-01-04  1.337817  0.000000  0.000000  0.000000\n",
              "2021-01-05  0.000000  0.000000  1.170960  0.000000\n",
              "2021-01-06  1.981247  0.860015  0.000000  0.194694"
            ]
          },
          "metadata": {
            "tags": []
          },
          "execution_count": 43
        }
      ]
    },
    {
      "cell_type": "code",
      "metadata": {
        "colab": {
          "base_uri": "https://localhost:8080/",
          "height": 235
        },
        "id": "rRQYFk6_Q7Ca",
        "outputId": "3e45f613-be1d-4247-bd6e-63a51df423f1"
      },
      "source": [
        "#df[df > 0]\n",
        "df[df > 0]"
      ],
      "execution_count": 42,
      "outputs": [
        {
          "output_type": "execute_result",
          "data": {
            "text/html": [
              "<div>\n",
              "<style scoped>\n",
              "    .dataframe tbody tr th:only-of-type {\n",
              "        vertical-align: middle;\n",
              "    }\n",
              "\n",
              "    .dataframe tbody tr th {\n",
              "        vertical-align: top;\n",
              "    }\n",
              "\n",
              "    .dataframe thead th {\n",
              "        text-align: right;\n",
              "    }\n",
              "</style>\n",
              "<table border=\"1\" class=\"dataframe\">\n",
              "  <thead>\n",
              "    <tr style=\"text-align: right;\">\n",
              "      <th></th>\n",
              "      <th>A</th>\n",
              "      <th>B</th>\n",
              "      <th>C</th>\n",
              "      <th>D</th>\n",
              "    </tr>\n",
              "  </thead>\n",
              "  <tbody>\n",
              "    <tr>\n",
              "      <th>2021-01-01</th>\n",
              "      <td>NaN</td>\n",
              "      <td>NaN</td>\n",
              "      <td>0.215565</td>\n",
              "      <td>0.971196</td>\n",
              "    </tr>\n",
              "    <tr>\n",
              "      <th>2021-01-02</th>\n",
              "      <td>0.687576</td>\n",
              "      <td>1.218470</td>\n",
              "      <td>NaN</td>\n",
              "      <td>NaN</td>\n",
              "    </tr>\n",
              "    <tr>\n",
              "      <th>2021-01-03</th>\n",
              "      <td>NaN</td>\n",
              "      <td>NaN</td>\n",
              "      <td>NaN</td>\n",
              "      <td>0.560732</td>\n",
              "    </tr>\n",
              "    <tr>\n",
              "      <th>2021-01-04</th>\n",
              "      <td>1.337817</td>\n",
              "      <td>NaN</td>\n",
              "      <td>NaN</td>\n",
              "      <td>NaN</td>\n",
              "    </tr>\n",
              "    <tr>\n",
              "      <th>2021-01-05</th>\n",
              "      <td>NaN</td>\n",
              "      <td>NaN</td>\n",
              "      <td>1.170960</td>\n",
              "      <td>NaN</td>\n",
              "    </tr>\n",
              "    <tr>\n",
              "      <th>2021-01-06</th>\n",
              "      <td>1.981247</td>\n",
              "      <td>0.860015</td>\n",
              "      <td>NaN</td>\n",
              "      <td>0.194694</td>\n",
              "    </tr>\n",
              "  </tbody>\n",
              "</table>\n",
              "</div>"
            ],
            "text/plain": [
              "                   A         B         C         D\n",
              "2021-01-01       NaN       NaN  0.215565  0.971196\n",
              "2021-01-02  0.687576  1.218470       NaN       NaN\n",
              "2021-01-03       NaN       NaN       NaN  0.560732\n",
              "2021-01-04  1.337817       NaN       NaN       NaN\n",
              "2021-01-05       NaN       NaN  1.170960       NaN\n",
              "2021-01-06  1.981247  0.860015       NaN  0.194694"
            ]
          },
          "metadata": {
            "tags": []
          },
          "execution_count": 42
        }
      ]
    },
    {
      "cell_type": "code",
      "metadata": {
        "id": "LPM-0IoRQ7Ca"
      },
      "source": [
        " # dataframe 하나를 복사합니다. 정말 말그대로 복사합니다.\n",
        " df2 = df.copy()"
      ],
      "execution_count": 44,
      "outputs": []
    },
    {
      "cell_type": "code",
      "metadata": {
        "colab": {
          "base_uri": "https://localhost:8080/",
          "height": 235
        },
        "id": "e5hllrhzQ7Ca",
        "outputId": "82da9255-b9db-47cb-8294-0862fa8f4a98"
      },
      "source": [
        "# dataframe은 dictionary와 비슷한 방식으로 assignment가 가능합니다.\n",
        "# df에 ['one', 'one','two','three','four','three'] 리스트를 column의 value로 하는 column E를 추가합니다.\n",
        "df2['E'] =  ['one', 'one','two','three','four','three']\n",
        "df2"
      ],
      "execution_count": 46,
      "outputs": [
        {
          "output_type": "execute_result",
          "data": {
            "text/html": [
              "<div>\n",
              "<style scoped>\n",
              "    .dataframe tbody tr th:only-of-type {\n",
              "        vertical-align: middle;\n",
              "    }\n",
              "\n",
              "    .dataframe tbody tr th {\n",
              "        vertical-align: top;\n",
              "    }\n",
              "\n",
              "    .dataframe thead th {\n",
              "        text-align: right;\n",
              "    }\n",
              "</style>\n",
              "<table border=\"1\" class=\"dataframe\">\n",
              "  <thead>\n",
              "    <tr style=\"text-align: right;\">\n",
              "      <th></th>\n",
              "      <th>A</th>\n",
              "      <th>B</th>\n",
              "      <th>C</th>\n",
              "      <th>D</th>\n",
              "      <th>E</th>\n",
              "    </tr>\n",
              "  </thead>\n",
              "  <tbody>\n",
              "    <tr>\n",
              "      <th>2021-01-01</th>\n",
              "      <td>0.000000</td>\n",
              "      <td>0.000000</td>\n",
              "      <td>0.215565</td>\n",
              "      <td>0.971196</td>\n",
              "      <td>one</td>\n",
              "    </tr>\n",
              "    <tr>\n",
              "      <th>2021-01-02</th>\n",
              "      <td>0.687576</td>\n",
              "      <td>1.218470</td>\n",
              "      <td>0.000000</td>\n",
              "      <td>0.000000</td>\n",
              "      <td>one</td>\n",
              "    </tr>\n",
              "    <tr>\n",
              "      <th>2021-01-03</th>\n",
              "      <td>0.000000</td>\n",
              "      <td>0.000000</td>\n",
              "      <td>0.000000</td>\n",
              "      <td>0.560732</td>\n",
              "      <td>two</td>\n",
              "    </tr>\n",
              "    <tr>\n",
              "      <th>2021-01-04</th>\n",
              "      <td>1.337817</td>\n",
              "      <td>0.000000</td>\n",
              "      <td>0.000000</td>\n",
              "      <td>0.000000</td>\n",
              "      <td>three</td>\n",
              "    </tr>\n",
              "    <tr>\n",
              "      <th>2021-01-05</th>\n",
              "      <td>0.000000</td>\n",
              "      <td>0.000000</td>\n",
              "      <td>1.170960</td>\n",
              "      <td>0.000000</td>\n",
              "      <td>four</td>\n",
              "    </tr>\n",
              "    <tr>\n",
              "      <th>2021-01-06</th>\n",
              "      <td>1.981247</td>\n",
              "      <td>0.860015</td>\n",
              "      <td>0.000000</td>\n",
              "      <td>0.194694</td>\n",
              "      <td>three</td>\n",
              "    </tr>\n",
              "  </tbody>\n",
              "</table>\n",
              "</div>"
            ],
            "text/plain": [
              "                   A         B         C         D      E\n",
              "2021-01-01  0.000000  0.000000  0.215565  0.971196    one\n",
              "2021-01-02  0.687576  1.218470  0.000000  0.000000    one\n",
              "2021-01-03  0.000000  0.000000  0.000000  0.560732    two\n",
              "2021-01-04  1.337817  0.000000  0.000000  0.000000  three\n",
              "2021-01-05  0.000000  0.000000  1.170960  0.000000   four\n",
              "2021-01-06  1.981247  0.860015  0.000000  0.194694  three"
            ]
          },
          "metadata": {
            "tags": []
          },
          "execution_count": 46
        }
      ]
    },
    {
      "cell_type": "code",
      "metadata": {
        "colab": {
          "base_uri": "https://localhost:8080/"
        },
        "id": "GLB_Bz95Q7Ca",
        "outputId": "1dd74714-1bed-4715-ba46-31a59c10bb89"
      },
      "source": [
        "# df.isin은 해당 value들이 들어있는 row에 대해선 True를 가지는 Series를 리턴한다.\n",
        "df2['E'].isin(['two','four'])"
      ],
      "execution_count": 47,
      "outputs": [
        {
          "output_type": "execute_result",
          "data": {
            "text/plain": [
              "2021-01-01    False\n",
              "2021-01-02    False\n",
              "2021-01-03     True\n",
              "2021-01-04    False\n",
              "2021-01-05     True\n",
              "2021-01-06    False\n",
              "Freq: D, Name: E, dtype: bool"
            ]
          },
          "metadata": {
            "tags": []
          },
          "execution_count": 47
        }
      ]
    },
    {
      "cell_type": "code",
      "metadata": {
        "colab": {
          "base_uri": "https://localhost:8080/",
          "height": 111
        },
        "id": "3FMGFt3AQ7Ca",
        "outputId": "8d1f6f11-be1d-4919-f630-f86102caccec"
      },
      "source": [
        "df2[df2['E'].isin(['two','four'])]"
      ],
      "execution_count": 48,
      "outputs": [
        {
          "output_type": "execute_result",
          "data": {
            "text/html": [
              "<div>\n",
              "<style scoped>\n",
              "    .dataframe tbody tr th:only-of-type {\n",
              "        vertical-align: middle;\n",
              "    }\n",
              "\n",
              "    .dataframe tbody tr th {\n",
              "        vertical-align: top;\n",
              "    }\n",
              "\n",
              "    .dataframe thead th {\n",
              "        text-align: right;\n",
              "    }\n",
              "</style>\n",
              "<table border=\"1\" class=\"dataframe\">\n",
              "  <thead>\n",
              "    <tr style=\"text-align: right;\">\n",
              "      <th></th>\n",
              "      <th>A</th>\n",
              "      <th>B</th>\n",
              "      <th>C</th>\n",
              "      <th>D</th>\n",
              "      <th>E</th>\n",
              "    </tr>\n",
              "  </thead>\n",
              "  <tbody>\n",
              "    <tr>\n",
              "      <th>2021-01-03</th>\n",
              "      <td>0.0</td>\n",
              "      <td>0.0</td>\n",
              "      <td>0.00000</td>\n",
              "      <td>0.560732</td>\n",
              "      <td>two</td>\n",
              "    </tr>\n",
              "    <tr>\n",
              "      <th>2021-01-05</th>\n",
              "      <td>0.0</td>\n",
              "      <td>0.0</td>\n",
              "      <td>1.17096</td>\n",
              "      <td>0.000000</td>\n",
              "      <td>four</td>\n",
              "    </tr>\n",
              "  </tbody>\n",
              "</table>\n",
              "</div>"
            ],
            "text/plain": [
              "              A    B        C         D     E\n",
              "2021-01-03  0.0  0.0  0.00000  0.560732   two\n",
              "2021-01-05  0.0  0.0  1.17096  0.000000  four"
            ]
          },
          "metadata": {
            "tags": []
          },
          "execution_count": 48
        }
      ]
    },
    {
      "cell_type": "markdown",
      "metadata": {
        "id": "Wriw_78JQ7Cb"
      },
      "source": [
        "## 5.5. 외부 데이터 읽고 쓰기"
      ]
    },
    {
      "cell_type": "code",
      "metadata": {
        "colab": {
          "base_uri": "https://localhost:8080/",
          "height": 419
        },
        "id": "B4zRZT1pQ7Cb",
        "outputId": "00ab0c46-9445-4b73-f016-ebdffc700b4b"
      },
      "source": [
        "# data 폴더에 있는 iris.csv를 불러오자.\n",
        "data=pd.read_csv(\"/content/Iris.csv\")\n",
        "data"
      ],
      "execution_count": 51,
      "outputs": [
        {
          "output_type": "execute_result",
          "data": {
            "text/html": [
              "<div>\n",
              "<style scoped>\n",
              "    .dataframe tbody tr th:only-of-type {\n",
              "        vertical-align: middle;\n",
              "    }\n",
              "\n",
              "    .dataframe tbody tr th {\n",
              "        vertical-align: top;\n",
              "    }\n",
              "\n",
              "    .dataframe thead th {\n",
              "        text-align: right;\n",
              "    }\n",
              "</style>\n",
              "<table border=\"1\" class=\"dataframe\">\n",
              "  <thead>\n",
              "    <tr style=\"text-align: right;\">\n",
              "      <th></th>\n",
              "      <th>Id</th>\n",
              "      <th>SepalLengthCm</th>\n",
              "      <th>SepalWidthCm</th>\n",
              "      <th>PetalLengthCm</th>\n",
              "      <th>PetalWidthCm</th>\n",
              "      <th>Species</th>\n",
              "    </tr>\n",
              "  </thead>\n",
              "  <tbody>\n",
              "    <tr>\n",
              "      <th>0</th>\n",
              "      <td>1</td>\n",
              "      <td>5.1</td>\n",
              "      <td>3.5</td>\n",
              "      <td>1.4</td>\n",
              "      <td>0.2</td>\n",
              "      <td>Iris-setosa</td>\n",
              "    </tr>\n",
              "    <tr>\n",
              "      <th>1</th>\n",
              "      <td>2</td>\n",
              "      <td>4.9</td>\n",
              "      <td>3.0</td>\n",
              "      <td>1.4</td>\n",
              "      <td>0.2</td>\n",
              "      <td>Iris-setosa</td>\n",
              "    </tr>\n",
              "    <tr>\n",
              "      <th>2</th>\n",
              "      <td>3</td>\n",
              "      <td>4.7</td>\n",
              "      <td>3.2</td>\n",
              "      <td>1.3</td>\n",
              "      <td>0.2</td>\n",
              "      <td>Iris-setosa</td>\n",
              "    </tr>\n",
              "    <tr>\n",
              "      <th>3</th>\n",
              "      <td>4</td>\n",
              "      <td>4.6</td>\n",
              "      <td>3.1</td>\n",
              "      <td>1.5</td>\n",
              "      <td>0.2</td>\n",
              "      <td>Iris-setosa</td>\n",
              "    </tr>\n",
              "    <tr>\n",
              "      <th>4</th>\n",
              "      <td>5</td>\n",
              "      <td>5.0</td>\n",
              "      <td>3.6</td>\n",
              "      <td>1.4</td>\n",
              "      <td>0.2</td>\n",
              "      <td>Iris-setosa</td>\n",
              "    </tr>\n",
              "    <tr>\n",
              "      <th>...</th>\n",
              "      <td>...</td>\n",
              "      <td>...</td>\n",
              "      <td>...</td>\n",
              "      <td>...</td>\n",
              "      <td>...</td>\n",
              "      <td>...</td>\n",
              "    </tr>\n",
              "    <tr>\n",
              "      <th>145</th>\n",
              "      <td>146</td>\n",
              "      <td>6.7</td>\n",
              "      <td>3.0</td>\n",
              "      <td>5.2</td>\n",
              "      <td>2.3</td>\n",
              "      <td>Iris-virginica</td>\n",
              "    </tr>\n",
              "    <tr>\n",
              "      <th>146</th>\n",
              "      <td>147</td>\n",
              "      <td>6.3</td>\n",
              "      <td>2.5</td>\n",
              "      <td>5.0</td>\n",
              "      <td>1.9</td>\n",
              "      <td>Iris-virginica</td>\n",
              "    </tr>\n",
              "    <tr>\n",
              "      <th>147</th>\n",
              "      <td>148</td>\n",
              "      <td>6.5</td>\n",
              "      <td>3.0</td>\n",
              "      <td>5.2</td>\n",
              "      <td>2.0</td>\n",
              "      <td>Iris-virginica</td>\n",
              "    </tr>\n",
              "    <tr>\n",
              "      <th>148</th>\n",
              "      <td>149</td>\n",
              "      <td>6.2</td>\n",
              "      <td>3.4</td>\n",
              "      <td>5.4</td>\n",
              "      <td>2.3</td>\n",
              "      <td>Iris-virginica</td>\n",
              "    </tr>\n",
              "    <tr>\n",
              "      <th>149</th>\n",
              "      <td>150</td>\n",
              "      <td>5.9</td>\n",
              "      <td>3.0</td>\n",
              "      <td>5.1</td>\n",
              "      <td>1.8</td>\n",
              "      <td>Iris-virginica</td>\n",
              "    </tr>\n",
              "  </tbody>\n",
              "</table>\n",
              "<p>150 rows × 6 columns</p>\n",
              "</div>"
            ],
            "text/plain": [
              "      Id  SepalLengthCm  ...  PetalWidthCm         Species\n",
              "0      1            5.1  ...           0.2     Iris-setosa\n",
              "1      2            4.9  ...           0.2     Iris-setosa\n",
              "2      3            4.7  ...           0.2     Iris-setosa\n",
              "3      4            4.6  ...           0.2     Iris-setosa\n",
              "4      5            5.0  ...           0.2     Iris-setosa\n",
              "..   ...            ...  ...           ...             ...\n",
              "145  146            6.7  ...           2.3  Iris-virginica\n",
              "146  147            6.3  ...           1.9  Iris-virginica\n",
              "147  148            6.5  ...           2.0  Iris-virginica\n",
              "148  149            6.2  ...           2.3  Iris-virginica\n",
              "149  150            5.9  ...           1.8  Iris-virginica\n",
              "\n",
              "[150 rows x 6 columns]"
            ]
          },
          "metadata": {
            "tags": []
          },
          "execution_count": 51
        }
      ]
    },
    {
      "cell_type": "code",
      "metadata": {
        "colab": {
          "base_uri": "https://localhost:8080/"
        },
        "id": "kqCzeP-ThQcB",
        "outputId": "ecc8ca09-de18-432c-a842-6b69a0640c34"
      },
      "source": [
        "data.info()"
      ],
      "execution_count": 52,
      "outputs": [
        {
          "output_type": "stream",
          "text": [
            "<class 'pandas.core.frame.DataFrame'>\n",
            "RangeIndex: 150 entries, 0 to 149\n",
            "Data columns (total 6 columns):\n",
            " #   Column         Non-Null Count  Dtype  \n",
            "---  ------         --------------  -----  \n",
            " 0   Id             150 non-null    int64  \n",
            " 1   SepalLengthCm  150 non-null    float64\n",
            " 2   SepalWidthCm   150 non-null    float64\n",
            " 3   PetalLengthCm  150 non-null    float64\n",
            " 4   PetalWidthCm   150 non-null    float64\n",
            " 5   Species        150 non-null    object \n",
            "dtypes: float64(4), int64(1), object(1)\n",
            "memory usage: 7.2+ KB\n"
          ],
          "name": "stdout"
        }
      ]
    },
    {
      "cell_type": "code",
      "metadata": {
        "colab": {
          "base_uri": "https://localhost:8080/"
        },
        "id": "NGL4ARfJh_iY",
        "outputId": "8a46531a-9e11-4966-ad52-c142a381a284"
      },
      "source": [
        "set(data[\"Species\"])"
      ],
      "execution_count": 54,
      "outputs": [
        {
          "output_type": "execute_result",
          "data": {
            "text/plain": [
              "{'Iris-setosa', 'Iris-versicolor', 'Iris-virginica'}"
            ]
          },
          "metadata": {
            "tags": []
          },
          "execution_count": 54
        }
      ]
    },
    {
      "cell_type": "code",
      "metadata": {
        "id": "be0C0ONqQ7Cb"
      },
      "source": [
        "# Species column을 숫자로 바꿔보자.\n",
        "data.loc[data[\"Species\"] == \"Iris-setosa\",\"Species\"] = 0\n",
        "data.loc[data[\"Species\"] == \"Iris-versicolor\",\"Species\"] = 1\n",
        "data.loc[data[\"Species\"] == \"Iris-virginica\",\"Species\"] = 2"
      ],
      "execution_count": 57,
      "outputs": []
    },
    {
      "cell_type": "code",
      "metadata": {
        "colab": {
          "base_uri": "https://localhost:8080/"
        },
        "id": "LgRkdqxFi5sO",
        "outputId": "ffdf9b84-1be0-46ee-da7d-b26f1cc2a8e5"
      },
      "source": [
        "data.info()"
      ],
      "execution_count": 59,
      "outputs": [
        {
          "output_type": "stream",
          "text": [
            "<class 'pandas.core.frame.DataFrame'>\n",
            "RangeIndex: 150 entries, 0 to 149\n",
            "Data columns (total 6 columns):\n",
            " #   Column         Non-Null Count  Dtype  \n",
            "---  ------         --------------  -----  \n",
            " 0   Id             150 non-null    int64  \n",
            " 1   SepalLengthCm  150 non-null    float64\n",
            " 2   SepalWidthCm   150 non-null    float64\n",
            " 3   PetalLengthCm  150 non-null    float64\n",
            " 4   PetalWidthCm   150 non-null    float64\n",
            " 5   Species        150 non-null    object \n",
            "dtypes: float64(4), int64(1), object(1)\n",
            "memory usage: 7.2+ KB\n"
          ],
          "name": "stdout"
        }
      ]
    },
    {
      "cell_type": "code",
      "metadata": {
        "id": "ABSshxl-Q7Cb"
      },
      "source": [
        "# 바꾼 Dataframe을 Iris_edited.csv 로 저장하자.\n",
        "data.to_csv(\"/content/Iris_edited.csv\")"
      ],
      "execution_count": 61,
      "outputs": []
    },
    {
      "cell_type": "code",
      "metadata": {
        "colab": {
          "base_uri": "https://localhost:8080/",
          "height": 1000
        },
        "id": "tuj-tHeLQ7Cb",
        "outputId": "3ac60ffa-ebd6-460b-ed70-f6540fb2effe"
      },
      "source": [
        "# 다른 파일도 불러오자.\n",
        "data2= pd.read_csv(\"/content/kaggle_survey_2020_responses.csv\")\n",
        "data2"
      ],
      "execution_count": 64,
      "outputs": [
        {
          "output_type": "stream",
          "text": [
            "/usr/local/lib/python3.7/dist-packages/IPython/core/interactiveshell.py:2718: DtypeWarning: Columns (0) have mixed types.Specify dtype option on import or set low_memory=False.\n",
            "  interactivity=interactivity, compiler=compiler, result=result)\n"
          ],
          "name": "stderr"
        },
        {
          "output_type": "execute_result",
          "data": {
            "text/html": [
              "<div>\n",
              "<style scoped>\n",
              "    .dataframe tbody tr th:only-of-type {\n",
              "        vertical-align: middle;\n",
              "    }\n",
              "\n",
              "    .dataframe tbody tr th {\n",
              "        vertical-align: top;\n",
              "    }\n",
              "\n",
              "    .dataframe thead th {\n",
              "        text-align: right;\n",
              "    }\n",
              "</style>\n",
              "<table border=\"1\" class=\"dataframe\">\n",
              "  <thead>\n",
              "    <tr style=\"text-align: right;\">\n",
              "      <th></th>\n",
              "      <th>Time from Start to Finish (seconds)</th>\n",
              "      <th>Q1</th>\n",
              "      <th>Q2</th>\n",
              "      <th>Q3</th>\n",
              "      <th>Q4</th>\n",
              "      <th>Q5</th>\n",
              "      <th>Q6</th>\n",
              "      <th>Q7_Part_1</th>\n",
              "      <th>Q7_Part_2</th>\n",
              "      <th>Q7_Part_3</th>\n",
              "      <th>Q7_Part_4</th>\n",
              "      <th>Q7_Part_5</th>\n",
              "      <th>Q7_Part_6</th>\n",
              "      <th>Q7_Part_7</th>\n",
              "      <th>Q7_Part_8</th>\n",
              "      <th>Q7_Part_9</th>\n",
              "      <th>Q7_Part_10</th>\n",
              "      <th>Q7_Part_11</th>\n",
              "      <th>Q7_Part_12</th>\n",
              "      <th>Q7_OTHER</th>\n",
              "      <th>Q8</th>\n",
              "      <th>Q9_Part_1</th>\n",
              "      <th>Q9_Part_2</th>\n",
              "      <th>Q9_Part_3</th>\n",
              "      <th>Q9_Part_4</th>\n",
              "      <th>Q9_Part_5</th>\n",
              "      <th>Q9_Part_6</th>\n",
              "      <th>Q9_Part_7</th>\n",
              "      <th>Q9_Part_8</th>\n",
              "      <th>Q9_Part_9</th>\n",
              "      <th>Q9_Part_10</th>\n",
              "      <th>Q9_Part_11</th>\n",
              "      <th>Q9_OTHER</th>\n",
              "      <th>Q10_Part_1</th>\n",
              "      <th>Q10_Part_2</th>\n",
              "      <th>Q10_Part_3</th>\n",
              "      <th>Q10_Part_4</th>\n",
              "      <th>Q10_Part_5</th>\n",
              "      <th>Q10_Part_6</th>\n",
              "      <th>Q10_Part_7</th>\n",
              "      <th>...</th>\n",
              "      <th>Q31_B_Part_7</th>\n",
              "      <th>Q31_B_Part_8</th>\n",
              "      <th>Q31_B_Part_9</th>\n",
              "      <th>Q31_B_Part_10</th>\n",
              "      <th>Q31_B_Part_11</th>\n",
              "      <th>Q31_B_Part_12</th>\n",
              "      <th>Q31_B_Part_13</th>\n",
              "      <th>Q31_B_Part_14</th>\n",
              "      <th>Q31_B_OTHER</th>\n",
              "      <th>Q33_B_Part_1</th>\n",
              "      <th>Q33_B_Part_2</th>\n",
              "      <th>Q33_B_Part_3</th>\n",
              "      <th>Q33_B_Part_4</th>\n",
              "      <th>Q33_B_Part_5</th>\n",
              "      <th>Q33_B_Part_6</th>\n",
              "      <th>Q33_B_Part_7</th>\n",
              "      <th>Q33_B_OTHER</th>\n",
              "      <th>Q34_B_Part_1</th>\n",
              "      <th>Q34_B_Part_2</th>\n",
              "      <th>Q34_B_Part_3</th>\n",
              "      <th>Q34_B_Part_4</th>\n",
              "      <th>Q34_B_Part_5</th>\n",
              "      <th>Q34_B_Part_6</th>\n",
              "      <th>Q34_B_Part_7</th>\n",
              "      <th>Q34_B_Part_8</th>\n",
              "      <th>Q34_B_Part_9</th>\n",
              "      <th>Q34_B_Part_10</th>\n",
              "      <th>Q34_B_Part_11</th>\n",
              "      <th>Q34_B_OTHER</th>\n",
              "      <th>Q35_B_Part_1</th>\n",
              "      <th>Q35_B_Part_2</th>\n",
              "      <th>Q35_B_Part_3</th>\n",
              "      <th>Q35_B_Part_4</th>\n",
              "      <th>Q35_B_Part_5</th>\n",
              "      <th>Q35_B_Part_6</th>\n",
              "      <th>Q35_B_Part_7</th>\n",
              "      <th>Q35_B_Part_8</th>\n",
              "      <th>Q35_B_Part_9</th>\n",
              "      <th>Q35_B_Part_10</th>\n",
              "      <th>Q35_B_OTHER</th>\n",
              "    </tr>\n",
              "  </thead>\n",
              "  <tbody>\n",
              "    <tr>\n",
              "      <th>0</th>\n",
              "      <td>Duration (in seconds)</td>\n",
              "      <td>What is your age (# years)?</td>\n",
              "      <td>What is your gender? - Selected Choice</td>\n",
              "      <td>In which country do you currently reside?</td>\n",
              "      <td>What is the highest level of formal education ...</td>\n",
              "      <td>Select the title most similar to your current ...</td>\n",
              "      <td>For how many years have you been writing code ...</td>\n",
              "      <td>What programming languages do you use on a reg...</td>\n",
              "      <td>What programming languages do you use on a reg...</td>\n",
              "      <td>What programming languages do you use on a reg...</td>\n",
              "      <td>What programming languages do you use on a reg...</td>\n",
              "      <td>What programming languages do you use on a reg...</td>\n",
              "      <td>What programming languages do you use on a reg...</td>\n",
              "      <td>What programming languages do you use on a reg...</td>\n",
              "      <td>What programming languages do you use on a reg...</td>\n",
              "      <td>What programming languages do you use on a reg...</td>\n",
              "      <td>What programming languages do you use on a reg...</td>\n",
              "      <td>What programming languages do you use on a reg...</td>\n",
              "      <td>What programming languages do you use on a reg...</td>\n",
              "      <td>What programming languages do you use on a reg...</td>\n",
              "      <td>What programming language would you recommend ...</td>\n",
              "      <td>Which of the following integrated development ...</td>\n",
              "      <td>Which of the following integrated development ...</td>\n",
              "      <td>Which of the following integrated development ...</td>\n",
              "      <td>Which of the following integrated development ...</td>\n",
              "      <td>Which of the following integrated development ...</td>\n",
              "      <td>Which of the following integrated development ...</td>\n",
              "      <td>Which of the following integrated development ...</td>\n",
              "      <td>Which of the following integrated development ...</td>\n",
              "      <td>Which of the following integrated development ...</td>\n",
              "      <td>Which of the following integrated development ...</td>\n",
              "      <td>Which of the following integrated development ...</td>\n",
              "      <td>Which of the following integrated development ...</td>\n",
              "      <td>Which of the following hosted notebook product...</td>\n",
              "      <td>Which of the following hosted notebook product...</td>\n",
              "      <td>Which of the following hosted notebook product...</td>\n",
              "      <td>Which of the following hosted notebook product...</td>\n",
              "      <td>Which of the following hosted notebook product...</td>\n",
              "      <td>Which of the following hosted notebook product...</td>\n",
              "      <td>Which of the following hosted notebook product...</td>\n",
              "      <td>...</td>\n",
              "      <td>Which of the following business intelligence t...</td>\n",
              "      <td>Which of the following business intelligence t...</td>\n",
              "      <td>Which of the following business intelligence t...</td>\n",
              "      <td>Which of the following business intelligence t...</td>\n",
              "      <td>Which of the following business intelligence t...</td>\n",
              "      <td>Which of the following business intelligence t...</td>\n",
              "      <td>Which of the following business intelligence t...</td>\n",
              "      <td>Which of the following business intelligence t...</td>\n",
              "      <td>Which of the following business intelligence t...</td>\n",
              "      <td>Which categories of automated machine learning...</td>\n",
              "      <td>Which categories of automated machine learning...</td>\n",
              "      <td>Which categories of automated machine learning...</td>\n",
              "      <td>Which categories of automated machine learning...</td>\n",
              "      <td>Which categories of automated machine learning...</td>\n",
              "      <td>Which categories of automated machine learning...</td>\n",
              "      <td>Which categories of automated machine learning...</td>\n",
              "      <td>Which categories of automated machine learning...</td>\n",
              "      <td>Which specific automated machine learning tool...</td>\n",
              "      <td>Which specific automated machine learning tool...</td>\n",
              "      <td>Which specific automated machine learning tool...</td>\n",
              "      <td>Which specific automated machine learning tool...</td>\n",
              "      <td>Which specific automated machine learning tool...</td>\n",
              "      <td>Which specific automated machine learning tool...</td>\n",
              "      <td>Which specific automated machine learning tool...</td>\n",
              "      <td>Which specific automated machine learning tool...</td>\n",
              "      <td>Which specific automated machine learning tool...</td>\n",
              "      <td>Which specific automated machine learning tool...</td>\n",
              "      <td>Which specific automated machine learning tool...</td>\n",
              "      <td>Which specific automated machine learning tool...</td>\n",
              "      <td>In the next 2 years, do you hope to become mor...</td>\n",
              "      <td>In the next 2 years, do you hope to become mor...</td>\n",
              "      <td>In the next 2 years, do you hope to become mor...</td>\n",
              "      <td>In the next 2 years, do you hope to become mor...</td>\n",
              "      <td>In the next 2 years, do you hope to become mor...</td>\n",
              "      <td>In the next 2 years, do you hope to become mor...</td>\n",
              "      <td>In the next 2 years, do you hope to become mor...</td>\n",
              "      <td>In the next 2 years, do you hope to become mor...</td>\n",
              "      <td>In the next 2 years, do you hope to become mor...</td>\n",
              "      <td>In the next 2 years, do you hope to become mor...</td>\n",
              "      <td>In the next 2 years, do you hope to become mor...</td>\n",
              "    </tr>\n",
              "    <tr>\n",
              "      <th>1</th>\n",
              "      <td>1838</td>\n",
              "      <td>35-39</td>\n",
              "      <td>Man</td>\n",
              "      <td>Colombia</td>\n",
              "      <td>Doctoral degree</td>\n",
              "      <td>Student</td>\n",
              "      <td>5-10 years</td>\n",
              "      <td>Python</td>\n",
              "      <td>R</td>\n",
              "      <td>SQL</td>\n",
              "      <td>C</td>\n",
              "      <td>NaN</td>\n",
              "      <td>NaN</td>\n",
              "      <td>Javascript</td>\n",
              "      <td>NaN</td>\n",
              "      <td>NaN</td>\n",
              "      <td>NaN</td>\n",
              "      <td>MATLAB</td>\n",
              "      <td>NaN</td>\n",
              "      <td>Other</td>\n",
              "      <td>Python</td>\n",
              "      <td>Jupyter (JupyterLab, Jupyter Notebooks, etc)</td>\n",
              "      <td>NaN</td>\n",
              "      <td>NaN</td>\n",
              "      <td>Visual Studio Code (VSCode)</td>\n",
              "      <td>NaN</td>\n",
              "      <td>Spyder</td>\n",
              "      <td>NaN</td>\n",
              "      <td>NaN</td>\n",
              "      <td>NaN</td>\n",
              "      <td>NaN</td>\n",
              "      <td>NaN</td>\n",
              "      <td>NaN</td>\n",
              "      <td>Kaggle Notebooks</td>\n",
              "      <td>Colab Notebooks</td>\n",
              "      <td>NaN</td>\n",
              "      <td>NaN</td>\n",
              "      <td>NaN</td>\n",
              "      <td>NaN</td>\n",
              "      <td>NaN</td>\n",
              "      <td>...</td>\n",
              "      <td>NaN</td>\n",
              "      <td>NaN</td>\n",
              "      <td>NaN</td>\n",
              "      <td>NaN</td>\n",
              "      <td>NaN</td>\n",
              "      <td>NaN</td>\n",
              "      <td>SAP Analytics Cloud</td>\n",
              "      <td>NaN</td>\n",
              "      <td>NaN</td>\n",
              "      <td>Automated data augmentation (e.g. imgaug, albu...</td>\n",
              "      <td>NaN</td>\n",
              "      <td>NaN</td>\n",
              "      <td>NaN</td>\n",
              "      <td>Automated hyperparameter tuning (e.g. hyperopt...</td>\n",
              "      <td>Automation of full ML pipelines (e.g. Google C...</td>\n",
              "      <td>NaN</td>\n",
              "      <td>NaN</td>\n",
              "      <td>Google Cloud AutoML</td>\n",
              "      <td>NaN</td>\n",
              "      <td>Databricks AutoML</td>\n",
              "      <td>NaN</td>\n",
              "      <td>NaN</td>\n",
              "      <td>Auto-Keras</td>\n",
              "      <td>Auto-Sklearn</td>\n",
              "      <td>NaN</td>\n",
              "      <td>NaN</td>\n",
              "      <td>NaN</td>\n",
              "      <td>NaN</td>\n",
              "      <td>NaN</td>\n",
              "      <td>NaN</td>\n",
              "      <td>NaN</td>\n",
              "      <td>NaN</td>\n",
              "      <td>NaN</td>\n",
              "      <td>TensorBoard</td>\n",
              "      <td>NaN</td>\n",
              "      <td>NaN</td>\n",
              "      <td>NaN</td>\n",
              "      <td>NaN</td>\n",
              "      <td>NaN</td>\n",
              "      <td>NaN</td>\n",
              "    </tr>\n",
              "    <tr>\n",
              "      <th>2</th>\n",
              "      <td>289287</td>\n",
              "      <td>30-34</td>\n",
              "      <td>Man</td>\n",
              "      <td>United States of America</td>\n",
              "      <td>Master’s degree</td>\n",
              "      <td>Data Engineer</td>\n",
              "      <td>5-10 years</td>\n",
              "      <td>Python</td>\n",
              "      <td>R</td>\n",
              "      <td>SQL</td>\n",
              "      <td>NaN</td>\n",
              "      <td>NaN</td>\n",
              "      <td>NaN</td>\n",
              "      <td>NaN</td>\n",
              "      <td>NaN</td>\n",
              "      <td>NaN</td>\n",
              "      <td>NaN</td>\n",
              "      <td>NaN</td>\n",
              "      <td>NaN</td>\n",
              "      <td>NaN</td>\n",
              "      <td>Python</td>\n",
              "      <td>NaN</td>\n",
              "      <td>NaN</td>\n",
              "      <td>Visual Studio</td>\n",
              "      <td>NaN</td>\n",
              "      <td>PyCharm</td>\n",
              "      <td>NaN</td>\n",
              "      <td>NaN</td>\n",
              "      <td>Sublime Text</td>\n",
              "      <td>NaN</td>\n",
              "      <td>NaN</td>\n",
              "      <td>NaN</td>\n",
              "      <td>NaN</td>\n",
              "      <td>NaN</td>\n",
              "      <td>Colab Notebooks</td>\n",
              "      <td>NaN</td>\n",
              "      <td>NaN</td>\n",
              "      <td>NaN</td>\n",
              "      <td>NaN</td>\n",
              "      <td>NaN</td>\n",
              "      <td>...</td>\n",
              "      <td>NaN</td>\n",
              "      <td>NaN</td>\n",
              "      <td>NaN</td>\n",
              "      <td>NaN</td>\n",
              "      <td>NaN</td>\n",
              "      <td>NaN</td>\n",
              "      <td>NaN</td>\n",
              "      <td>NaN</td>\n",
              "      <td>NaN</td>\n",
              "      <td>NaN</td>\n",
              "      <td>NaN</td>\n",
              "      <td>NaN</td>\n",
              "      <td>NaN</td>\n",
              "      <td>NaN</td>\n",
              "      <td>NaN</td>\n",
              "      <td>NaN</td>\n",
              "      <td>NaN</td>\n",
              "      <td>NaN</td>\n",
              "      <td>NaN</td>\n",
              "      <td>NaN</td>\n",
              "      <td>NaN</td>\n",
              "      <td>NaN</td>\n",
              "      <td>NaN</td>\n",
              "      <td>NaN</td>\n",
              "      <td>NaN</td>\n",
              "      <td>NaN</td>\n",
              "      <td>NaN</td>\n",
              "      <td>NaN</td>\n",
              "      <td>NaN</td>\n",
              "      <td>NaN</td>\n",
              "      <td>NaN</td>\n",
              "      <td>NaN</td>\n",
              "      <td>NaN</td>\n",
              "      <td>NaN</td>\n",
              "      <td>NaN</td>\n",
              "      <td>NaN</td>\n",
              "      <td>NaN</td>\n",
              "      <td>NaN</td>\n",
              "      <td>NaN</td>\n",
              "      <td>NaN</td>\n",
              "    </tr>\n",
              "    <tr>\n",
              "      <th>3</th>\n",
              "      <td>860</td>\n",
              "      <td>35-39</td>\n",
              "      <td>Man</td>\n",
              "      <td>Argentina</td>\n",
              "      <td>Bachelor’s degree</td>\n",
              "      <td>Software Engineer</td>\n",
              "      <td>10-20 years</td>\n",
              "      <td>NaN</td>\n",
              "      <td>NaN</td>\n",
              "      <td>NaN</td>\n",
              "      <td>NaN</td>\n",
              "      <td>NaN</td>\n",
              "      <td>Java</td>\n",
              "      <td>Javascript</td>\n",
              "      <td>NaN</td>\n",
              "      <td>NaN</td>\n",
              "      <td>Bash</td>\n",
              "      <td>NaN</td>\n",
              "      <td>NaN</td>\n",
              "      <td>NaN</td>\n",
              "      <td>R</td>\n",
              "      <td>NaN</td>\n",
              "      <td>NaN</td>\n",
              "      <td>NaN</td>\n",
              "      <td>Visual Studio Code (VSCode)</td>\n",
              "      <td>NaN</td>\n",
              "      <td>NaN</td>\n",
              "      <td>Notepad++</td>\n",
              "      <td>Sublime Text</td>\n",
              "      <td>Vim / Emacs</td>\n",
              "      <td>NaN</td>\n",
              "      <td>NaN</td>\n",
              "      <td>NaN</td>\n",
              "      <td>NaN</td>\n",
              "      <td>NaN</td>\n",
              "      <td>NaN</td>\n",
              "      <td>NaN</td>\n",
              "      <td>NaN</td>\n",
              "      <td>NaN</td>\n",
              "      <td>NaN</td>\n",
              "      <td>...</td>\n",
              "      <td>NaN</td>\n",
              "      <td>NaN</td>\n",
              "      <td>NaN</td>\n",
              "      <td>NaN</td>\n",
              "      <td>NaN</td>\n",
              "      <td>NaN</td>\n",
              "      <td>NaN</td>\n",
              "      <td>None</td>\n",
              "      <td>NaN</td>\n",
              "      <td>NaN</td>\n",
              "      <td>NaN</td>\n",
              "      <td>NaN</td>\n",
              "      <td>NaN</td>\n",
              "      <td>NaN</td>\n",
              "      <td>NaN</td>\n",
              "      <td>None</td>\n",
              "      <td>NaN</td>\n",
              "      <td>NaN</td>\n",
              "      <td>NaN</td>\n",
              "      <td>NaN</td>\n",
              "      <td>NaN</td>\n",
              "      <td>NaN</td>\n",
              "      <td>NaN</td>\n",
              "      <td>NaN</td>\n",
              "      <td>NaN</td>\n",
              "      <td>NaN</td>\n",
              "      <td>NaN</td>\n",
              "      <td>NaN</td>\n",
              "      <td>NaN</td>\n",
              "      <td>NaN</td>\n",
              "      <td>NaN</td>\n",
              "      <td>NaN</td>\n",
              "      <td>NaN</td>\n",
              "      <td>NaN</td>\n",
              "      <td>NaN</td>\n",
              "      <td>NaN</td>\n",
              "      <td>NaN</td>\n",
              "      <td>NaN</td>\n",
              "      <td>None</td>\n",
              "      <td>NaN</td>\n",
              "    </tr>\n",
              "    <tr>\n",
              "      <th>4</th>\n",
              "      <td>507</td>\n",
              "      <td>30-34</td>\n",
              "      <td>Man</td>\n",
              "      <td>United States of America</td>\n",
              "      <td>Master’s degree</td>\n",
              "      <td>Data Scientist</td>\n",
              "      <td>5-10 years</td>\n",
              "      <td>Python</td>\n",
              "      <td>NaN</td>\n",
              "      <td>SQL</td>\n",
              "      <td>NaN</td>\n",
              "      <td>NaN</td>\n",
              "      <td>NaN</td>\n",
              "      <td>NaN</td>\n",
              "      <td>NaN</td>\n",
              "      <td>NaN</td>\n",
              "      <td>Bash</td>\n",
              "      <td>NaN</td>\n",
              "      <td>NaN</td>\n",
              "      <td>NaN</td>\n",
              "      <td>Python</td>\n",
              "      <td>NaN</td>\n",
              "      <td>NaN</td>\n",
              "      <td>NaN</td>\n",
              "      <td>NaN</td>\n",
              "      <td>PyCharm</td>\n",
              "      <td>NaN</td>\n",
              "      <td>NaN</td>\n",
              "      <td>NaN</td>\n",
              "      <td>NaN</td>\n",
              "      <td>NaN</td>\n",
              "      <td>NaN</td>\n",
              "      <td>NaN</td>\n",
              "      <td>NaN</td>\n",
              "      <td>NaN</td>\n",
              "      <td>NaN</td>\n",
              "      <td>NaN</td>\n",
              "      <td>NaN</td>\n",
              "      <td>NaN</td>\n",
              "      <td>NaN</td>\n",
              "      <td>...</td>\n",
              "      <td>NaN</td>\n",
              "      <td>NaN</td>\n",
              "      <td>NaN</td>\n",
              "      <td>NaN</td>\n",
              "      <td>NaN</td>\n",
              "      <td>NaN</td>\n",
              "      <td>NaN</td>\n",
              "      <td>NaN</td>\n",
              "      <td>NaN</td>\n",
              "      <td>NaN</td>\n",
              "      <td>NaN</td>\n",
              "      <td>NaN</td>\n",
              "      <td>NaN</td>\n",
              "      <td>NaN</td>\n",
              "      <td>NaN</td>\n",
              "      <td>NaN</td>\n",
              "      <td>NaN</td>\n",
              "      <td>NaN</td>\n",
              "      <td>NaN</td>\n",
              "      <td>NaN</td>\n",
              "      <td>NaN</td>\n",
              "      <td>NaN</td>\n",
              "      <td>NaN</td>\n",
              "      <td>NaN</td>\n",
              "      <td>NaN</td>\n",
              "      <td>NaN</td>\n",
              "      <td>NaN</td>\n",
              "      <td>NaN</td>\n",
              "      <td>NaN</td>\n",
              "      <td>NaN</td>\n",
              "      <td>NaN</td>\n",
              "      <td>NaN</td>\n",
              "      <td>NaN</td>\n",
              "      <td>NaN</td>\n",
              "      <td>NaN</td>\n",
              "      <td>NaN</td>\n",
              "      <td>NaN</td>\n",
              "      <td>NaN</td>\n",
              "      <td>NaN</td>\n",
              "      <td>NaN</td>\n",
              "    </tr>\n",
              "    <tr>\n",
              "      <th>...</th>\n",
              "      <td>...</td>\n",
              "      <td>...</td>\n",
              "      <td>...</td>\n",
              "      <td>...</td>\n",
              "      <td>...</td>\n",
              "      <td>...</td>\n",
              "      <td>...</td>\n",
              "      <td>...</td>\n",
              "      <td>...</td>\n",
              "      <td>...</td>\n",
              "      <td>...</td>\n",
              "      <td>...</td>\n",
              "      <td>...</td>\n",
              "      <td>...</td>\n",
              "      <td>...</td>\n",
              "      <td>...</td>\n",
              "      <td>...</td>\n",
              "      <td>...</td>\n",
              "      <td>...</td>\n",
              "      <td>...</td>\n",
              "      <td>...</td>\n",
              "      <td>...</td>\n",
              "      <td>...</td>\n",
              "      <td>...</td>\n",
              "      <td>...</td>\n",
              "      <td>...</td>\n",
              "      <td>...</td>\n",
              "      <td>...</td>\n",
              "      <td>...</td>\n",
              "      <td>...</td>\n",
              "      <td>...</td>\n",
              "      <td>...</td>\n",
              "      <td>...</td>\n",
              "      <td>...</td>\n",
              "      <td>...</td>\n",
              "      <td>...</td>\n",
              "      <td>...</td>\n",
              "      <td>...</td>\n",
              "      <td>...</td>\n",
              "      <td>...</td>\n",
              "      <td>...</td>\n",
              "      <td>...</td>\n",
              "      <td>...</td>\n",
              "      <td>...</td>\n",
              "      <td>...</td>\n",
              "      <td>...</td>\n",
              "      <td>...</td>\n",
              "      <td>...</td>\n",
              "      <td>...</td>\n",
              "      <td>...</td>\n",
              "      <td>...</td>\n",
              "      <td>...</td>\n",
              "      <td>...</td>\n",
              "      <td>...</td>\n",
              "      <td>...</td>\n",
              "      <td>...</td>\n",
              "      <td>...</td>\n",
              "      <td>...</td>\n",
              "      <td>...</td>\n",
              "      <td>...</td>\n",
              "      <td>...</td>\n",
              "      <td>...</td>\n",
              "      <td>...</td>\n",
              "      <td>...</td>\n",
              "      <td>...</td>\n",
              "      <td>...</td>\n",
              "      <td>...</td>\n",
              "      <td>...</td>\n",
              "      <td>...</td>\n",
              "      <td>...</td>\n",
              "      <td>...</td>\n",
              "      <td>...</td>\n",
              "      <td>...</td>\n",
              "      <td>...</td>\n",
              "      <td>...</td>\n",
              "      <td>...</td>\n",
              "      <td>...</td>\n",
              "      <td>...</td>\n",
              "      <td>...</td>\n",
              "      <td>...</td>\n",
              "      <td>...</td>\n",
              "    </tr>\n",
              "    <tr>\n",
              "      <th>20032</th>\n",
              "      <td>126</td>\n",
              "      <td>18-21</td>\n",
              "      <td>Man</td>\n",
              "      <td>Turkey</td>\n",
              "      <td>Some college/university study without earning ...</td>\n",
              "      <td>NaN</td>\n",
              "      <td>NaN</td>\n",
              "      <td>NaN</td>\n",
              "      <td>NaN</td>\n",
              "      <td>NaN</td>\n",
              "      <td>NaN</td>\n",
              "      <td>NaN</td>\n",
              "      <td>NaN</td>\n",
              "      <td>NaN</td>\n",
              "      <td>NaN</td>\n",
              "      <td>NaN</td>\n",
              "      <td>NaN</td>\n",
              "      <td>NaN</td>\n",
              "      <td>NaN</td>\n",
              "      <td>NaN</td>\n",
              "      <td>NaN</td>\n",
              "      <td>NaN</td>\n",
              "      <td>NaN</td>\n",
              "      <td>NaN</td>\n",
              "      <td>NaN</td>\n",
              "      <td>NaN</td>\n",
              "      <td>NaN</td>\n",
              "      <td>NaN</td>\n",
              "      <td>NaN</td>\n",
              "      <td>NaN</td>\n",
              "      <td>NaN</td>\n",
              "      <td>NaN</td>\n",
              "      <td>NaN</td>\n",
              "      <td>NaN</td>\n",
              "      <td>NaN</td>\n",
              "      <td>NaN</td>\n",
              "      <td>NaN</td>\n",
              "      <td>NaN</td>\n",
              "      <td>NaN</td>\n",
              "      <td>NaN</td>\n",
              "      <td>...</td>\n",
              "      <td>NaN</td>\n",
              "      <td>NaN</td>\n",
              "      <td>NaN</td>\n",
              "      <td>NaN</td>\n",
              "      <td>NaN</td>\n",
              "      <td>NaN</td>\n",
              "      <td>NaN</td>\n",
              "      <td>NaN</td>\n",
              "      <td>NaN</td>\n",
              "      <td>NaN</td>\n",
              "      <td>NaN</td>\n",
              "      <td>NaN</td>\n",
              "      <td>NaN</td>\n",
              "      <td>NaN</td>\n",
              "      <td>NaN</td>\n",
              "      <td>NaN</td>\n",
              "      <td>NaN</td>\n",
              "      <td>NaN</td>\n",
              "      <td>NaN</td>\n",
              "      <td>NaN</td>\n",
              "      <td>NaN</td>\n",
              "      <td>NaN</td>\n",
              "      <td>NaN</td>\n",
              "      <td>NaN</td>\n",
              "      <td>NaN</td>\n",
              "      <td>NaN</td>\n",
              "      <td>NaN</td>\n",
              "      <td>NaN</td>\n",
              "      <td>NaN</td>\n",
              "      <td>NaN</td>\n",
              "      <td>NaN</td>\n",
              "      <td>NaN</td>\n",
              "      <td>NaN</td>\n",
              "      <td>NaN</td>\n",
              "      <td>NaN</td>\n",
              "      <td>NaN</td>\n",
              "      <td>NaN</td>\n",
              "      <td>NaN</td>\n",
              "      <td>NaN</td>\n",
              "      <td>NaN</td>\n",
              "    </tr>\n",
              "    <tr>\n",
              "      <th>20033</th>\n",
              "      <td>566</td>\n",
              "      <td>55-59</td>\n",
              "      <td>Woman</td>\n",
              "      <td>United Kingdom of Great Britain and Northern I...</td>\n",
              "      <td>Master’s degree</td>\n",
              "      <td>Currently not employed</td>\n",
              "      <td>20+ years</td>\n",
              "      <td>Python</td>\n",
              "      <td>NaN</td>\n",
              "      <td>NaN</td>\n",
              "      <td>NaN</td>\n",
              "      <td>NaN</td>\n",
              "      <td>NaN</td>\n",
              "      <td>NaN</td>\n",
              "      <td>NaN</td>\n",
              "      <td>NaN</td>\n",
              "      <td>NaN</td>\n",
              "      <td>NaN</td>\n",
              "      <td>NaN</td>\n",
              "      <td>NaN</td>\n",
              "      <td>Python</td>\n",
              "      <td>Jupyter (JupyterLab, Jupyter Notebooks, etc)</td>\n",
              "      <td>RStudio</td>\n",
              "      <td>NaN</td>\n",
              "      <td>NaN</td>\n",
              "      <td>PyCharm</td>\n",
              "      <td>NaN</td>\n",
              "      <td>NaN</td>\n",
              "      <td>NaN</td>\n",
              "      <td>NaN</td>\n",
              "      <td>NaN</td>\n",
              "      <td>NaN</td>\n",
              "      <td>NaN</td>\n",
              "      <td>NaN</td>\n",
              "      <td>Colab Notebooks</td>\n",
              "      <td>NaN</td>\n",
              "      <td>NaN</td>\n",
              "      <td>NaN</td>\n",
              "      <td>NaN</td>\n",
              "      <td>NaN</td>\n",
              "      <td>...</td>\n",
              "      <td>NaN</td>\n",
              "      <td>NaN</td>\n",
              "      <td>NaN</td>\n",
              "      <td>NaN</td>\n",
              "      <td>NaN</td>\n",
              "      <td>NaN</td>\n",
              "      <td>NaN</td>\n",
              "      <td>None</td>\n",
              "      <td>NaN</td>\n",
              "      <td>NaN</td>\n",
              "      <td>NaN</td>\n",
              "      <td>NaN</td>\n",
              "      <td>NaN</td>\n",
              "      <td>NaN</td>\n",
              "      <td>NaN</td>\n",
              "      <td>None</td>\n",
              "      <td>NaN</td>\n",
              "      <td>NaN</td>\n",
              "      <td>NaN</td>\n",
              "      <td>NaN</td>\n",
              "      <td>NaN</td>\n",
              "      <td>NaN</td>\n",
              "      <td>NaN</td>\n",
              "      <td>NaN</td>\n",
              "      <td>NaN</td>\n",
              "      <td>NaN</td>\n",
              "      <td>NaN</td>\n",
              "      <td>NaN</td>\n",
              "      <td>NaN</td>\n",
              "      <td>NaN</td>\n",
              "      <td>NaN</td>\n",
              "      <td>NaN</td>\n",
              "      <td>NaN</td>\n",
              "      <td>NaN</td>\n",
              "      <td>NaN</td>\n",
              "      <td>NaN</td>\n",
              "      <td>NaN</td>\n",
              "      <td>NaN</td>\n",
              "      <td>None</td>\n",
              "      <td>NaN</td>\n",
              "    </tr>\n",
              "    <tr>\n",
              "      <th>20034</th>\n",
              "      <td>238</td>\n",
              "      <td>30-34</td>\n",
              "      <td>Man</td>\n",
              "      <td>Brazil</td>\n",
              "      <td>Master’s degree</td>\n",
              "      <td>Research Scientist</td>\n",
              "      <td>&lt; 1 years</td>\n",
              "      <td>Python</td>\n",
              "      <td>NaN</td>\n",
              "      <td>NaN</td>\n",
              "      <td>NaN</td>\n",
              "      <td>NaN</td>\n",
              "      <td>NaN</td>\n",
              "      <td>NaN</td>\n",
              "      <td>NaN</td>\n",
              "      <td>NaN</td>\n",
              "      <td>NaN</td>\n",
              "      <td>NaN</td>\n",
              "      <td>NaN</td>\n",
              "      <td>NaN</td>\n",
              "      <td>Python</td>\n",
              "      <td>Jupyter (JupyterLab, Jupyter Notebooks, etc)</td>\n",
              "      <td>NaN</td>\n",
              "      <td>NaN</td>\n",
              "      <td>NaN</td>\n",
              "      <td>PyCharm</td>\n",
              "      <td>NaN</td>\n",
              "      <td>NaN</td>\n",
              "      <td>NaN</td>\n",
              "      <td>NaN</td>\n",
              "      <td>NaN</td>\n",
              "      <td>NaN</td>\n",
              "      <td>NaN</td>\n",
              "      <td>NaN</td>\n",
              "      <td>Colab Notebooks</td>\n",
              "      <td>NaN</td>\n",
              "      <td>NaN</td>\n",
              "      <td>NaN</td>\n",
              "      <td>NaN</td>\n",
              "      <td>NaN</td>\n",
              "      <td>...</td>\n",
              "      <td>NaN</td>\n",
              "      <td>NaN</td>\n",
              "      <td>NaN</td>\n",
              "      <td>NaN</td>\n",
              "      <td>NaN</td>\n",
              "      <td>NaN</td>\n",
              "      <td>NaN</td>\n",
              "      <td>None</td>\n",
              "      <td>NaN</td>\n",
              "      <td>NaN</td>\n",
              "      <td>NaN</td>\n",
              "      <td>NaN</td>\n",
              "      <td>NaN</td>\n",
              "      <td>NaN</td>\n",
              "      <td>NaN</td>\n",
              "      <td>NaN</td>\n",
              "      <td>NaN</td>\n",
              "      <td>NaN</td>\n",
              "      <td>NaN</td>\n",
              "      <td>NaN</td>\n",
              "      <td>NaN</td>\n",
              "      <td>NaN</td>\n",
              "      <td>NaN</td>\n",
              "      <td>NaN</td>\n",
              "      <td>NaN</td>\n",
              "      <td>NaN</td>\n",
              "      <td>NaN</td>\n",
              "      <td>NaN</td>\n",
              "      <td>NaN</td>\n",
              "      <td>NaN</td>\n",
              "      <td>NaN</td>\n",
              "      <td>NaN</td>\n",
              "      <td>NaN</td>\n",
              "      <td>NaN</td>\n",
              "      <td>NaN</td>\n",
              "      <td>NaN</td>\n",
              "      <td>NaN</td>\n",
              "      <td>NaN</td>\n",
              "      <td>NaN</td>\n",
              "      <td>NaN</td>\n",
              "    </tr>\n",
              "    <tr>\n",
              "      <th>20035</th>\n",
              "      <td>625</td>\n",
              "      <td>22-24</td>\n",
              "      <td>Man</td>\n",
              "      <td>India</td>\n",
              "      <td>Bachelor’s degree</td>\n",
              "      <td>Software Engineer</td>\n",
              "      <td>3-5 years</td>\n",
              "      <td>Python</td>\n",
              "      <td>NaN</td>\n",
              "      <td>SQL</td>\n",
              "      <td>C</td>\n",
              "      <td>NaN</td>\n",
              "      <td>Java</td>\n",
              "      <td>Javascript</td>\n",
              "      <td>NaN</td>\n",
              "      <td>NaN</td>\n",
              "      <td>NaN</td>\n",
              "      <td>NaN</td>\n",
              "      <td>NaN</td>\n",
              "      <td>NaN</td>\n",
              "      <td>Python</td>\n",
              "      <td>Jupyter (JupyterLab, Jupyter Notebooks, etc)</td>\n",
              "      <td>RStudio</td>\n",
              "      <td>NaN</td>\n",
              "      <td>Visual Studio Code (VSCode)</td>\n",
              "      <td>NaN</td>\n",
              "      <td>Spyder</td>\n",
              "      <td>NaN</td>\n",
              "      <td>Sublime Text</td>\n",
              "      <td>NaN</td>\n",
              "      <td>NaN</td>\n",
              "      <td>NaN</td>\n",
              "      <td>NaN</td>\n",
              "      <td>NaN</td>\n",
              "      <td>Colab Notebooks</td>\n",
              "      <td>NaN</td>\n",
              "      <td>NaN</td>\n",
              "      <td>NaN</td>\n",
              "      <td>NaN</td>\n",
              "      <td>NaN</td>\n",
              "      <td>...</td>\n",
              "      <td>NaN</td>\n",
              "      <td>NaN</td>\n",
              "      <td>NaN</td>\n",
              "      <td>NaN</td>\n",
              "      <td>NaN</td>\n",
              "      <td>NaN</td>\n",
              "      <td>SAP Analytics Cloud</td>\n",
              "      <td>NaN</td>\n",
              "      <td>NaN</td>\n",
              "      <td>Automated data augmentation (e.g. imgaug, albu...</td>\n",
              "      <td>Automated feature engineering/selection (e.g. ...</td>\n",
              "      <td>Automated model selection (e.g. auto-sklearn, ...</td>\n",
              "      <td>Automated model architecture searches (e.g. da...</td>\n",
              "      <td>Automated hyperparameter tuning (e.g. hyperopt...</td>\n",
              "      <td>Automation of full ML pipelines (e.g. Google C...</td>\n",
              "      <td>NaN</td>\n",
              "      <td>NaN</td>\n",
              "      <td>Google Cloud AutoML</td>\n",
              "      <td>H20 Driverless AI</td>\n",
              "      <td>Databricks AutoML</td>\n",
              "      <td>DataRobot AutoML</td>\n",
              "      <td>Tpot</td>\n",
              "      <td>Auto-Keras</td>\n",
              "      <td>Auto-Sklearn</td>\n",
              "      <td>Auto_ml</td>\n",
              "      <td>Xcessiv</td>\n",
              "      <td>MLbox</td>\n",
              "      <td>NaN</td>\n",
              "      <td>NaN</td>\n",
              "      <td>Neptune.ai</td>\n",
              "      <td>Weights &amp; Biases</td>\n",
              "      <td>NaN</td>\n",
              "      <td>NaN</td>\n",
              "      <td>TensorBoard</td>\n",
              "      <td>NaN</td>\n",
              "      <td>NaN</td>\n",
              "      <td>Trains</td>\n",
              "      <td>NaN</td>\n",
              "      <td>NaN</td>\n",
              "      <td>NaN</td>\n",
              "    </tr>\n",
              "    <tr>\n",
              "      <th>20036</th>\n",
              "      <td>1031</td>\n",
              "      <td>22-24</td>\n",
              "      <td>Man</td>\n",
              "      <td>Pakistan</td>\n",
              "      <td>Master’s degree</td>\n",
              "      <td>Machine Learning Engineer</td>\n",
              "      <td>&lt; 1 years</td>\n",
              "      <td>Python</td>\n",
              "      <td>NaN</td>\n",
              "      <td>NaN</td>\n",
              "      <td>NaN</td>\n",
              "      <td>NaN</td>\n",
              "      <td>NaN</td>\n",
              "      <td>NaN</td>\n",
              "      <td>NaN</td>\n",
              "      <td>NaN</td>\n",
              "      <td>NaN</td>\n",
              "      <td>NaN</td>\n",
              "      <td>NaN</td>\n",
              "      <td>NaN</td>\n",
              "      <td>Python</td>\n",
              "      <td>Jupyter (JupyterLab, Jupyter Notebooks, etc)</td>\n",
              "      <td>NaN</td>\n",
              "      <td>NaN</td>\n",
              "      <td>NaN</td>\n",
              "      <td>NaN</td>\n",
              "      <td>NaN</td>\n",
              "      <td>NaN</td>\n",
              "      <td>NaN</td>\n",
              "      <td>NaN</td>\n",
              "      <td>NaN</td>\n",
              "      <td>NaN</td>\n",
              "      <td>NaN</td>\n",
              "      <td>NaN</td>\n",
              "      <td>Colab Notebooks</td>\n",
              "      <td>NaN</td>\n",
              "      <td>NaN</td>\n",
              "      <td>NaN</td>\n",
              "      <td>NaN</td>\n",
              "      <td>NaN</td>\n",
              "      <td>...</td>\n",
              "      <td>NaN</td>\n",
              "      <td>NaN</td>\n",
              "      <td>NaN</td>\n",
              "      <td>NaN</td>\n",
              "      <td>NaN</td>\n",
              "      <td>NaN</td>\n",
              "      <td>NaN</td>\n",
              "      <td>None</td>\n",
              "      <td>NaN</td>\n",
              "      <td>Automated data augmentation (e.g. imgaug, albu...</td>\n",
              "      <td>Automated feature engineering/selection (e.g. ...</td>\n",
              "      <td>Automated model selection (e.g. auto-sklearn, ...</td>\n",
              "      <td>NaN</td>\n",
              "      <td>Automated hyperparameter tuning (e.g. hyperopt...</td>\n",
              "      <td>Automation of full ML pipelines (e.g. Google C...</td>\n",
              "      <td>NaN</td>\n",
              "      <td>NaN</td>\n",
              "      <td>Google Cloud AutoML</td>\n",
              "      <td>NaN</td>\n",
              "      <td>NaN</td>\n",
              "      <td>NaN</td>\n",
              "      <td>NaN</td>\n",
              "      <td>Auto-Keras</td>\n",
              "      <td>Auto-Sklearn</td>\n",
              "      <td>NaN</td>\n",
              "      <td>NaN</td>\n",
              "      <td>NaN</td>\n",
              "      <td>NaN</td>\n",
              "      <td>NaN</td>\n",
              "      <td>NaN</td>\n",
              "      <td>Weights &amp; Biases</td>\n",
              "      <td>NaN</td>\n",
              "      <td>NaN</td>\n",
              "      <td>NaN</td>\n",
              "      <td>NaN</td>\n",
              "      <td>NaN</td>\n",
              "      <td>Trains</td>\n",
              "      <td>NaN</td>\n",
              "      <td>NaN</td>\n",
              "      <td>NaN</td>\n",
              "    </tr>\n",
              "  </tbody>\n",
              "</table>\n",
              "<p>20037 rows × 355 columns</p>\n",
              "</div>"
            ],
            "text/plain": [
              "      Time from Start to Finish (seconds)  ...                                        Q35_B_OTHER\n",
              "0                   Duration (in seconds)  ...  In the next 2 years, do you hope to become mor...\n",
              "1                                    1838  ...                                                NaN\n",
              "2                                  289287  ...                                                NaN\n",
              "3                                     860  ...                                                NaN\n",
              "4                                     507  ...                                                NaN\n",
              "...                                   ...  ...                                                ...\n",
              "20032                                 126  ...                                                NaN\n",
              "20033                                 566  ...                                                NaN\n",
              "20034                                 238  ...                                                NaN\n",
              "20035                                 625  ...                                                NaN\n",
              "20036                                1031  ...                                                NaN\n",
              "\n",
              "[20037 rows x 355 columns]"
            ]
          },
          "metadata": {
            "tags": []
          },
          "execution_count": 64
        }
      ]
    },
    {
      "cell_type": "code",
      "metadata": {
        "id": "yT7ypptqQ7Cb"
      },
      "source": [
        "# 박사 학위 소지자들만 골라보자.\n",
        "phd=data2[data2[\"Q4\"] == \"Doctoral degree\"]"
      ],
      "execution_count": 66,
      "outputs": []
    },
    {
      "cell_type": "code",
      "metadata": {
        "id": "dno5AK90Q7Cc"
      },
      "source": [
        "# 박사 학위 소지자들에 대한 정보만 kaggle_survey_2020_phd.csv로 다시 저장하자.\n",
        "phd.to_csv(\"/content/kaggle_survey_2020_phd.csv\")"
      ],
      "execution_count": 67,
      "outputs": []
    },
    {
      "cell_type": "code",
      "metadata": {
        "scrolled": false,
        "id": "vM_M7qcCQ7Cc"
      },
      "source": [
        "# (OPTIONAL) 박사 학위 소지자이면서, 대한민국 국적을 가진 사람들을 뽑아보자.\n",
        "phd_Korea= phd[phd[\"Q3\"]== \"South Korea\"]"
      ],
      "execution_count": 70,
      "outputs": []
    },
    {
      "cell_type": "code",
      "metadata": {
        "id": "ZaoLSz15Q7Cc"
      },
      "source": [
        ""
      ],
      "execution_count": null,
      "outputs": []
    }
  ]
}