{
  "nbformat": 4,
  "nbformat_minor": 0,
  "metadata": {
    "colab": {
      "name": "DEEP LEARNING DAY1의 사본",
      "provenance": [],
      "collapsed_sections": [],
      "mount_file_id": "1C-YxwSu9a8enx6dAtqHSvP8oF9uWW81k",
      "authorship_tag": "ABX9TyMswf6qGc0vu+QEuG8bjU4G",
      "include_colab_link": true
    },
    "kernelspec": {
      "name": "python3",
      "display_name": "Python 3"
    }
  },
  "cells": [
    {
      "cell_type": "markdown",
      "metadata": {
        "id": "view-in-github",
        "colab_type": "text"
      },
      "source": [
        "<a href=\"https://colab.research.google.com/github/kyt50207/StudyML/blob/main/DEEP_LEARNING_DAY1%EC%9D%98_%EC%82%AC%EB%B3%B8.ipynb\" target=\"_parent\"><img src=\"https://colab.research.google.com/assets/colab-badge.svg\" alt=\"Open In Colab\"/></a>"
      ]
    },
    {
      "cell_type": "code",
      "metadata": {
        "id": "VhXwXM4e74Pw"
      },
      "source": [
        "import pandas as pd\r\n"
      ],
      "execution_count": null,
      "outputs": []
    },
    {
      "cell_type": "code",
      "metadata": {
        "colab": {
          "base_uri": "https://localhost:8080/"
        },
        "id": "YcJ3CAUjNdQY",
        "outputId": "78dadacf-24f2-4ad2-bdfe-5333cd561438"
      },
      "source": [
        "titles = pd.read_csv(\"/content/sample_data/titles.csv\",error_bad_lines=False)"
      ],
      "execution_count": null,
      "outputs": [
        {
          "output_type": "stream",
          "text": [
            "b'Skipping line 170399: expected 2 fields, saw 3\\n'\n"
          ],
          "name": "stderr"
        }
      ]
    },
    {
      "cell_type": "code",
      "metadata": {
        "colab": {
          "base_uri": "https://localhost:8080/",
          "height": 419
        },
        "id": "k0fhKm6MNmkX",
        "outputId": "718faa48-c45d-4cb3-8fed-e296ea8ad20f"
      },
      "source": [
        "titles"
      ],
      "execution_count": null,
      "outputs": [
        {
          "output_type": "execute_result",
          "data": {
            "text/html": [
              "<div>\n",
              "<style scoped>\n",
              "    .dataframe tbody tr th:only-of-type {\n",
              "        vertical-align: middle;\n",
              "    }\n",
              "\n",
              "    .dataframe tbody tr th {\n",
              "        vertical-align: top;\n",
              "    }\n",
              "\n",
              "    .dataframe thead th {\n",
              "        text-align: right;\n",
              "    }\n",
              "</style>\n",
              "<table border=\"1\" class=\"dataframe\">\n",
              "  <thead>\n",
              "    <tr style=\"text-align: right;\">\n",
              "      <th></th>\n",
              "      <th>title</th>\n",
              "      <th>year</th>\n",
              "    </tr>\n",
              "  </thead>\n",
              "  <tbody>\n",
              "    <tr>\n",
              "      <th>0</th>\n",
              "      <td>The Rising Son</td>\n",
              "      <td>1990.0</td>\n",
              "    </tr>\n",
              "    <tr>\n",
              "      <th>1</th>\n",
              "      <td>Ashes of Kukulcan</td>\n",
              "      <td>2016.0</td>\n",
              "    </tr>\n",
              "    <tr>\n",
              "      <th>2</th>\n",
              "      <td>The Thousand Plane Raid</td>\n",
              "      <td>1969.0</td>\n",
              "    </tr>\n",
              "    <tr>\n",
              "      <th>3</th>\n",
              "      <td>Crucea de piatra</td>\n",
              "      <td>1993.0</td>\n",
              "    </tr>\n",
              "    <tr>\n",
              "      <th>4</th>\n",
              "      <td>The 86</td>\n",
              "      <td>2015.0</td>\n",
              "    </tr>\n",
              "    <tr>\n",
              "      <th>...</th>\n",
              "      <td>...</td>\n",
              "      <td>...</td>\n",
              "    </tr>\n",
              "    <tr>\n",
              "      <th>295335</th>\n",
              "      <td>Le mouton noir</td>\n",
              "      <td>1922.0</td>\n",
              "    </tr>\n",
              "    <tr>\n",
              "      <th>295336</th>\n",
              "      <td>Edge of the Unknown</td>\n",
              "      <td>2015.0</td>\n",
              "    </tr>\n",
              "    <tr>\n",
              "      <th>295337</th>\n",
              "      <td>E yue</td>\n",
              "      <td>2005.0</td>\n",
              "    </tr>\n",
              "    <tr>\n",
              "      <th>295338</th>\n",
              "      <td>Lakota Girls</td>\n",
              "      <td>2015.0</td>\n",
              "    </tr>\n",
              "    <tr>\n",
              "      <th>295339</th>\n",
              "      <td>The Sting II</td>\n",
              "      <td>1983.0</td>\n",
              "    </tr>\n",
              "  </tbody>\n",
              "</table>\n",
              "<p>295340 rows × 2 columns</p>\n",
              "</div>"
            ],
            "text/plain": [
              "                          title    year\n",
              "0                The Rising Son  1990.0\n",
              "1             Ashes of Kukulcan  2016.0\n",
              "2       The Thousand Plane Raid  1969.0\n",
              "3              Crucea de piatra  1993.0\n",
              "4                        The 86  2015.0\n",
              "...                         ...     ...\n",
              "295335           Le mouton noir  1922.0\n",
              "295336      Edge of the Unknown  2015.0\n",
              "295337                    E yue  2005.0\n",
              "295338             Lakota Girls  2015.0\n",
              "295339             The Sting II  1983.0\n",
              "\n",
              "[295340 rows x 2 columns]"
            ]
          },
          "metadata": {
            "tags": []
          },
          "execution_count": 21
        }
      ]
    },
    {
      "cell_type": "code",
      "metadata": {
        "colab": {
          "base_uri": "https://localhost:8080/"
        },
        "id": "K_9eEwNaY7BB",
        "outputId": "ca0cd036-7baf-4676-e0c5-29d37098eef7"
      },
      "source": [
        "len(titles)"
      ],
      "execution_count": null,
      "outputs": [
        {
          "output_type": "execute_result",
          "data": {
            "text/plain": [
              "295340"
            ]
          },
          "metadata": {
            "tags": []
          },
          "execution_count": 22
        }
      ]
    },
    {
      "cell_type": "code",
      "metadata": {
        "colab": {
          "base_uri": "https://localhost:8080/",
          "height": 419
        },
        "id": "-CSeGFYyZIfX",
        "outputId": "5c89e310-189f-43f0-b1e5-318a669764d1"
      },
      "source": [
        "titles.sort_values('year')"
      ],
      "execution_count": null,
      "outputs": [
        {
          "output_type": "execute_result",
          "data": {
            "text/html": [
              "<div>\n",
              "<style scoped>\n",
              "    .dataframe tbody tr th:only-of-type {\n",
              "        vertical-align: middle;\n",
              "    }\n",
              "\n",
              "    .dataframe tbody tr th {\n",
              "        vertical-align: top;\n",
              "    }\n",
              "\n",
              "    .dataframe thead th {\n",
              "        text-align: right;\n",
              "    }\n",
              "</style>\n",
              "<table border=\"1\" class=\"dataframe\">\n",
              "  <thead>\n",
              "    <tr style=\"text-align: right;\">\n",
              "      <th></th>\n",
              "      <th>title</th>\n",
              "      <th>year</th>\n",
              "    </tr>\n",
              "  </thead>\n",
              "  <tbody>\n",
              "    <tr>\n",
              "      <th>74193</th>\n",
              "      <td>Miss Jerry</td>\n",
              "      <td>1894.0</td>\n",
              "    </tr>\n",
              "    <tr>\n",
              "      <th>244541</th>\n",
              "      <td>Miss Jerry</td>\n",
              "      <td>1894.0</td>\n",
              "    </tr>\n",
              "    <tr>\n",
              "      <th>131159</th>\n",
              "      <td>Reproduction of the Corbett and Fitzsimmons Fight</td>\n",
              "      <td>1897.0</td>\n",
              "    </tr>\n",
              "    <tr>\n",
              "      <th>152771</th>\n",
              "      <td>Sharkey-McCoy Fight Reproduced in 10 Rounds</td>\n",
              "      <td>1899.0</td>\n",
              "    </tr>\n",
              "    <tr>\n",
              "      <th>195262</th>\n",
              "      <td>Reproduction of the Corbett and Jeffries Fight</td>\n",
              "      <td>1899.0</td>\n",
              "    </tr>\n",
              "    <tr>\n",
              "      <th>...</th>\n",
              "      <td>...</td>\n",
              "      <td>...</td>\n",
              "    </tr>\n",
              "    <tr>\n",
              "      <th>264727</th>\n",
              "      <td>The Tree of Death</td>\n",
              "      <td>2022.0</td>\n",
              "    </tr>\n",
              "    <tr>\n",
              "      <th>279149</th>\n",
              "      <td>New in Village</td>\n",
              "      <td>2024.0</td>\n",
              "    </tr>\n",
              "    <tr>\n",
              "      <th>44198</th>\n",
              "      <td>Wild Runs</td>\n",
              "      <td>2024.0</td>\n",
              "    </tr>\n",
              "    <tr>\n",
              "      <th>154207</th>\n",
              "      <td>New in Village</td>\n",
              "      <td>2024.0</td>\n",
              "    </tr>\n",
              "    <tr>\n",
              "      <th>45631</th>\n",
              "      <td>Gui mian 2015</td>\n",
              "      <td>NaN</td>\n",
              "    </tr>\n",
              "  </tbody>\n",
              "</table>\n",
              "<p>295340 rows × 2 columns</p>\n",
              "</div>"
            ],
            "text/plain": [
              "                                                    title    year\n",
              "74193                                          Miss Jerry  1894.0\n",
              "244541                                         Miss Jerry  1894.0\n",
              "131159  Reproduction of the Corbett and Fitzsimmons Fight  1897.0\n",
              "152771        Sharkey-McCoy Fight Reproduced in 10 Rounds  1899.0\n",
              "195262     Reproduction of the Corbett and Jeffries Fight  1899.0\n",
              "...                                                   ...     ...\n",
              "264727                                  The Tree of Death  2022.0\n",
              "279149                                     New in Village  2024.0\n",
              "44198                                           Wild Runs  2024.0\n",
              "154207                                     New in Village  2024.0\n",
              "45631                                       Gui mian 2015     NaN\n",
              "\n",
              "[295340 rows x 2 columns]"
            ]
          },
          "metadata": {
            "tags": []
          },
          "execution_count": 23
        }
      ]
    },
    {
      "cell_type": "code",
      "metadata": {
        "colab": {
          "base_uri": "https://localhost:8080/",
          "height": 886
        },
        "id": "Oa9jeiFoZI6_",
        "outputId": "ff578919-2659-47a8-c26b-dc4b3670d9c4"
      },
      "source": [
        "is_hamlet = titles['title'] == 'Hamlet'\r\n",
        "hamlet = titles[is_hamlet]\r\n",
        "hamlet"
      ],
      "execution_count": null,
      "outputs": [
        {
          "output_type": "execute_result",
          "data": {
            "text/html": [
              "<div>\n",
              "<style scoped>\n",
              "    .dataframe tbody tr th:only-of-type {\n",
              "        vertical-align: middle;\n",
              "    }\n",
              "\n",
              "    .dataframe tbody tr th {\n",
              "        vertical-align: top;\n",
              "    }\n",
              "\n",
              "    .dataframe thead th {\n",
              "        text-align: right;\n",
              "    }\n",
              "</style>\n",
              "<table border=\"1\" class=\"dataframe\">\n",
              "  <thead>\n",
              "    <tr style=\"text-align: right;\">\n",
              "      <th></th>\n",
              "      <th>title</th>\n",
              "      <th>year</th>\n",
              "    </tr>\n",
              "  </thead>\n",
              "  <tbody>\n",
              "    <tr>\n",
              "      <th>5562</th>\n",
              "      <td>Hamlet</td>\n",
              "      <td>1948.0</td>\n",
              "    </tr>\n",
              "    <tr>\n",
              "      <th>26160</th>\n",
              "      <td>Hamlet</td>\n",
              "      <td>2016.0</td>\n",
              "    </tr>\n",
              "    <tr>\n",
              "      <th>37373</th>\n",
              "      <td>Hamlet</td>\n",
              "      <td>2015.0</td>\n",
              "    </tr>\n",
              "    <tr>\n",
              "      <th>42224</th>\n",
              "      <td>Hamlet</td>\n",
              "      <td>1990.0</td>\n",
              "    </tr>\n",
              "    <tr>\n",
              "      <th>43511</th>\n",
              "      <td>Hamlet</td>\n",
              "      <td>1910.0</td>\n",
              "    </tr>\n",
              "    <tr>\n",
              "      <th>63638</th>\n",
              "      <td>Hamlet</td>\n",
              "      <td>1913.0</td>\n",
              "    </tr>\n",
              "    <tr>\n",
              "      <th>72656</th>\n",
              "      <td>Hamlet</td>\n",
              "      <td>2009.0</td>\n",
              "    </tr>\n",
              "    <tr>\n",
              "      <th>79007</th>\n",
              "      <td>Hamlet</td>\n",
              "      <td>1964.0</td>\n",
              "    </tr>\n",
              "    <tr>\n",
              "      <th>113690</th>\n",
              "      <td>Hamlet</td>\n",
              "      <td>1954.0</td>\n",
              "    </tr>\n",
              "    <tr>\n",
              "      <th>131192</th>\n",
              "      <td>Hamlet</td>\n",
              "      <td>1976.0</td>\n",
              "    </tr>\n",
              "    <tr>\n",
              "      <th>133232</th>\n",
              "      <td>Hamlet</td>\n",
              "      <td>1987.0</td>\n",
              "    </tr>\n",
              "    <tr>\n",
              "      <th>133422</th>\n",
              "      <td>Hamlet</td>\n",
              "      <td>2000.0</td>\n",
              "    </tr>\n",
              "    <tr>\n",
              "      <th>141405</th>\n",
              "      <td>Hamlet</td>\n",
              "      <td>1996.0</td>\n",
              "    </tr>\n",
              "    <tr>\n",
              "      <th>147232</th>\n",
              "      <td>Hamlet</td>\n",
              "      <td>2011.0</td>\n",
              "    </tr>\n",
              "    <tr>\n",
              "      <th>149432</th>\n",
              "      <td>Hamlet</td>\n",
              "      <td>1911.0</td>\n",
              "    </tr>\n",
              "    <tr>\n",
              "      <th>160238</th>\n",
              "      <td>Hamlet</td>\n",
              "      <td>1973.0</td>\n",
              "    </tr>\n",
              "    <tr>\n",
              "      <th>162210</th>\n",
              "      <td>Hamlet</td>\n",
              "      <td>2014.0</td>\n",
              "    </tr>\n",
              "    <tr>\n",
              "      <th>171069</th>\n",
              "      <td>Hamlet</td>\n",
              "      <td>1921.0</td>\n",
              "    </tr>\n",
              "    <tr>\n",
              "      <th>193583</th>\n",
              "      <td>Hamlet</td>\n",
              "      <td>1969.0</td>\n",
              "    </tr>\n",
              "    <tr>\n",
              "      <th>233986</th>\n",
              "      <td>Hamlet</td>\n",
              "      <td>1913.0</td>\n",
              "    </tr>\n",
              "    <tr>\n",
              "      <th>243004</th>\n",
              "      <td>Hamlet</td>\n",
              "      <td>2009.0</td>\n",
              "    </tr>\n",
              "    <tr>\n",
              "      <th>249355</th>\n",
              "      <td>Hamlet</td>\n",
              "      <td>1964.0</td>\n",
              "    </tr>\n",
              "    <tr>\n",
              "      <th>266347</th>\n",
              "      <td>Hamlet</td>\n",
              "      <td>1996.0</td>\n",
              "    </tr>\n",
              "    <tr>\n",
              "      <th>272174</th>\n",
              "      <td>Hamlet</td>\n",
              "      <td>2011.0</td>\n",
              "    </tr>\n",
              "    <tr>\n",
              "      <th>274374</th>\n",
              "      <td>Hamlet</td>\n",
              "      <td>1911.0</td>\n",
              "    </tr>\n",
              "    <tr>\n",
              "      <th>285180</th>\n",
              "      <td>Hamlet</td>\n",
              "      <td>1973.0</td>\n",
              "    </tr>\n",
              "    <tr>\n",
              "      <th>287152</th>\n",
              "      <td>Hamlet</td>\n",
              "      <td>2014.0</td>\n",
              "    </tr>\n",
              "  </tbody>\n",
              "</table>\n",
              "</div>"
            ],
            "text/plain": [
              "         title    year\n",
              "5562    Hamlet  1948.0\n",
              "26160   Hamlet  2016.0\n",
              "37373   Hamlet  2015.0\n",
              "42224   Hamlet  1990.0\n",
              "43511   Hamlet  1910.0\n",
              "63638   Hamlet  1913.0\n",
              "72656   Hamlet  2009.0\n",
              "79007   Hamlet  1964.0\n",
              "113690  Hamlet  1954.0\n",
              "131192  Hamlet  1976.0\n",
              "133232  Hamlet  1987.0\n",
              "133422  Hamlet  2000.0\n",
              "141405  Hamlet  1996.0\n",
              "147232  Hamlet  2011.0\n",
              "149432  Hamlet  1911.0\n",
              "160238  Hamlet  1973.0\n",
              "162210  Hamlet  2014.0\n",
              "171069  Hamlet  1921.0\n",
              "193583  Hamlet  1969.0\n",
              "233986  Hamlet  1913.0\n",
              "243004  Hamlet  2009.0\n",
              "249355  Hamlet  1964.0\n",
              "266347  Hamlet  1996.0\n",
              "272174  Hamlet  2011.0\n",
              "274374  Hamlet  1911.0\n",
              "285180  Hamlet  1973.0\n",
              "287152  Hamlet  2014.0"
            ]
          },
          "metadata": {
            "tags": []
          },
          "execution_count": 24
        }
      ]
    },
    {
      "cell_type": "code",
      "metadata": {
        "colab": {
          "base_uri": "https://localhost:8080/",
          "height": 421
        },
        "id": "GwWktMI7ZPXF",
        "outputId": "5dc9af2e-a6ad-4e51-d81e-34efdc652426"
      },
      "source": [
        "is_TreasureIsland = titles['title'] == 'Treasure Island'\r\n",
        "TreasureIsland = titles[is_TreasureIsland]\r\n",
        "TreasureIsland = TreasureIsland.sort_values('year',ascending=True)\r\n",
        "TreasureIsland"
      ],
      "execution_count": null,
      "outputs": [
        {
          "output_type": "execute_result",
          "data": {
            "text/html": [
              "<div>\n",
              "<style scoped>\n",
              "    .dataframe tbody tr th:only-of-type {\n",
              "        vertical-align: middle;\n",
              "    }\n",
              "\n",
              "    .dataframe tbody tr th {\n",
              "        vertical-align: top;\n",
              "    }\n",
              "\n",
              "    .dataframe thead th {\n",
              "        text-align: right;\n",
              "    }\n",
              "</style>\n",
              "<table border=\"1\" class=\"dataframe\">\n",
              "  <thead>\n",
              "    <tr style=\"text-align: right;\">\n",
              "      <th></th>\n",
              "      <th>title</th>\n",
              "      <th>year</th>\n",
              "    </tr>\n",
              "  </thead>\n",
              "  <tbody>\n",
              "    <tr>\n",
              "      <th>145796</th>\n",
              "      <td>Treasure Island</td>\n",
              "      <td>1918.0</td>\n",
              "    </tr>\n",
              "    <tr>\n",
              "      <th>270738</th>\n",
              "      <td>Treasure Island</td>\n",
              "      <td>1918.0</td>\n",
              "    </tr>\n",
              "    <tr>\n",
              "      <th>93220</th>\n",
              "      <td>Treasure Island</td>\n",
              "      <td>1920.0</td>\n",
              "    </tr>\n",
              "    <tr>\n",
              "      <th>147334</th>\n",
              "      <td>Treasure Island</td>\n",
              "      <td>1934.0</td>\n",
              "    </tr>\n",
              "    <tr>\n",
              "      <th>272276</th>\n",
              "      <td>Treasure Island</td>\n",
              "      <td>1934.0</td>\n",
              "    </tr>\n",
              "    <tr>\n",
              "      <th>135626</th>\n",
              "      <td>Treasure Island</td>\n",
              "      <td>1950.0</td>\n",
              "    </tr>\n",
              "    <tr>\n",
              "      <th>184073</th>\n",
              "      <td>Treasure Island</td>\n",
              "      <td>1972.0</td>\n",
              "    </tr>\n",
              "    <tr>\n",
              "      <th>183005</th>\n",
              "      <td>Treasure Island</td>\n",
              "      <td>1973.0</td>\n",
              "    </tr>\n",
              "    <tr>\n",
              "      <th>145209</th>\n",
              "      <td>Treasure Island</td>\n",
              "      <td>1985.0</td>\n",
              "    </tr>\n",
              "    <tr>\n",
              "      <th>270151</th>\n",
              "      <td>Treasure Island</td>\n",
              "      <td>1985.0</td>\n",
              "    </tr>\n",
              "    <tr>\n",
              "      <th>75686</th>\n",
              "      <td>Treasure Island</td>\n",
              "      <td>1999.0</td>\n",
              "    </tr>\n",
              "    <tr>\n",
              "      <th>246034</th>\n",
              "      <td>Treasure Island</td>\n",
              "      <td>1999.0</td>\n",
              "    </tr>\n",
              "  </tbody>\n",
              "</table>\n",
              "</div>"
            ],
            "text/plain": [
              "                  title    year\n",
              "145796  Treasure Island  1918.0\n",
              "270738  Treasure Island  1918.0\n",
              "93220   Treasure Island  1920.0\n",
              "147334  Treasure Island  1934.0\n",
              "272276  Treasure Island  1934.0\n",
              "135626  Treasure Island  1950.0\n",
              "184073  Treasure Island  1972.0\n",
              "183005  Treasure Island  1973.0\n",
              "145209  Treasure Island  1985.0\n",
              "270151  Treasure Island  1985.0\n",
              "75686   Treasure Island  1999.0\n",
              "246034  Treasure Island  1999.0"
            ]
          },
          "metadata": {
            "tags": []
          },
          "execution_count": 25
        }
      ]
    },
    {
      "cell_type": "code",
      "metadata": {
        "colab": {
          "base_uri": "https://localhost:8080/"
        },
        "id": "v1q2-L4gZVyt",
        "outputId": "e52b21f8-15d1-42e2-b091-4416d0066341"
      },
      "source": [
        "is_50s = titles['year'] >= 1950\r\n",
        "is_50a = titles['year'] <= 1959\r\n",
        "subset_df = titles[is_50a & is_50s]\r\n",
        "len(subset_df)"
      ],
      "execution_count": null,
      "outputs": [
        {
          "output_type": "execute_result",
          "data": {
            "text/plain": [
              "16424"
            ]
          },
          "metadata": {
            "tags": []
          },
          "execution_count": 18
        }
      ]
    },
    {
      "cell_type": "code",
      "metadata": {
        "id": "_3VpAVeFZhLN"
      },
      "source": [
        "# #pd 기본          (암기 필수!)\r\n",
        "# -pd.head()\r\n",
        "# -pd.shape\r\n",
        "# -pd.columns\r\n",
        "# -pd.info\r\n",
        "# -pd.tail()\r\n",
        "# -pd.describe_option\r\n",
        "# -pd.isnull().sum()"
      ],
      "execution_count": null,
      "outputs": []
    },
    {
      "cell_type": "code",
      "metadata": {
        "id": "gCYv8JoGcR87"
      },
      "source": [
        "#@title 싸이키런의 앙상블에서 랜덤포레스트 클래스파이어 사용해보기\n",
        "\n",
        "\n",
        "from sklearn.ensemble import RandomForestClassifier"
      ],
      "execution_count": null,
      "outputs": []
    },
    {
      "cell_type": "code",
      "metadata": {
        "id": "xICW0Xr8gdR8"
      },
      "source": [
        "clf = RandomForestClassifier(random_state=123) #1. 클래스 선언\r\n",
        "X = [[ 1,  2,  3],  \r\n",
        "     [11, 12, 13],\r\n",
        "     [23,33,45]] #2samples , 3 features 독립변수 입력값.\r\n",
        "y = [0, 1,0]    # classes of each sample#종속변수 레이블"
      ],
      "execution_count": null,
      "outputs": []
    },
    {
      "cell_type": "code",
      "metadata": {
        "colab": {
          "base_uri": "https://localhost:8080/"
        },
        "id": "AITx4KfPgxxJ",
        "outputId": "c5d20ebd-29b8-4832-82ba-30aff5bd2361"
      },
      "source": [
        "clf.fit(X, y) #2.fit라는 알고리즘으로 학습시키기\r\n"
      ],
      "execution_count": null,
      "outputs": [
        {
          "output_type": "execute_result",
          "data": {
            "text/plain": [
              "RandomForestClassifier(bootstrap=True, ccp_alpha=0.0, class_weight=None,\n",
              "                       criterion='gini', max_depth=None, max_features='auto',\n",
              "                       max_leaf_nodes=None, max_samples=None,\n",
              "                       min_impurity_decrease=0.0, min_impurity_split=None,\n",
              "                       min_samples_leaf=1, min_samples_split=2,\n",
              "                       min_weight_fraction_leaf=0.0, n_estimators=100,\n",
              "                       n_jobs=None, oob_score=False, random_state=123,\n",
              "                       verbose=0, warm_start=False)"
            ]
          },
          "metadata": {
            "tags": []
          },
          "execution_count": 36
        }
      ]
    },
    {
      "cell_type": "code",
      "metadata": {
        "colab": {
          "base_uri": "https://localhost:8080/"
        },
        "id": "eX-0UXODg2ZG",
        "outputId": "052c7980-bbfa-449e-fbd3-487d0c69be16"
      },
      "source": [
        "clf.predict(X)  #3. predict하기       "
      ],
      "execution_count": null,
      "outputs": [
        {
          "output_type": "execute_result",
          "data": {
            "text/plain": [
              "array([0, 1, 0])"
            ]
          },
          "metadata": {
            "tags": []
          },
          "execution_count": 37
        }
      ]
    },
    {
      "cell_type": "code",
      "metadata": {
        "colab": {
          "base_uri": "https://localhost:8080/"
        },
        "id": "-t0wzhcGhwqn",
        "outputId": "332ebb94-32b1-4076-e6d0-1e1e4f08868c"
      },
      "source": [
        "clf.predict([[234,23,456],[25,685,76]])    #다른 값으로 예측해보기"
      ],
      "execution_count": null,
      "outputs": [
        {
          "output_type": "execute_result",
          "data": {
            "text/plain": [
              "array([0, 0])"
            ]
          },
          "metadata": {
            "tags": []
          },
          "execution_count": 38
        }
      ]
    },
    {
      "cell_type": "code",
      "metadata": {
        "id": "TsFP33FWiCZK"
      },
      "source": [
        "import numpy as np"
      ],
      "execution_count": null,
      "outputs": []
    },
    {
      "cell_type": "code",
      "metadata": {
        "colab": {
          "base_uri": "https://localhost:8080/"
        },
        "id": "v-qLeJM0sq2E",
        "outputId": "737f1162-608f-46c1-892a-fe1330c9d48d"
      },
      "source": [
        "rs = np.random.RandomState(10) #괄호안의 숫자가 중요함\r\n",
        "x=10*rs.rand(5)\r\n",
        "y=2*x -1*rs.rand(5)\r\n",
        "x.shape, y.shape"
      ],
      "execution_count": null,
      "outputs": [
        {
          "output_type": "execute_result",
          "data": {
            "text/plain": [
              "((5,), (5,))"
            ]
          },
          "metadata": {
            "tags": []
          },
          "execution_count": 47
        }
      ]
    },
    {
      "cell_type": "code",
      "metadata": {
        "colab": {
          "base_uri": "https://localhost:8080/",
          "height": 190
        },
        "id": "S0Jmn4bfs89e",
        "outputId": "80049d99-0038-4b2f-de97-23496f885608"
      },
      "source": [
        "X = x.reshape(3,3)\r\n",
        "X.shape"
      ],
      "execution_count": null,
      "outputs": [
        {
          "output_type": "error",
          "ename": "ValueError",
          "evalue": "ignored",
          "traceback": [
            "\u001b[0;31m---------------------------------------------------------------------------\u001b[0m",
            "\u001b[0;31mValueError\u001b[0m                                Traceback (most recent call last)",
            "\u001b[0;32m<ipython-input-50-0b2b08eecf5d>\u001b[0m in \u001b[0;36m<module>\u001b[0;34m()\u001b[0m\n\u001b[0;32m----> 1\u001b[0;31m \u001b[0mX\u001b[0m \u001b[0;34m=\u001b[0m \u001b[0mx\u001b[0m\u001b[0;34m.\u001b[0m\u001b[0mreshape\u001b[0m\u001b[0;34m(\u001b[0m\u001b[0;36m3\u001b[0m\u001b[0;34m,\u001b[0m\u001b[0;36m3\u001b[0m\u001b[0;34m)\u001b[0m\u001b[0;34m\u001b[0m\u001b[0;34m\u001b[0m\u001b[0m\n\u001b[0m\u001b[1;32m      2\u001b[0m \u001b[0mX\u001b[0m\u001b[0;34m.\u001b[0m\u001b[0mshape\u001b[0m\u001b[0;34m\u001b[0m\u001b[0;34m\u001b[0m\u001b[0m\n",
            "\u001b[0;31mValueError\u001b[0m: cannot reshape array of size 5 into shape (3,3)"
          ]
        }
      ]
    },
    {
      "cell_type": "code",
      "metadata": {
        "id": "Ad4NTlqPYAZu"
      },
      "source": [
        ""
      ],
      "execution_count": null,
      "outputs": []
    },
    {
      "cell_type": "code",
      "metadata": {
        "id": "tqp25OQAtgV8"
      },
      "source": [
        ""
      ],
      "execution_count": null,
      "outputs": []
    }
  ]
}